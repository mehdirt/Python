{
 "cells": [
  {
   "cell_type": "markdown",
   "id": "52f3be5c",
   "metadata": {
    "tags": []
   },
   "source": [
    "# Pytopia Python-2022 Problem Set "
   ]
  },
  {
   "cell_type": "markdown",
   "id": "eeae23a9",
   "metadata": {},
   "source": [
    "***This is a problem set that contains all Python problems I have solved since I start learning Python course from [Pytopia](https://www.pytopia.ai/course/python). I almost gathered them all here. Hope you enjoy solving them as well as I did 😉.***"
   ]
  },
  {
   "cell_type": "markdown",
   "id": "41d30af4",
   "metadata": {},
   "source": [
    "**Author:** *Mahdi Rafati*"
   ]
  },
  {
   "cell_type": "markdown",
   "id": "314492d0",
   "metadata": {},
   "source": [
    "---"
   ]
  },
  {
   "cell_type": "markdown",
   "id": "857cae60",
   "metadata": {
    "tags": []
   },
   "source": [
    "## Variables & Basic Data Types"
   ]
  },
  {
   "cell_type": "markdown",
   "id": "31def266",
   "metadata": {
    "tags": []
   },
   "source": [
    "### *Warm-Up*"
   ]
  },
  {
   "cell_type": "markdown",
   "id": "09d8ffb4",
   "metadata": {},
   "source": [
    "Ali's programming teacher asks him to define two variables `inp_1` and `inp_2` and assign values `10` and `35` to them. then put `inp_1 + inp_2` in variable result and print it. Ali is a lazy student and asks you to do this for him!"
   ]
  },
  {
   "cell_type": "code",
   "execution_count": 1,
   "id": "4cb35fc5",
   "metadata": {},
   "outputs": [],
   "source": [
    "inp_1 = 10"
   ]
  },
  {
   "cell_type": "code",
   "execution_count": 2,
   "id": "c61e5447",
   "metadata": {},
   "outputs": [],
   "source": [
    "inp_2 = 35"
   ]
  },
  {
   "cell_type": "code",
   "execution_count": 3,
   "id": "3e9c1a71",
   "metadata": {},
   "outputs": [],
   "source": [
    "result = inp_1 + inp_2"
   ]
  },
  {
   "cell_type": "code",
   "execution_count": 4,
   "id": "32e1c2c0",
   "metadata": {},
   "outputs": [
    {
     "name": "stdout",
     "output_type": "stream",
     "text": [
      "45\n"
     ]
    }
   ],
   "source": [
    "print(result)"
   ]
  },
  {
   "cell_type": "markdown",
   "id": "90b58aa9",
   "metadata": {},
   "source": [
    "***<font color=\"gold\">Resource:</font>*** [Pytopia](https://www.pytopia.ai/)"
   ]
  },
  {
   "cell_type": "markdown",
   "id": "4a3cf82d",
   "metadata": {},
   "source": [
    "Write a program that does the following in order:\n",
    "1. Asks the user to enter a number “x”\n",
    "2. Asks the user to enter a number “y” \n",
    "3. Prints out number “x”, raised to the power “y”.\n",
    "4. Prints out the log (base 2) of “x”. "
   ]
  },
  {
   "cell_type": "code",
   "execution_count": 1,
   "id": "1705635e",
   "metadata": {},
   "outputs": [],
   "source": [
    "import numpy"
   ]
  },
  {
   "cell_type": "code",
   "execution_count": 2,
   "id": "6e053907",
   "metadata": {},
   "outputs": [
    {
     "name": "stdin",
     "output_type": "stream",
     "text": [
      "Enter number x:  3\n",
      "Enter number y:  4\n"
     ]
    }
   ],
   "source": [
    "x = int(input('Enter number x: '))\n",
    "y = int(input('Enter number y: '))"
   ]
  },
  {
   "cell_type": "code",
   "execution_count": 3,
   "id": "e67ad03d",
   "metadata": {},
   "outputs": [
    {
     "name": "stdout",
     "output_type": "stream",
     "text": [
      "X**y = 81\n",
      "log(x) = 1.584962500721156\n"
     ]
    }
   ],
   "source": [
    "print(f'X**y = {x**y}')\n",
    "print(f'log(x) = {numpy.log2(x)}')"
   ]
  },
  {
   "cell_type": "markdown",
   "id": "cb9c182c",
   "metadata": {},
   "source": [
    "***<font color=\"gold\">Resource:</font>*** [MIT](https://ocw.mit.edu/courses/6-0001-introduction-to-computer-science-and-programming-in-python-fall-2016/)"
   ]
  },
  {
   "cell_type": "markdown",
   "id": "0a0b444e",
   "metadata": {},
   "source": [
    "### *Easy sum* "
   ]
  },
  {
   "cell_type": "markdown",
   "id": "d7a674e1",
   "metadata": {},
   "source": [
    "We ask Ali to write a code that takes two inputs from the user and saves them in two desired variables, and then puts the sum of the two inputs in a variable and prints the result. Since Ali does not know the syntax of python, we ask you to help him to write this code!"
   ]
  },
  {
   "cell_type": "code",
   "execution_count": 5,
   "id": "7c65bd39",
   "metadata": {},
   "outputs": [
    {
     "name": "stdin",
     "output_type": "stream",
     "text": [
      "Enter a number:  3\n",
      "Enter another number:  4\n"
     ]
    }
   ],
   "source": [
    "input_1 = int(input(\"Enter a number: \"))\n",
    "input_2 = int(input(\"Enter another number: \"))"
   ]
  },
  {
   "cell_type": "code",
   "execution_count": 6,
   "id": "0413deaf",
   "metadata": {},
   "outputs": [
    {
     "name": "stdout",
     "output_type": "stream",
     "text": [
      "7\n"
     ]
    }
   ],
   "source": [
    "result = input_1 + input_2\n",
    "print(result)"
   ]
  },
  {
   "cell_type": "markdown",
   "id": "68baf7a9",
   "metadata": {},
   "source": [
    "***<font color=\"gold\">Resource:</font>*** [Pytopia](https://www.pytopia.ai/)"
   ]
  },
  {
   "cell_type": "markdown",
   "id": "8201ed52",
   "metadata": {},
   "source": [
    "### *Custum Swap*"
   ]
  },
  {
   "cell_type": "markdown",
   "id": "07e87d88",
   "metadata": {},
   "source": [
    "Ali has a problem with one of his python practices. He wants to get two numbers as input from the user and put them in `input_1` and `input_2` . then Swap the values of the two variables so that `input_1` has the value of `input_2` and vice versa. Finally, print out the two variables.  "
   ]
  },
  {
   "cell_type": "code",
   "execution_count": 7,
   "id": "621182c6",
   "metadata": {},
   "outputs": [
    {
     "name": "stdin",
     "output_type": "stream",
     "text": [
      "Enter a number:  4\n",
      "Enter another number:  5\n"
     ]
    }
   ],
   "source": [
    "num_1 = int(input(\"Enter a number: \"))\n",
    "num_2 = int(input(\"Enter another number: \"))"
   ]
  },
  {
   "cell_type": "code",
   "execution_count": 8,
   "id": "f529e0ca",
   "metadata": {},
   "outputs": [],
   "source": [
    "tmp = num_1\n",
    "num_1 = num_2\n",
    "num_2 = tmp"
   ]
  },
  {
   "cell_type": "code",
   "execution_count": 9,
   "id": "a03c14a6",
   "metadata": {},
   "outputs": [],
   "source": [
    "del tmp"
   ]
  },
  {
   "cell_type": "code",
   "execution_count": 10,
   "id": "79df6148",
   "metadata": {},
   "outputs": [
    {
     "name": "stdout",
     "output_type": "stream",
     "text": [
      "5  4\n"
     ]
    }
   ],
   "source": [
    "print(num_1, \"\",num_2)"
   ]
  },
  {
   "cell_type": "markdown",
   "id": "946068b2",
   "metadata": {},
   "source": [
    "***<font color=\"gold\">Resource:</font>*** [Pytopia](https://www.pytopia.ai/)"
   ]
  },
  {
   "cell_type": "markdown",
   "id": "a01d5313",
   "metadata": {},
   "source": [
    "### *Quick Swap* "
   ]
  },
  {
   "cell_type": "markdown",
   "id": "1b117405",
   "metadata": {},
   "source": [
    "Assume we have two variables called `input_1` and `input_2` . Swap the values of the two variables so that `input_1` has the value of `input_2` and vice versa. Print out the two variables.  "
   ]
  },
  {
   "cell_type": "markdown",
   "id": "e7bbcef4",
   "metadata": {},
   "source": [
    "> Note: You must perform the swap in only 1 line of code, and without using any variables other than `input_1` and `input_2`"
   ]
  },
  {
   "cell_type": "code",
   "execution_count": 11,
   "id": "58cae5e3",
   "metadata": {},
   "outputs": [
    {
     "name": "stdin",
     "output_type": "stream",
     "text": [
      "Enter a number:  4\n",
      "Enter another number:  5\n"
     ]
    }
   ],
   "source": [
    "num_1 = int(input(\"Enter a number: \"))\n",
    "num_2 = int(input(\"Enter another number: \"))"
   ]
  },
  {
   "cell_type": "code",
   "execution_count": 12,
   "id": "832f6611",
   "metadata": {},
   "outputs": [],
   "source": [
    "num_1, num_2 = num_2, num_1"
   ]
  },
  {
   "cell_type": "code",
   "execution_count": 13,
   "id": "3de4cc93",
   "metadata": {},
   "outputs": [
    {
     "name": "stdout",
     "output_type": "stream",
     "text": [
      "5  4\n"
     ]
    }
   ],
   "source": [
    "print(num_1, \"\",num_2)"
   ]
  },
  {
   "cell_type": "markdown",
   "id": "7a9c006e",
   "metadata": {},
   "source": [
    "***<font color=\"gold\">Resource:</font>*** [Pytopia](https://www.pytopia.ai/)"
   ]
  },
  {
   "cell_type": "markdown",
   "id": "719fc87d",
   "metadata": {},
   "source": [
    "### *Variable Assignment*"
   ]
  },
  {
   "cell_type": "markdown",
   "id": "a00b58b6",
   "metadata": {},
   "source": [
    "Consider the following sequence of statements :\n",
    "```python\n",
    ">>> m = 245\n",
    ">>> n = 245\n",
    ">>> x = 268 \n",
    ">>> y = 268 \n",
    ">>> z = y\n",
    "```\n",
    "Choose the statements that all parts are true\n",
    "1. id(m) != id(n), id(x) != id(y)\n",
    "2. id(m) == id(n), id(x) == id(y)\n",
    "3. id(m) == id(n), id(x) != id(y)\n",
    "4. id(m) != id(n), id(x) == id(y)\n",
    "5. id(z) == id(y)\n",
    "6. id(z) != id(y)"
   ]
  },
  {
   "cell_type": "markdown",
   "id": "78261c31",
   "metadata": {},
   "source": [
    "> ***<font color=\"green\">Answer:</font>*** 3, 5"
   ]
  },
  {
   "cell_type": "markdown",
   "id": "ed269a46",
   "metadata": {},
   "source": [
    "***<font color=\"gold\">Resource:</font>*** [Pytopia](https://www.pytopia.ai/)"
   ]
  },
  {
   "cell_type": "markdown",
   "id": "b9758770",
   "metadata": {
    "tags": []
   },
   "source": [
    "### *Multiple Variable's Definition*"
   ]
  },
  {
   "cell_type": "markdown",
   "id": "8d2eb2ff",
   "metadata": {},
   "source": [
    "Assign values `\"pytopia\"` , `2022` and `3.14` to `var_s` , `var_i` , `var_f` in only one line of code."
   ]
  },
  {
   "cell_type": "code",
   "execution_count": 14,
   "id": "3f119cff",
   "metadata": {},
   "outputs": [],
   "source": [
    "var_s, var_i, var_f = \"pytopia\", 2022, 3.14"
   ]
  },
  {
   "cell_type": "code",
   "execution_count": 15,
   "id": "32f7fe4b",
   "metadata": {},
   "outputs": [
    {
     "name": "stdout",
     "output_type": "stream",
     "text": [
      "pytopia  2022  3.14\n"
     ]
    }
   ],
   "source": [
    "print(var_s, '',var_i, '', var_f)"
   ]
  },
  {
   "cell_type": "markdown",
   "id": "eb7366c5",
   "metadata": {},
   "source": [
    "***<font color=\"gold\">Resource:</font>*** [Pytopia](https://www.pytopia.ai/)"
   ]
  },
  {
   "cell_type": "markdown",
   "id": "284419f7",
   "metadata": {},
   "source": [
    "### *Object Refrences*"
   ]
  },
  {
   "cell_type": "markdown",
   "id": "d5135a16",
   "metadata": {},
   "source": [
    "Consider the following sequence of statements:\n",
    "```python\n",
    ">>> n = 300\n",
    ">>> m = n\n",
    "```\n",
    "Following the execution of these statements, Python has created how many objects and how many references?\n",
    "\n",
    "1. One object, two references\n",
    "2. One object, one reference\n",
    "3. Two objects, one reference\n",
    "4. Two objects, two references"
   ]
  },
  {
   "cell_type": "markdown",
   "id": "633db2ac",
   "metadata": {},
   "source": [
    "> ***<font color=\"green\">Answer:</font>*** 1"
   ]
  },
  {
   "cell_type": "markdown",
   "id": "5bd65b68",
   "metadata": {},
   "source": [
    "***<font color=\"gold\">Resource:</font>*** [Pytopia](https://www.pytopia.ai/)"
   ]
  },
  {
   "cell_type": "markdown",
   "id": "544351ab",
   "metadata": {},
   "source": [
    "### *Naming Convention*"
   ]
  },
  {
   "cell_type": "markdown",
   "id": "6bce26c5",
   "metadata": {},
   "source": [
    "Consider the following sequence of statements :\n",
    "```python\n",
    ">>> employeenumber = 4398\n",
    "\n",
    "\n",
    ">>> EmployeeNumber = 4398\n",
    "\n",
    "\n",
    ">>> employeeNumber = 4398\n",
    "```\n",
    "Choose the right answer:\n",
    "\n",
    "1. These statements refer to different variables.\n",
    "2. These statements refer to the same variable."
   ]
  },
  {
   "cell_type": "markdown",
   "id": "0a303ca3",
   "metadata": {},
   "source": [
    "> ***<font color=\"green\">Answer:</font>*** 1"
   ]
  },
  {
   "cell_type": "markdown",
   "id": "adafe14c",
   "metadata": {},
   "source": [
    "***<font color=\"gold\">Resource:</font>*** [Pytopia](https://www.pytopia.ai/)"
   ]
  },
  {
   "cell_type": "markdown",
   "id": "b2a333b4",
   "metadata": {},
   "source": [
    "### *True or False!*"
   ]
  },
  {
   "cell_type": "markdown",
   "id": "2f83b660",
   "metadata": {},
   "source": [
    "Which statement is true? and why?\n",
    "\n",
    "1. In Python, a variable must be declared before it is assigned a value \n",
    "2. In Python, a variable may be assigned a value of one type, and then later assigned a value of a different type"
   ]
  },
  {
   "cell_type": "markdown",
   "id": "e938448f",
   "metadata": {},
   "source": [
    "> ***<font color=\"green\">Answer:</font>*** 2, Python uses ***Dynamic Typing*** and hence you don't need to declare a variable"
   ]
  },
  {
   "cell_type": "markdown",
   "id": "04c30b6f",
   "metadata": {},
   "source": [
    "***<font color=\"gold\">Resource:</font>*** [Pytopia](https://www.pytopia.ai/)"
   ]
  },
  {
   "cell_type": "markdown",
   "id": "73dcb344",
   "metadata": {
    "jp-MarkdownHeadingCollapsed": true,
    "tags": []
   },
   "source": [
    "## Operators & Expressions"
   ]
  },
  {
   "cell_type": "markdown",
   "id": "3ead71a1",
   "metadata": {},
   "source": [
    "### *Truthy and Falsy*"
   ]
  },
  {
   "cell_type": "markdown",
   "id": "229ff7de",
   "metadata": {},
   "source": [
    "What is the output of the following code?\n",
    "```python\n",
    "print(bool(0), bool(3.14159), bool(-3), bool(1.0+1j))\n",
    "```\n",
    "\n",
    "1. True True False True\n",
    "2. False True True True\n",
    "3. True True False True\n",
    "4. False True False True"
   ]
  },
  {
   "cell_type": "markdown",
   "id": "5c31fa5d",
   "metadata": {},
   "source": [
    "> ***<font color=\"green\">Answer:</font>*** 2"
   ]
  },
  {
   "cell_type": "markdown",
   "id": "0d9a4f18",
   "metadata": {},
   "source": [
    "***<font color=\"gold\">Resource:</font>*** [Pytopia](https://www.pytopia.ai/)"
   ]
  },
  {
   "cell_type": "markdown",
   "id": "8298137a",
   "metadata": {
    "jp-MarkdownHeadingCollapsed": true,
    "tags": []
   },
   "source": [
    "## Lists & Tuples"
   ]
  },
  {
   "cell_type": "markdown",
   "id": "2dfb8d97",
   "metadata": {},
   "source": [
    "### *Simple List Indexing*"
   ]
  },
  {
   "cell_type": "markdown",
   "id": "22acb32a",
   "metadata": {},
   "source": [
    "Use indexes and print the first, third, and last element of the list below.\n",
    "```python\n",
    "num_list = [1, 3, 6, 10, 15, 21, 28, 36, 45, 55, 66, 78]\n",
    "\n",
    "first_element = #? \n",
    "third_element = #? \n",
    "last_element =  #?\n",
    "```\n",
    "\n"
   ]
  },
  {
   "cell_type": "code",
   "execution_count": 16,
   "id": "26e8e7f8",
   "metadata": {},
   "outputs": [],
   "source": [
    "num_list = [1, 3, 6, 10, 15, 21, 28, 36, 45, 55, 66, 78] "
   ]
  },
  {
   "cell_type": "code",
   "execution_count": 17,
   "id": "0ee98cc5",
   "metadata": {},
   "outputs": [],
   "source": [
    "first_element = num_list[0]\n",
    "third_element = num_list[2]\n",
    "last_element = num_list[-1]"
   ]
  },
  {
   "cell_type": "code",
   "execution_count": 18,
   "id": "4f57146e",
   "metadata": {},
   "outputs": [
    {
     "name": "stdout",
     "output_type": "stream",
     "text": [
      "\n",
      "    first element: 1\n",
      "    third element: 6\n",
      "    last element: 78\n",
      "    \n"
     ]
    }
   ],
   "source": [
    "print(\n",
    "    f'''\n",
    "    first element: {first_element}\n",
    "    third element: {third_element}\n",
    "    last element: {last_element}\n",
    "    '''\n",
    ")"
   ]
  },
  {
   "cell_type": "markdown",
   "id": "47b0f163",
   "metadata": {},
   "source": [
    "***<font color=\"gold\">Resource:</font>*** [Pytopia](https://www.pytopia.ai/)"
   ]
  },
  {
   "cell_type": "markdown",
   "id": "f538ebe1",
   "metadata": {},
   "source": [
    "### *Replace List Items with New Values*"
   ]
  },
  {
   "cell_type": "markdown",
   "id": "e7795aec",
   "metadata": {},
   "source": [
    "Ali put his student's math grades on a list. One of the students has been suspended with a score of `9.75`. Today is Ali's birthday and he wants to give 10 to that student. we want you to find the value `9.75` in the given list, and replace it with `10`. Only update the first occurrence of the item."
   ]
  },
  {
   "cell_type": "markdown",
   "id": "87cbfcec",
   "metadata": {},
   "source": [
    "Input List: "
   ]
  },
  {
   "cell_type": "code",
   "execution_count": 25,
   "id": "334c5f88",
   "metadata": {},
   "outputs": [],
   "source": [
    "grades = [12, 19, 14, 15, 17.5, 18, 10.25, 9.75, 19, 14, 12, 11.25, 17, 18, 13, 13, 15, 19, 18.5]"
   ]
  },
  {
   "cell_type": "markdown",
   "id": "88f68607",
   "metadata": {},
   "source": [
    "##### first solution:"
   ]
  },
  {
   "cell_type": "code",
   "execution_count": 23,
   "id": "897b9a4c",
   "metadata": {},
   "outputs": [],
   "source": [
    "grades[7] = 10"
   ]
  },
  {
   "cell_type": "markdown",
   "id": "3ef7d698",
   "metadata": {
    "tags": []
   },
   "source": [
    "##### second solution:"
   ]
  },
  {
   "cell_type": "code",
   "execution_count": 26,
   "id": "ebc72019",
   "metadata": {},
   "outputs": [],
   "source": [
    "item_index = grades.index(9.75)\n",
    "grades[item_index] = 10"
   ]
  },
  {
   "cell_type": "markdown",
   "id": "7d13a53e",
   "metadata": {},
   "source": [
    "#### result:"
   ]
  },
  {
   "cell_type": "code",
   "execution_count": 27,
   "id": "c8992f00",
   "metadata": {},
   "outputs": [
    {
     "name": "stdout",
     "output_type": "stream",
     "text": [
      "[12, 19, 14, 15, 17.5, 18, 10.25, 10, 19, 14, 12, 11.25, 17, 18, 13, 13, 15, 19, 18.5]\n"
     ]
    }
   ],
   "source": [
    "print(grades)"
   ]
  },
  {
   "cell_type": "markdown",
   "id": "f2a04517",
   "metadata": {},
   "source": [
    "***<font color=\"gold\">Resource:</font>*** [Pytopia](https://www.pytopia.ai/)"
   ]
  },
  {
   "cell_type": "markdown",
   "id": "12cbc9e8",
   "metadata": {},
   "source": [
    "### *Delete List items*"
   ]
  },
  {
   "cell_type": "markdown",
   "id": "239faaad",
   "metadata": {},
   "source": [
    "What is the output of the following code?\n",
    "```python\n",
    "inp_list = [10, 20, 30, 40]\n",
    "\n",
    "del inp_list[0:6]\n",
    "\n",
    "print(inp_list)\n",
    "```\n",
    "1. [ ]\n",
    "2. *<font color='red'>Error:</font>* List index out of range.\n",
    "3. None"
   ]
  },
  {
   "cell_type": "markdown",
   "id": "9267ee3f",
   "metadata": {},
   "source": [
    "> ***<font color=\"green\">Answer:</font>*** 1"
   ]
  },
  {
   "cell_type": "markdown",
   "id": "f8e74c18",
   "metadata": {},
   "source": [
    "***<font color=\"gold\">Resource:</font>*** [Pytopia](https://www.pytopia.ai/)"
   ]
  },
  {
   "cell_type": "markdown",
   "id": "00df6013",
   "metadata": {},
   "source": [
    "### *List Memory Usage*"
   ]
  },
  {
   "cell_type": "markdown",
   "id": "ac0d2806",
   "metadata": {},
   "source": [
    "Consider the following line of code :\n",
    "```python\n",
    "a = 300 \n",
    "b = 124 \n",
    "mylist = [300, 124, 100]\n",
    "```\n",
    "Which statement is True :\n",
    "1. id(a) == id(mylist[0]) and id(b) == id(mylist[1])\n",
    "2. id(a) == id(mylist[0]) and id(b) != id(mylist[1])\n",
    "3. id(a) != id(mylist[0]) and id(b) == id(mylist[1])\n",
    "4. id(a) != id(mylist[0]) and id(b) != id(mylist[1])\n",
    "5. id(a) == id(mylist) and id(b) == id(mylist)"
   ]
  },
  {
   "cell_type": "markdown",
   "id": "716f2014",
   "metadata": {},
   "source": [
    "> ***<font color=\"green\">Answer:</font>*** 3"
   ]
  },
  {
   "cell_type": "markdown",
   "id": "bd825aa7",
   "metadata": {},
   "source": [
    "***<font color=\"gold\">Resource:</font>*** [Pytopia](https://www.pytopia.ai/)"
   ]
  },
  {
   "cell_type": "markdown",
   "id": "dd1eaf92",
   "metadata": {},
   "source": [
    "### *List Subset*"
   ]
  },
  {
   "cell_type": "markdown",
   "id": "fc3555ee",
   "metadata": {},
   "source": [
    "Subset the following lists from color list:\n",
    "```python\n",
    "bl_gr = ['blue', 'green']\n",
    "re_gr_br = ['red', 'green', 'brown']\n",
    "pk_br_yl = ['pink', 'brown', 'yellow']\n",
    "```"
   ]
  },
  {
   "cell_type": "code",
   "execution_count": null,
   "id": "5555d930",
   "metadata": {},
   "outputs": [],
   "source": [
    "colors = ['red', 'blue', 'green', 'yellow', 'brown', 'pink']"
   ]
  },
  {
   "cell_type": "code",
   "execution_count": null,
   "id": "7d7006d2",
   "metadata": {},
   "outputs": [],
   "source": [
    "bl_gr = colors[1:3]\n",
    "re_gr_br = colors[::2]\n",
    "pk_br_yl = colors[:-4:-1]"
   ]
  },
  {
   "cell_type": "code",
   "execution_count": null,
   "id": "e4c32dad",
   "metadata": {},
   "outputs": [],
   "source": [
    "print(\n",
    "    f'''\n",
    "    {bl_gr}\n",
    "    {re_gr_br}\n",
    "    {pk_br_yl}\n",
    "    '''\n",
    ")"
   ]
  },
  {
   "cell_type": "markdown",
   "id": "01ed0d79",
   "metadata": {},
   "source": [
    "***<font color=\"gold\">Resource:</font>*** [Pytopia](https://www.pytopia.ai/)"
   ]
  },
  {
   "cell_type": "markdown",
   "id": "2349ed0f",
   "metadata": {},
   "source": [
    "### *Nested List Indexing*"
   ]
  },
  {
   "cell_type": "markdown",
   "id": "7d7758bf",
   "metadata": {},
   "source": [
    "Extract the fourth team list from `persian_gulf_standing`:"
   ]
  },
  {
   "cell_type": "code",
   "execution_count": null,
   "id": "5bc2301f",
   "metadata": {},
   "outputs": [],
   "source": [
    "persian_gulf_standing = [\n",
    "    ['Esteghlel F.C', 1],\n",
    "    ['Sepahan', 2],\n",
    "    ['Perspolis', 3],\n",
    "    ['Gol Gohar', 4],\n",
    "    ['Foolad', 5],\n",
    "]"
   ]
  },
  {
   "cell_type": "code",
   "execution_count": null,
   "id": "d3573cee",
   "metadata": {},
   "outputs": [],
   "source": [
    "print(persian_gulf_standing[3][0])"
   ]
  },
  {
   "cell_type": "markdown",
   "id": "fd7a2f3f",
   "metadata": {},
   "source": [
    "***<font color=\"gold\">Resource:</font>*** [Pytopia](https://www.pytopia.ai/)"
   ]
  },
  {
   "cell_type": "markdown",
   "id": "d00c1b44",
   "metadata": {},
   "source": [
    "### *List Quiz*"
   ]
  },
  {
   "cell_type": "markdown",
   "id": "131bc25e",
   "metadata": {},
   "source": [
    "Which of the following are not true about Python lists? (Choose all that may apply)\n",
    "\n",
    "1. There is no limit to the size of a list.\n",
    "2. All elements in a list must be of the same type.\n",
    "3. A list may contain any type of object except another list\n",
    "4. A given object may appear in a list more than once."
   ]
  },
  {
   "cell_type": "markdown",
   "id": "cb00b286",
   "metadata": {},
   "source": [
    "> ***<font color=\"green\">Answer:</font>*** 2, 3"
   ]
  },
  {
   "cell_type": "markdown",
   "id": "fd4d7a4f",
   "metadata": {},
   "source": [
    "***<font color=\"gold\">Resource:</font>*** [Pytopia](https://www.pytopia.ai/)"
   ]
  },
  {
   "cell_type": "markdown",
   "id": "de651e65",
   "metadata": {},
   "source": [
    "### *Second Largest Number In List*"
   ]
  },
  {
   "cell_type": "markdown",
   "id": "97a871fc",
   "metadata": {},
   "source": [
    "Find the `second_largest` number in the list below:"
   ]
  },
  {
   "cell_type": "code",
   "execution_count": null,
   "id": "d24bd71b",
   "metadata": {},
   "outputs": [],
   "source": [
    "num_list = [3, 47, 10, 15, 21, 28, 13, 45, 66, 12, 34, 56, 78, 78]"
   ]
  },
  {
   "cell_type": "code",
   "execution_count": null,
   "id": "f5ecffdc",
   "metadata": {},
   "outputs": [],
   "source": [
    "list2 = list(set(num_list))"
   ]
  },
  {
   "cell_type": "code",
   "execution_count": null,
   "id": "ecee1124",
   "metadata": {},
   "outputs": [],
   "source": [
    "list2.sort()"
   ]
  },
  {
   "cell_type": "code",
   "execution_count": null,
   "id": "7ef9670a",
   "metadata": {},
   "outputs": [],
   "source": [
    "print(list2[-2])"
   ]
  },
  {
   "cell_type": "markdown",
   "id": "f27b02c2",
   "metadata": {},
   "source": [
    "***<font color=\"gold\">Resource:</font>*** [Pytopia](https://www.pytopia.ai/)"
   ]
  },
  {
   "cell_type": "markdown",
   "id": "181c398b",
   "metadata": {},
   "source": [
    "### *List: Max, Min, Sum and Mean*"
   ]
  },
  {
   "cell_type": "markdown",
   "id": "b82afb52",
   "metadata": {},
   "source": [
    "Calculate the `maximum`, `minimum`, `sum` and `mean` of the following data using python's built-in functions:"
   ]
  },
  {
   "cell_type": "code",
   "execution_count": null,
   "id": "7ced7309",
   "metadata": {},
   "outputs": [],
   "source": [
    "random_num_data = [\n",
    "    18, 60, -10, 17, 55, 8, -1, 31, 52, 31,\n",
    "    27, 14, 25, 0, -2, 15, -1, 50, 45, -4,\n",
    "    42, -10, 40, 3, 43, 55, 24, -17, 17, 54, \n",
    "    19, 24, 44, 30, 24, 3, -17, 31, 45, -10, \n",
    "    13, -12, 21, -13, 52, 57, -1, 37, 21, 42\n",
    "]"
   ]
  },
  {
   "cell_type": "code",
   "execution_count": null,
   "id": "cd0f07d7",
   "metadata": {},
   "outputs": [],
   "source": [
    "maximum = max(random_num_data)\n",
    "minimum = min(random_num_data)\n",
    "sum_of_data = sum(random_num_data)\n",
    "mean_of_data = sum(random_num_data) / len(random_num_data)"
   ]
  },
  {
   "cell_type": "code",
   "execution_count": null,
   "id": "deda3be4",
   "metadata": {},
   "outputs": [],
   "source": [
    "print(\n",
    "    f'''\n",
    "    Maximum: {maximum}\n",
    "    Minimum: {minimum}\n",
    "    Sum of data: {sum_of_data}\n",
    "    Mean of data: {mean_of_data}\n",
    "    '''\n",
    ")"
   ]
  },
  {
   "cell_type": "markdown",
   "id": "d2bf45f1",
   "metadata": {},
   "source": [
    "***<font color=\"gold\">Resource:</font>*** [Pytopia](https://www.pytopia.ai/)"
   ]
  },
  {
   "cell_type": "markdown",
   "id": "8321a964",
   "metadata": {},
   "source": [
    "### *Append to The List*"
   ]
  },
  {
   "cell_type": "markdown",
   "id": "e5f56541",
   "metadata": {},
   "source": [
    "The `append()` method allows you to add items to your lists. Add the string `\"R\"` to the `programming_langs` list with `append()` method."
   ]
  },
  {
   "cell_type": "code",
   "execution_count": null,
   "id": "19723c30",
   "metadata": {},
   "outputs": [],
   "source": [
    "programming_langs = [\"Julia\", \"Python\"] "
   ]
  },
  {
   "cell_type": "code",
   "execution_count": null,
   "id": "00a13b6d",
   "metadata": {},
   "outputs": [],
   "source": [
    "programming_langs.append(\"R\")"
   ]
  },
  {
   "cell_type": "code",
   "execution_count": null,
   "id": "8713449a",
   "metadata": {},
   "outputs": [],
   "source": [
    "print(programming_langs)"
   ]
  },
  {
   "cell_type": "markdown",
   "id": "bde9d8a4",
   "metadata": {},
   "source": [
    "***<font color=\"gold\">Resource:</font>*** [Pytopia](https://www.pytopia.ai/)"
   ]
  },
  {
   "cell_type": "markdown",
   "id": "993d7032",
   "metadata": {},
   "source": [
    "### *List Chain Assignment*"
   ]
  },
  {
   "cell_type": "markdown",
   "id": "06c9d7a2",
   "metadata": {},
   "source": [
    "What is the output where indicated by #?:\n",
    "```python\n",
    "x = y = []\n",
    "\n",
    "x.append(2)\n",
    "y.append(3)\n",
    "\n",
    "print(x) #?\n",
    "print(y) #?\n",
    "```"
   ]
  },
  {
   "cell_type": "markdown",
   "id": "9f868dbc",
   "metadata": {},
   "source": [
    "> ***<font color=\"green\">Answer:</font>*** [2,3], [2,3]"
   ]
  },
  {
   "cell_type": "markdown",
   "id": "64dd34ff",
   "metadata": {},
   "source": [
    "***<font color=\"gold\">Resource:</font>*** [Pytopia](https://www.pytopia.ai/)"
   ]
  },
  {
   "cell_type": "markdown",
   "id": "9aae3231",
   "metadata": {},
   "source": [
    "### *Simple Tuple Indexing*"
   ]
  },
  {
   "cell_type": "markdown",
   "id": "f830b2c4",
   "metadata": {},
   "source": [
    "For the `mixed_tuple` variable defined below:\n",
    "\n",
    "Access value `20` from the mixed_tuple\n",
    "Access the charachter `\"g\"` from the `mixed_tuple` \n",
    "The given tuple is a nested one. Write a Python program that prints the value `20` with indexing."
   ]
  },
  {
   "cell_type": "code",
   "execution_count": null,
   "id": "daf571e0",
   "metadata": {},
   "outputs": [],
   "source": [
    "mixed_tuple = (\"Orange\", [10, 20, 30], (5, 15, 25))"
   ]
  },
  {
   "cell_type": "code",
   "execution_count": null,
   "id": "1a06fbc0",
   "metadata": {},
   "outputs": [],
   "source": [
    "value_20 = mixed_tuple[1][1]\n",
    "char_g = mixed_tuple[0][-2]"
   ]
  },
  {
   "cell_type": "code",
   "execution_count": null,
   "id": "99428a99",
   "metadata": {},
   "outputs": [],
   "source": [
    "print(value_20, char_g)"
   ]
  },
  {
   "cell_type": "markdown",
   "id": "db554bb2",
   "metadata": {},
   "source": [
    "***<font color=\"gold\">Resource:</font>*** [Pytopia](https://www.pytopia.ai/)"
   ]
  },
  {
   "cell_type": "markdown",
   "id": "2c12eabd",
   "metadata": {},
   "source": [
    "### *Reverse Tuple*"
   ]
  },
  {
   "cell_type": "markdown",
   "id": "1628840c",
   "metadata": {},
   "source": [
    "Reverse the following tuple and save it in `reverse_num_tup` :"
   ]
  },
  {
   "cell_type": "code",
   "execution_count": null,
   "id": "beee9779",
   "metadata": {},
   "outputs": [],
   "source": [
    "num_tup = (10, 20, 30, 40, 50)"
   ]
  },
  {
   "cell_type": "code",
   "execution_count": null,
   "id": "33c19a99",
   "metadata": {},
   "outputs": [],
   "source": [
    "reverse_num_tup = num_tup[::-1]"
   ]
  },
  {
   "cell_type": "code",
   "execution_count": null,
   "id": "25517b07",
   "metadata": {},
   "outputs": [],
   "source": [
    "print(reverse_num_tup)"
   ]
  },
  {
   "cell_type": "markdown",
   "id": "a9f1a3f9",
   "metadata": {},
   "source": [
    "***<font color=\"gold\">Resource:</font>*** [Pytopia](https://www.pytopia.ai/)"
   ]
  },
  {
   "cell_type": "markdown",
   "id": "4e66af27",
   "metadata": {},
   "source": [
    "### *Unpack Tuple*"
   ]
  },
  {
   "cell_type": "markdown",
   "id": "da57b841",
   "metadata": {},
   "source": [
    "Unpack the tuple into 4 variables.\n",
    "Write a program to unpack the following tuple into four variables: `sohrab` `faramarz` `jahangir` `siyavash`"
   ]
  },
  {
   "cell_type": "code",
   "execution_count": null,
   "id": "6c5c25b6",
   "metadata": {},
   "outputs": [],
   "source": [
    "shahnameh_tuple = ('Sohrab', 'Faramarz', 'Jahangir', 'Siyavash')"
   ]
  },
  {
   "cell_type": "code",
   "execution_count": null,
   "id": "bfa03982",
   "metadata": {},
   "outputs": [],
   "source": [
    "n1, n2, n3, n4 = shahnameh_tuple"
   ]
  },
  {
   "cell_type": "code",
   "execution_count": null,
   "id": "cbb98a1d",
   "metadata": {},
   "outputs": [],
   "source": [
    "print(n1, n2, n3, n4)"
   ]
  },
  {
   "cell_type": "markdown",
   "id": "0e05bc52",
   "metadata": {},
   "source": [
    "***<font color=\"gold\">Resource:</font>*** [Pytopia](https://www.pytopia.ai/)"
   ]
  },
  {
   "cell_type": "markdown",
   "id": "6648fdbc",
   "metadata": {},
   "source": [
    "### *Simple Tuple Indexing 2*"
   ]
  },
  {
   "cell_type": "markdown",
   "id": "ff9ae0e8",
   "metadata": {},
   "source": [
    "Copy specific elements from one tuple to a new tuple\n",
    "\n",
    "\n",
    "Write a program to copy elements `44` and `55` from the following tuple into a new tuple. `tuple2 = (44, 55)`"
   ]
  },
  {
   "cell_type": "code",
   "execution_count": null,
   "id": "9377757e",
   "metadata": {},
   "outputs": [],
   "source": [
    "tuple1 = (11, 22, 33, 44, 55, 66)"
   ]
  },
  {
   "cell_type": "code",
   "execution_count": null,
   "id": "e555a667",
   "metadata": {},
   "outputs": [],
   "source": [
    "tuple2 = tuple1[3:5]"
   ]
  },
  {
   "cell_type": "code",
   "execution_count": null,
   "id": "14c03c28",
   "metadata": {},
   "outputs": [],
   "source": [
    "print(tuple2)"
   ]
  },
  {
   "cell_type": "markdown",
   "id": "e530b01e",
   "metadata": {},
   "source": [
    "***<font color=\"gold\">Resource:</font>*** [Pytopia](https://www.pytopia.ai/)"
   ]
  },
  {
   "cell_type": "markdown",
   "id": "8ab87b4e",
   "metadata": {},
   "source": [
    "### *Tuple: Remove an Item*"
   ]
  },
  {
   "cell_type": "markdown",
   "id": "455601ce",
   "metadata": {},
   "source": [
    "Write a Python program to remove item `\"hafez\"` from a tuple and save it in `persian_poets_wo_hafez`\n",
    "> Hint: Tuples are immutable"
   ]
  },
  {
   "cell_type": "code",
   "execution_count": null,
   "id": "8ed7898a",
   "metadata": {},
   "outputs": [],
   "source": [
    "persian_poets = 'saadi', 'frough', 'hafez', 'parvin', 'saeb'"
   ]
  },
  {
   "cell_type": "markdown",
   "id": "2a18dec7",
   "metadata": {},
   "source": [
    "##### first solution:"
   ]
  },
  {
   "cell_type": "code",
   "execution_count": null,
   "id": "c2ec2ede",
   "metadata": {},
   "outputs": [],
   "source": [
    "persian_poets_wo_hafez = persian_poets[:2] + persian_poets[3:]"
   ]
  },
  {
   "cell_type": "markdown",
   "id": "7be690ff",
   "metadata": {
    "tags": []
   },
   "source": [
    "##### second solution: using remove method of list"
   ]
  },
  {
   "cell_type": "code",
   "execution_count": null,
   "id": "12331d9d",
   "metadata": {},
   "outputs": [],
   "source": [
    "ls = list(persian_poets)\n",
    "ls.remove('hafez')"
   ]
  },
  {
   "cell_type": "code",
   "execution_count": null,
   "id": "2f7a9b39",
   "metadata": {},
   "outputs": [],
   "source": [
    "persian_poets_wo_hafez = tuple(ls)"
   ]
  },
  {
   "cell_type": "code",
   "execution_count": null,
   "id": "8739ce14",
   "metadata": {},
   "outputs": [],
   "source": [
    "print(persian_poets_wo_hafez)"
   ]
  },
  {
   "cell_type": "markdown",
   "id": "748a4157",
   "metadata": {},
   "source": [
    "***<font color=\"gold\">Resource:</font>*** [Pytopia](https://www.pytopia.ai/)"
   ]
  },
  {
   "cell_type": "markdown",
   "id": "f81ec740-cfe8-4d72-a6ab-4a33a2bab454",
   "metadata": {
    "tags": []
   },
   "source": [
    "### *Complexity Quiz*"
   ]
  },
  {
   "cell_type": "markdown",
   "id": "2e6525e1-3d32-40ee-abde-b0f4720a45dd",
   "metadata": {},
   "source": [
    "What will be the time complexity of the following fragment of code?\n",
    "```python\n",
    "for i in range(n):\n",
    "    i*=k\n",
    "```\n",
    "1. O(n)\n",
    "2. O(k)\n",
    "3. O(ln k​)\n",
    "4. O(n log k)"
   ]
  },
  {
   "cell_type": "markdown",
   "id": "cf2f75f3-c4ec-4e14-aca9-cf42f70d2f82",
   "metadata": {},
   "source": [
    "> ***<font color=\"green\">Answer:</font>*** 1"
   ]
  },
  {
   "cell_type": "markdown",
   "id": "ff180395-3798-49c2-a9b4-ae61154d80d4",
   "metadata": {},
   "source": [
    "***<font color=\"gold\">Resource:</font>*** [Pytopia](https://www.pytopia.ai/)"
   ]
  },
  {
   "cell_type": "markdown",
   "id": "fd603d2e",
   "metadata": {
    "jp-MarkdownHeadingCollapsed": true,
    "tags": []
   },
   "source": [
    "## Dictionaries & Sets"
   ]
  },
  {
   "cell_type": "markdown",
   "id": "fb35be8a-429c-4349-97fb-05ebdfb06d45",
   "metadata": {},
   "source": [
    "### *A deeper look at the dictionary*"
   ]
  },
  {
   "cell_type": "markdown",
   "id": "e97b7b35-37cc-4062-b716-2ca18b7684ed",
   "metadata": {},
   "source": [
    "Which of the following does not describe a dictionary?\n",
    "\n",
    "1. Dictionary is mutable.\n",
    "2. Dictionary is dynamic. It can grow and shrink as needed.\n",
    "3. Dictionary can be nested. A dictionary can contain another dictionary. A dictionary can also contain a list, and vice versa.\n",
    "4. Dictionary elements are accessed by their position in the dictionary, via indexing"
   ]
  },
  {
   "cell_type": "markdown",
   "id": "8fc2acde-7b52-4c1f-a0dc-3e5f55985942",
   "metadata": {},
   "source": [
    "> ***<font color=\"green\">Answer:</font>*** 4"
   ]
  },
  {
   "cell_type": "markdown",
   "id": "9ec491b8-8eec-4e2e-ad72-de9049b4bc63",
   "metadata": {},
   "source": [
    "***<font color=\"gold\">Resource:</font>*** [Pytopia](https://www.pytopia.ai/)"
   ]
  },
  {
   "cell_type": "markdown",
   "id": "e872daed-559b-4a51-91c8-0f48132f40f8",
   "metadata": {},
   "source": [
    "### *Arash site users*"
   ]
  },
  {
   "cell_type": "markdown",
   "id": "ba986acd-2276-454b-8fd3-f9514dd29534",
   "metadata": {},
   "source": [
    "Arash has a list of site users and wants to save them using one of the Python data structures. Initially, he intended to create a list of his users. However, we explained to him that while adding and deleting items at the end of the list is quick, doing so at the beginning of the list is slow because all of the other items must be shifted. Finally, we advised him to use a dictionary because hashes allow him to access all data in a short period of time.\n",
    "\n"
   ]
  },
  {
   "cell_type": "markdown",
   "id": "97d89539-9700-4a73-84d0-9894e830891f",
   "metadata": {},
   "source": [
    "Arash users information is available below:\n",
    "\n",
    "| id          | name        | family      |  \n",
    "| ----------- | ----------- | ----------- |\n",
    "| 1           | Kourosh     | Kourosh     |\n",
    "| 2           | Shirin      | Shirin      |"
   ]
  },
  {
   "cell_type": "markdown",
   "id": "67860a97-b2bd-4190-a09b-287535883b52",
   "metadata": {},
   "source": [
    "Please help him put them in a dictionary called `arash_users`. In such a way that it has access to the information of its users via `id`. for example:"
   ]
  },
  {
   "cell_type": "markdown",
   "id": "dd431ebe-8c2a-445d-9b03-dc104ef7c4a3",
   "metadata": {},
   "source": [
    "```python\n",
    "arash_users[1]['name']\n",
    "```\n",
    "Output: <br>&nbsp;&nbsp;&nbsp;&nbsp;&nbsp;&nbsp;&nbsp; Kourosh"
   ]
  },
  {
   "cell_type": "code",
   "execution_count": 9,
   "id": "a5cdd39a-d82c-4e5f-8de0-da340fad3b2f",
   "metadata": {},
   "outputs": [],
   "source": [
    "arash_users = {\n",
    "    1: {\n",
    "        'name': 'Kourosh',\n",
    "        'family': 'Kouroshi',\n",
    "    },\n",
    "    2: {\n",
    "        'name': 'Shirin',\n",
    "        'family': 'Shirini',\n",
    "    },\n",
    "}"
   ]
  },
  {
   "cell_type": "code",
   "execution_count": 7,
   "id": "f23195f5-da40-4954-ba34-dd4d38e0d739",
   "metadata": {},
   "outputs": [
    {
     "data": {
      "text/plain": [
       "'Kourosh'"
      ]
     },
     "execution_count": 7,
     "metadata": {},
     "output_type": "execute_result"
    }
   ],
   "source": [
    "arash_users[1]['name']"
   ]
  },
  {
   "cell_type": "code",
   "execution_count": 10,
   "id": "9af09eb4-03f8-4de3-bcdd-372a468021c6",
   "metadata": {},
   "outputs": [
    {
     "data": {
      "text/plain": [
       "'Shirini'"
      ]
     },
     "execution_count": 10,
     "metadata": {},
     "output_type": "execute_result"
    }
   ],
   "source": [
    "arash_users[2]['family']"
   ]
  },
  {
   "cell_type": "markdown",
   "id": "05254394-ab30-4d8e-ba14-65355525c591",
   "metadata": {},
   "source": [
    "***<font color=\"gold\">Resource:</font>*** [Pytopia](https://www.pytopia.ai/)"
   ]
  },
  {
   "cell_type": "markdown",
   "id": "cb391bd6-2994-4ed6-b2f2-4ee0ac9f7c60",
   "metadata": {},
   "source": [
    "### *Convert a list to a dictionary*"
   ]
  },
  {
   "cell_type": "markdown",
   "id": "80fd43c0-8eb4-43a2-8256-f34491d21262",
   "metadata": {},
   "source": [
    "You can also construct a dictionary with the built-in dict() function. The argument to dict() should be a sequence of key-value pairs."
   ]
  },
  {
   "cell_type": "markdown",
   "id": "0b2610de-2ed9-49e6-a6ea-9c13123b5aad",
   "metadata": {},
   "source": [
    "We have a list called `persian_gulf_standing` that contains pairs, the name of the football team and its position in the **Iranian Football Premier League** (Persian Gulf). We ask you to convert the following list into a dictionary with the same name based on the description provided."
   ]
  },
  {
   "cell_type": "code",
   "execution_count": 11,
   "id": "7cc99fc2-8fe1-4570-918f-3fd0e545a674",
   "metadata": {},
   "outputs": [],
   "source": [
    "persian_gulf_standing = [\n",
    "    ['Esteghlel F.C', 1],\n",
    "    ['Sepahan', 2],\n",
    "    ['Perspolis', 3],\n",
    "    ['Gol Gohar', 4],\n",
    "    ['Foolad', 5]\n",
    "]"
   ]
  },
  {
   "cell_type": "code",
   "execution_count": 13,
   "id": "16366793-4863-43f4-bf66-99cca417e45a",
   "metadata": {},
   "outputs": [],
   "source": [
    "persian_gulf_standing = dict(persian_gulf_standing)"
   ]
  },
  {
   "cell_type": "code",
   "execution_count": 17,
   "id": "450e8f31-de6c-4598-b17f-439e99e7cfb4",
   "metadata": {},
   "outputs": [
    {
     "name": "stdout",
     "output_type": "stream",
     "text": [
      "{'Esteghlel F.C': 1, 'Sepahan': 2, 'Perspolis': 3, 'Gol Gohar': 4, 'Foolad': 5}\n"
     ]
    }
   ],
   "source": [
    "print(persian_gulf_standing)"
   ]
  },
  {
   "cell_type": "markdown",
   "id": "a1cd5851-1d93-4c2a-9aec-bded6f1ac64d",
   "metadata": {},
   "source": [
    "***<font color=\"gold\">Resource:</font>*** [Pytopia](https://www.pytopia.ai/)"
   ]
  },
  {
   "cell_type": "markdown",
   "id": "85214721-a7f6-46c1-a9bd-bec3dd4246f7",
   "metadata": {},
   "source": [
    "### *Accessing Dictionary Values 1*"
   ]
  },
  {
   "cell_type": "markdown",
   "id": "2fe336d8-9737-4efc-a84f-b328e07e1fb3",
   "metadata": {},
   "source": [
    "The following dictionary is based on the book **Shahnameh** by **Abolghasem Ferdowsi**, a famous Iranian poet.\n",
    "According to the dictionary below, print the name of Rostam's mother and wife using a single `print()` function."
   ]
  },
  {
   "cell_type": "code",
   "execution_count": 53,
   "id": "256bb693-6adc-43c8-a6fe-b2c4923b8b9e",
   "metadata": {},
   "outputs": [],
   "source": [
    "rostam_data = {\n",
    "    \"name\": \"Rostam\",\n",
    "    \"nationality\": \"Turanian\",\n",
    "    \"father\": \"Zal\" ,\n",
    "    \"mother\": \"Rudaabeh\",\n",
    "    \"spouse\": \"Tahmineh\",\n",
    "    \"grandfather\": \"Sam\",\n",
    "    \"delivery\": \"C-Section\",\n",
    "    \"POB\": \"Zabol\",\n",
    "    \"POD\" : \"Kabul\"\n",
    "}"
   ]
  },
  {
   "cell_type": "code",
   "execution_count": 56,
   "id": "e9543ab1-a8e4-4e09-85c8-b9ef3e755b44",
   "metadata": {},
   "outputs": [
    {
     "name": "stdout",
     "output_type": "stream",
     "text": [
      "Rostam's mother: Rudaabeh - Rostam's wife: Tahmineh\n"
     ]
    }
   ],
   "source": [
    "print(f'Rostam\\'s mother: {rostam_data[\"mother\"]} - '\\\n",
    "      f'Rostam\\'s wife: {rostam_data[\"spouse\"]}'\n",
    ")"
   ]
  },
  {
   "cell_type": "markdown",
   "id": "c29ee235-8193-4106-bfc7-589fbc3bde25",
   "metadata": {},
   "source": [
    "***<font color=\"gold\">Resource:</font>*** [Pytopia](https://www.pytopia.ai/)"
   ]
  },
  {
   "cell_type": "markdown",
   "id": "cb949bad-bded-4305-b997-a99009bf1d46",
   "metadata": {},
   "source": [
    "### *Accessing Dictionary Values 2*"
   ]
  },
  {
   "cell_type": "markdown",
   "id": "c6e4cefd-6781-427c-95d6-381e82f6a3a4",
   "metadata": {},
   "source": [
    "The above dictionary is based on the book **Shahnameh** by **Abolghasem Ferdowsi**, a famous Iranian poet.\n",
    "**Rostam** nationality has been registered as a **Turanian**. Please change Rostam nationality to **Iranian**."
   ]
  },
  {
   "cell_type": "code",
   "execution_count": 40,
   "id": "1292501f-27e4-4b5b-8060-e2161f4d0ca0",
   "metadata": {},
   "outputs": [],
   "source": [
    "rostam_data['nationality'] = 'Iranian'"
   ]
  },
  {
   "cell_type": "code",
   "execution_count": 41,
   "id": "d744d3ad-2b59-4275-9f39-1f337f6ba980",
   "metadata": {},
   "outputs": [
    {
     "name": "stdout",
     "output_type": "stream",
     "text": [
      "Iranian\n"
     ]
    }
   ],
   "source": [
    "print(rostam_data['nationality'])"
   ]
  },
  {
   "cell_type": "markdown",
   "id": "961d83b8-77c4-4a86-b0fb-db4393c2f687",
   "metadata": {},
   "source": [
    "***<font color=\"gold\">Resource:</font>*** [Pytopia](https://www.pytopia.ai/)"
   ]
  },
  {
   "cell_type": "markdown",
   "id": "0d94ca72-710c-484d-a28b-bd0c684886dd",
   "metadata": {},
   "source": [
    "### *Accessing Dictionary Values 3*"
   ]
  },
  {
   "cell_type": "markdown",
   "id": "56cc058c-dc75-4624-9a8a-1f0bb76d9bd5",
   "metadata": {},
   "source": [
    "The above dictionary is based on the book **Shahnameh** by **Abolghasem Ferdowsi**, a famous Iranian poet.<br>\n",
    "Rostam's children were **Sohrab**, **Faramarz**, **Jahangir**, **Siyavash**, and **Banu-Goshasp**. Please add a list of Rostam's children's names with the key `'childrens'` to `rostam_data` dictionary."
   ]
  },
  {
   "cell_type": "code",
   "execution_count": 43,
   "id": "16955d55-19be-41f9-808c-62497079c8c5",
   "metadata": {},
   "outputs": [],
   "source": [
    "rostam_data['children'] = ['Sohrab', 'Faramarz', 'Jahangir', 'Siyavash', 'Banu-Goshasp']"
   ]
  },
  {
   "cell_type": "code",
   "execution_count": 44,
   "id": "6ed837ad-5091-4fc1-9819-c187d8f4e457",
   "metadata": {},
   "outputs": [
    {
     "name": "stdout",
     "output_type": "stream",
     "text": [
      "['Sohrab', 'Faramarz', 'Jahangir', 'Siyavash', 'Banu-Goshasp']\n"
     ]
    }
   ],
   "source": [
    "print(rostam_data['children'])"
   ]
  },
  {
   "cell_type": "markdown",
   "id": "5b42279f-f31c-410a-8166-0d0875ae0da1",
   "metadata": {},
   "source": [
    "***<font color=\"gold\">Resource:</font>*** [Pytopia](https://www.pytopia.ai/)"
   ]
  },
  {
   "cell_type": "markdown",
   "id": "d0953f56-3146-42b2-bbbc-67fc2dcdd67a",
   "metadata": {},
   "source": [
    "### *Dictionary get() method 1*"
   ]
  },
  {
   "cell_type": "markdown",
   "id": "45fc6ddc-06be-4be0-8029-1526d97fd551",
   "metadata": {},
   "source": [
    "You can access the value of the dictionaty using .get() method:\n",
    "\n",
    "syntax:\n",
    "```python\n",
    "dictionary.get(keyname)\n",
    "```"
   ]
  },
  {
   "cell_type": "markdown",
   "id": "6c83b809-5ed3-452c-9f14-ae7da92bf004",
   "metadata": {},
   "source": [
    "According to the **Shahnameh**, the **Simurgh** instructed **Zal** upon how to perform a **caesarean section**, thus saving **Rudaba** and the child **Rostam**. In Persian literature ceaserean section is known as **Rostamina**.\n",
    "\n",
    "Please print the type of birth (`delivery`) of Rostam using the `get()` method."
   ]
  },
  {
   "cell_type": "code",
   "execution_count": 45,
   "id": "e7ce6f5b-840a-43cc-8bf6-fc4b22e251b9",
   "metadata": {},
   "outputs": [
    {
     "name": "stdout",
     "output_type": "stream",
     "text": [
      "C-Section\n"
     ]
    }
   ],
   "source": [
    "print(rostam_data.get('delivery'))"
   ]
  },
  {
   "cell_type": "markdown",
   "id": "a4ef6acf-eac4-46fe-9d05-e8952e89653c",
   "metadata": {},
   "source": [
    "***<font color=\"gold\">Resource:</font>*** [Pytopia](https://www.pytopia.ai/)"
   ]
  },
  {
   "cell_type": "markdown",
   "id": "4f969670-0f39-4609-88aa-262d279f8abb",
   "metadata": {},
   "source": [
    "### *Dictionary get() method 2*"
   ]
  },
  {
   "cell_type": "markdown",
   "id": "0b6b2106-53bf-4a92-836f-a23f5b78e149",
   "metadata": {},
   "source": [
    "The following dictionary is based on the book **Shahnameh** by **Abolghasem Ferdowsi**, a famous Iranian poet:"
   ]
  },
  {
   "cell_type": "code",
   "execution_count": 46,
   "id": "c67aeec6-c26d-4ef5-87c2-b99f6838ef90",
   "metadata": {},
   "outputs": [],
   "source": [
    "rostam_data = {\n",
    "    \"name\": \"Rostam\",\n",
    "    \"nationality\": \"Turanian\",\n",
    "    \"father\": \"Zal\" ,\n",
    "    \"mother\": \"Rudaabeh\",\n",
    "    \"spouse\": \"Tahmineh\",\n",
    "    \"grandfather\": \"Sam\",\n",
    "    \"delivery\": \"C-Section\",\n",
    "    \"POB\": \"Zabol\",\n",
    "    \"POD\" : \"Kabul\"\n",
    "}"
   ]
  },
  {
   "cell_type": "markdown",
   "id": "640934bf-972d-4e4e-a35e-994c343625c2",
   "metadata": {},
   "source": [
    "Because Rostam's `\"date of birth\"` might not be in our dictionary, use one of the `.get()` methods to print Rostam's **date of birth** and ensure that if Rostam's **date of birth** does not exist, the number `-87` is printed and no error occurs."
   ]
  },
  {
   "cell_type": "code",
   "execution_count": 47,
   "id": "3662968f-2bdc-4a54-b77b-4373b994aa8e",
   "metadata": {},
   "outputs": [
    {
     "data": {
      "text/plain": [
       "-87"
      ]
     },
     "execution_count": 47,
     "metadata": {},
     "output_type": "execute_result"
    }
   ],
   "source": [
    "rostam_data.get('date_of_birth', -87)"
   ]
  },
  {
   "cell_type": "markdown",
   "id": "76b40b8d-9eca-4a27-801f-d9577d77e7f0",
   "metadata": {},
   "source": [
    "***<font color=\"gold\">Resource:</font>*** [Pytopia](https://www.pytopia.ai/)"
   ]
  },
  {
   "cell_type": "markdown",
   "id": "8bf7f00d-3fac-4e51-af24-c372faaf8fc4",
   "metadata": {},
   "source": [
    "### *Restrictions on Dictionary Keys and Values*"
   ]
  },
  {
   "cell_type": "markdown",
   "id": "d70b44a5-cb5e-45a4-8529-601207635fe6",
   "metadata": {},
   "source": [
    "Which of the following options defines a dictionary incorrectly:\n",
    "```python\n",
    "1. foo = {1: 'aaaa', 3.14: 'bbbb', 6.18: 'ccc'}\n",
    "2. foo = {[1, 3.14]: 'a', [2, 6.28]: 'b'}\n",
    "3. foo = {(1, 3.14): 'a', (2, 12.56): 'b'}\n",
    "4. foo = {dict: [], float: 2, int: 3.14}\n",
    "```"
   ]
  },
  {
   "cell_type": "markdown",
   "id": "e12763b0-4785-4bf8-9d58-94c87107b4b3",
   "metadata": {},
   "source": [
    "> ***<font color=\"green\">Answer:</font>*** 2"
   ]
  },
  {
   "cell_type": "markdown",
   "id": "28cb3546-c5e7-48dd-877e-1733d09e7a0d",
   "metadata": {},
   "source": [
    "***<font color=\"gold\">Resource:</font>*** [Pytopia](https://www.pytopia.ai/)"
   ]
  },
  {
   "cell_type": "markdown",
   "id": "f45cebf4-dbb3-4424-ac94-92affda89210",
   "metadata": {},
   "source": [
    "### *Building a Dictionary Incrementally*"
   ]
  },
  {
   "cell_type": "markdown",
   "id": "79f28dec-d34b-4b6d-85cb-af35d75d9ed9",
   "metadata": {},
   "source": [
    "First use `{}` to create an empty dictionary named `bmw`, then add a `\"red\"` value to the `bmw` dictionary for the `\"color\"` key."
   ]
  },
  {
   "cell_type": "code",
   "execution_count": 51,
   "id": "805348f3-07a2-4753-bb48-dabb92b1da80",
   "metadata": {},
   "outputs": [],
   "source": [
    "bmw = {}"
   ]
  },
  {
   "cell_type": "code",
   "execution_count": 52,
   "id": "72e543bb-4791-42f9-80d9-71bfe808cda7",
   "metadata": {},
   "outputs": [],
   "source": [
    "bmw['color'] = 'red'"
   ]
  },
  {
   "cell_type": "markdown",
   "id": "2da53c34-eba9-4c2a-9725-28266d7f018a",
   "metadata": {},
   "source": [
    "***<font color=\"gold\">Resource:</font>*** [Pytopia](https://www.pytopia.ai/)"
   ]
  },
  {
   "cell_type": "markdown",
   "id": "15ff0ff1",
   "metadata": {},
   "source": [
    "### *House Hunting: Part A*"
   ]
  },
  {
   "cell_type": "markdown",
   "id": "0e43c714",
   "metadata": {},
   "source": [
    "You have graduated from MIT and now have a great job! You move to the San Francisco Bay Area and\n",
    "decide that you want to start saving to buy a house.  As housing prices are very high in the Bay Area,\n",
    "you realize you are going to have to save for several years before you can afford to make the down\n",
    "payment on a house. In Part A, we are going to determine how long it will take you to save enough\n",
    "money to make the down payment given the following assumptions:\n",
    "1. Call the cost of your dream home `total_cost`.\n",
    "2. Call the portion of the cost needed for a down payment `portion_down_payment`. For simplicity, assume that `portion_down_payment = 0.25` (25%).\n",
    "3. Call the amount that you have saved thus far `current_savings`. You start with a current savings of `$0`. \n",
    "4. Assume that you invest your current savings wisely, with an annual return of `r` (in other words,\n",
    "at the end of each month, you receive an additional `current_savings * r/12` funds to put into\n",
    "your savings – the 12 is because r is an annual rate). Assume that your investments earn a \n",
    "return of `r = 0.04` (4%).\n",
    "5. Assume your annual salary is `annual_salary`.\n",
    "6. Assume you are going to dedicate a certain amount of your salary each month to saving for \n",
    "the down payment. Call that portion_saved. This variable should be in decimal form (i.e. 0.1\n",
    "for 10%). \n",
    "7. At the end of each month, your savings will be increased by the return on your investment,\n",
    "plus a percentage of your monthly salary (`annual salary / 12`).<br>\n",
    "Write a program to calculate how many months it will take you to save up enough money for a down\n",
    "payment. You will want your main variables to be floats, so you should cast user inputs to floats."
   ]
  },
  {
   "cell_type": "markdown",
   "id": "2526bc1d",
   "metadata": {},
   "source": [
    "Your program should ask the user to enter the following variables:\n",
    "1. The starting annual salary (`annual_salary`)\n",
    "2. The portion of salary to be saved (`portion_saved`)\n",
    "3. The cost of your dream home (`total_cost`)"
   ]
  },
  {
   "cell_type": "code",
   "execution_count": 4,
   "id": "1f511f78",
   "metadata": {},
   "outputs": [
    {
     "name": "stdin",
     "output_type": "stream",
     "text": [
      "Enter your annual salary:  2\n",
      "Enter the percent of your salary to save, as a decimal:  3\n",
      "Enter the cost of your dream home:  2\n"
     ]
    }
   ],
   "source": [
    "annual_salary = int(input('Enter your annual salary: '))\n",
    "portion_saved = float(input('Enter the percent of your salary to save, as a decimal: '))\n",
    "total_cost = int(input('Enter the cost of your dream home: '))"
   ]
  },
  {
   "cell_type": "code",
   "execution_count": 5,
   "id": "a79b8842",
   "metadata": {},
   "outputs": [],
   "source": [
    "current_saving = 0\n",
    "portion_down_payment = .25 * total_cost\n",
    "# Annual return\n",
    "r = .04\n",
    "month_counter = 0"
   ]
  },
  {
   "cell_type": "code",
   "execution_count": 6,
   "id": "3e517c91",
   "metadata": {},
   "outputs": [],
   "source": [
    "while current_saving < portion_down_payment:\n",
    "    # Saving a certain amount of salary each month\n",
    "    current_saving += (annual_salary / 12) * portion_saved\n",
    "    # Monthly savings increase by the return on investment\n",
    "    current_saving += current_saving * (r / 12)\n",
    "    \n",
    "    month_counter += 1"
   ]
  },
  {
   "cell_type": "code",
   "execution_count": 16,
   "id": "944ed52a",
   "metadata": {},
   "outputs": [
    {
     "name": "stdout",
     "output_type": "stream",
     "text": [
      "Number of months: 2\n"
     ]
    }
   ],
   "source": [
    "print(f'Number of months: {month_counter}')"
   ]
  },
  {
   "cell_type": "markdown",
   "id": "9052f690",
   "metadata": {},
   "source": [
    "***<font color=\"gold\">Resource:</font>*** [MIT](https://ocw.mit.edu/courses/6-0001-introduction-to-computer-science-and-programming-in-python-fall-2016/)"
   ]
  },
  {
   "cell_type": "markdown",
   "id": "384bf2c8",
   "metadata": {},
   "source": [
    "### *Part B: Saving, with a raise*"
   ]
  },
  {
   "cell_type": "markdown",
   "id": "33e547c1",
   "metadata": {},
   "source": [
    "**Background:** In Part A, we unrealistically assumed that your salary didn’t change.  But you are an MIT graduate, and\n",
    "clearly you are going to be worth more to your company over time! So we are going to build on your\n",
    "solution to Part A by factoring in a raise every six months"
   ]
  },
  {
   "cell_type": "markdown",
   "id": "266f2430",
   "metadata": {},
   "source": [
    "In ps1b.py, copy your solution to Part A (as we are going to reuse much of that machinery).  Modify\n",
    "your program to include the following\n",
    "1. Have the user input a semi-annual salary raise `semi_annual_raise` (as a decimal percentage)\n",
    "2. After the 6th month, increase your salary by that percentage.  Do the same after the 12th month, the 18th month, and so on. . \n"
   ]
  },
  {
   "cell_type": "markdown",
   "id": "49139d55",
   "metadata": {},
   "source": [
    "Write a program to calculate how many months it will take you save up enough money for a down\n",
    "payment. LIke before, assume that your investments earn a return of `r = 0.04` (or 4%) and the\n",
    "required down payment percentage is `0.25` (or 25%)."
   ]
  },
  {
   "cell_type": "markdown",
   "id": "e015da87",
   "metadata": {},
   "source": [
    "  Have the user enter the following variables:\n",
    "1. The starting annual salary (`annual_salary`)\n",
    "2. The percentage of salary to be saved (`portion_saved`)\n",
    "3. The cost of your dream home (`total_cost`)\n",
    "4. The semi-annual salary raise (`semi_annual_raise`)"
   ]
  },
  {
   "cell_type": "code",
   "execution_count": 11,
   "id": "79333403",
   "metadata": {},
   "outputs": [
    {
     "name": "stdin",
     "output_type": "stream",
     "text": [
      "Enter your annual salary:  2\n",
      "Enter the percent of your salary to save, as a decimal:  3\n",
      "Enter the cost of your dream home:  4\n",
      "Enter the semiannual raise, as a decimal:  5\n"
     ]
    }
   ],
   "source": [
    "annual_salary = int(input('Enter your annual salary: '))\n",
    "portion_saved = float(input('Enter the percent of your salary to save, as a decimal: '))\n",
    "total_cost = int(input('Enter the cost of your dream home: '))\n",
    "semi_annual_raise = float(input('Enter the semiannual raise, as a decimal: '))"
   ]
  },
  {
   "cell_type": "code",
   "execution_count": 12,
   "id": "658eb3ed",
   "metadata": {},
   "outputs": [],
   "source": [
    "current_saving = 0\n",
    "portion_down_payment = .25 * total_cost\n",
    "# Annual return\n",
    "r = .04\n",
    "month_counter = 0"
   ]
  },
  {
   "cell_type": "code",
   "execution_count": 14,
   "id": "7aebd026",
   "metadata": {},
   "outputs": [],
   "source": [
    "while current_saving < portion_down_payment:    \n",
    "    # Saving a certain amount of salary each month\n",
    "    current_saving += (annual_salary / 12) * portion_saved\n",
    "    # Monthly savings increase by the return on investment\n",
    "    current_saving += current_saving * (r / 12)\n",
    "    \n",
    "    month_counter += 1\n",
    "    # Raising annual salary every 6 month\n",
    "    if (month_counter % 6) == 0:\n",
    "        annual_salary *= (1 + semi_annual_raise)"
   ]
  },
  {
   "cell_type": "code",
   "execution_count": 15,
   "id": "1ec092f4",
   "metadata": {},
   "outputs": [
    {
     "name": "stdout",
     "output_type": "stream",
     "text": [
      "Number of months: 2\n"
     ]
    }
   ],
   "source": [
    "print(f'Number of months: {month_counter}')"
   ]
  },
  {
   "cell_type": "markdown",
   "id": "aaea45da",
   "metadata": {},
   "source": [
    "***<font color=\"gold\">Resource:</font>*** [MIT](https://ocw.mit.edu/courses/6-0001-introduction-to-computer-science-and-programming-in-python-fall-2016/)"
   ]
  },
  {
   "cell_type": "markdown",
   "id": "d220ce73-da73-48b2-8aa3-5060589385b5",
   "metadata": {},
   "source": [
    "### *One-digit prime numbers*"
   ]
  },
  {
   "cell_type": "markdown",
   "id": "9fc9d9c7-273a-42f2-ab0c-12c6dbe1fd46",
   "metadata": {},
   "source": [
    "Create a Set of one-digit prime numbers and store it in the `primes` variable and print it."
   ]
  },
  {
   "cell_type": "code",
   "execution_count": 3,
   "id": "02a7e1d2-2b9d-456c-b7db-0a413e97e9d2",
   "metadata": {},
   "outputs": [],
   "source": [
    "primes = {2,3,5,7}"
   ]
  },
  {
   "cell_type": "markdown",
   "id": "da6419f2-5448-46f2-9316-20e497462763",
   "metadata": {},
   "source": [
    "***<font color=\"gold\">Resource:</font>*** [Pytopia](https://www.pytopia.ai/)"
   ]
  },
  {
   "cell_type": "markdown",
   "id": "7aa4eecd-1d4e-4034-859b-64d2a0742687",
   "metadata": {},
   "source": [
    "### *A list or a set, ay there's the point*"
   ]
  },
  {
   "cell_type": "markdown",
   "id": "f1696b50-8048-4a6a-b870-dc3456773a67",
   "metadata": {},
   "source": [
    "The following is a set of prime numbers **less than 1000**. Can you check to see if the numbers `463`, `149`, and `973` are prime? **Which is better for determining the presence or absence of an item in a group of items, a list or a set?**"
   ]
  },
  {
   "cell_type": "markdown",
   "id": "85c01c48-12e8-4592-b04f-5d200d21ee4a",
   "metadata": {},
   "source": [
    "```python\n",
    "primes = {\n",
    "    2, 3, 5, 7, 11, 13, 17, 19, 23, 29, 31, 37, 41,\n",
    "    43, 47, 53, 59, 61, 67, 71, 73, 79, 83, 89, 97,\n",
    "    101, 103, 107, 109, 113, 127, 131, 137, 139, 149,\n",
    "    151, 157, 163, 167, 173, 179, 181, 191, 193, 197,\n",
    "    199, 211, 223, 227, 229, 233, 239, 241, 251, 257,\n",
    "    263, 269, 271, 277, 281, 283, 293, 307, 311, 313,\n",
    "    317, 331, 337, 347, 349, 353, 359, 367, 373, 379,\n",
    "    383, 389, 397, 401, 409, 419, 421, 431, 433, 439,\n",
    "    443, 449, 457, 461, 463, 467, 479, 487, 491, 499,\n",
    "    503, 509, 521, 523, 541, 547, 557, 563, 569, 571,\n",
    "    577, 587, 593, 599, 601, 607, 613, 617, 619, 631,\n",
    "    641, 643, 647, 653, 659, 661, 673, 677, 683, 691,\n",
    "    701, 709, 719, 727, 733, 739, 743, 751, 757, 761,\n",
    "    769, 773, 787, 797, 809, 811, 821, 823, 827, 829,\n",
    "    839, 853, 857, 859, 863, 877, 881, 883, 887, 907,\n",
    "    911, 919, 929, 937, 941, 947, 953, 967, 971, 977,\n",
    "    983, 991\n",
    "}\n",
    "check_13 = 13 in primes\n",
    "print(\"13 is prime: \",check_13)\n",
    "```\n",
    "<font color=\"red\">Output:</font>\n",
    "```python\n",
    "13 is prime:  True\n",
    "```"
   ]
  },
  {
   "cell_type": "markdown",
   "id": "414bbfa3-fa7c-4034-bd2a-5a1ad1926219",
   "metadata": {},
   "source": [
    "> ***<font color=\"green\">Answer:</font>*** **Set**, Because sets use hash algorithm to store their items, And also when we search for an item in a set, it uses the same algorithm to find the item, So the time complexity of search operation for set is O(1). While time complexity of search operation for list is O(n). "
   ]
  },
  {
   "cell_type": "markdown",
   "id": "5d215fae-d346-4001-a7a5-91d112930e38",
   "metadata": {},
   "source": [
    "***<font color=\"gold\">Resource:</font>*** [Pytopia](https://www.pytopia.ai/)"
   ]
  },
  {
   "cell_type": "markdown",
   "id": "018480f8-8876-4d1f-a1d4-a0cafd89b2be",
   "metadata": {},
   "source": [
    "### *Add an element to the set*"
   ]
  },
  {
   "cell_type": "markdown",
   "id": "77c15a9c-5537-4306-8125-a218288f97df",
   "metadata": {},
   "source": [
    "Oops! apparently one of the prime numbers below One thousand, `997`, is missing. Can you add it to `primes` vaiable? Then check to see if `997` is in `primes` variable."
   ]
  },
  {
   "cell_type": "code",
   "execution_count": 46,
   "id": "f411abe1-7d2e-4a86-862e-c88b6fb43854",
   "metadata": {},
   "outputs": [],
   "source": [
    "primes = {\n",
    "    2, 3, 5, 7, 11, 13, 17, 19, 23, 29, 31, 37, 41,\n",
    "    43, 47, 53, 59, 61, 67, 71, 73, 79, 83, 89, 97,\n",
    "    101, 103, 107, 109, 113, 127, 131, 137, 139, 149,\n",
    "    151, 157, 163, 167, 173, 179, 181, 191, 193, 197,\n",
    "    199, 211, 223, 227, 229, 233, 239, 241, 251, 257,\n",
    "    263, 269, 271, 277, 281, 283, 293, 307, 311, 313,\n",
    "    317, 331, 337, 347, 349, 353, 359, 367, 373, 379,\n",
    "    383, 389, 397, 401, 409, 419, 421, 431, 433, 439,\n",
    "    443, 449, 457, 461, 463, 467, 479, 487, 491, 499,\n",
    "    503, 509, 521, 523, 541, 547, 557, 563, 569, 571,\n",
    "    577, 587, 593, 599, 601, 607, 613, 617, 619, 631,\n",
    "    641, 643, 647, 653, 659, 661, 673, 677, 683, 691,\n",
    "    701, 709, 719, 727, 733, 739, 743, 751, 757, 761,\n",
    "    769, 773, 787, 797, 809, 811, 821, 823, 827, 829,\n",
    "    839, 853, 857, 859, 863, 877, 881, 883, 887, 907,\n",
    "    911, 919, 929, 937, 941, 947, 953, 967, 971, 977,\n",
    "    983, 991\n",
    "}"
   ]
  },
  {
   "cell_type": "code",
   "execution_count": 48,
   "id": "f99b2081-a199-4a19-9d6e-5654583926b6",
   "metadata": {},
   "outputs": [],
   "source": [
    "primes.add(997)"
   ]
  },
  {
   "cell_type": "code",
   "execution_count": 49,
   "id": "3d235669-2681-43eb-9eb8-906f93cec64f",
   "metadata": {},
   "outputs": [
    {
     "data": {
      "text/plain": [
       "True"
      ]
     },
     "execution_count": 49,
     "metadata": {},
     "output_type": "execute_result"
    }
   ],
   "source": [
    "997 in primes"
   ]
  },
  {
   "cell_type": "markdown",
   "id": "cf82062f-2ee8-4b8c-99eb-29b359e54aa7",
   "metadata": {},
   "source": [
    "***<font color=\"gold\">Resource:</font>*** [Pytopia](https://www.pytopia.ai/)"
   ]
  },
  {
   "cell_type": "markdown",
   "id": "4fc87f22-87d9-4b01-8ed5-2e1d1acce8ce",
   "metadata": {},
   "source": [
    "### *Set operations*"
   ]
  },
  {
   "cell_type": "markdown",
   "id": "afe982e2-7644-40d7-b9ba-c5ea35b93bf5",
   "metadata": {},
   "source": [
    "Make a set of **multiples of 3** and name it `X`.\n",
    "\n",
    "Make a set of **multiples of 5** and name it `Y`.\n",
    "\n",
    "Can you find the **multiples of 15** using the `&` operator and store it in variable `Z1`?\n",
    "\n",
    "Can you find the **multiples of 15** using the `intersection()` method and store it in variable `Z2`?\n",
    "\n",
    "Then find the **multiples of 5 that are not divisible by 3**. (hint: use the operator `-` or use the `difference()` method)\n",
    "\n",
    "after that use the `|` operators or the `union()` method to make a list of numbers that are either divisible by 5 **or** divisible by 3, **or** divisible by both."
   ]
  },
  {
   "cell_type": "code",
   "execution_count": 34,
   "id": "bcc640e8-eacf-4d09-bf9e-3fb6c10e4949",
   "metadata": {},
   "outputs": [],
   "source": [
    "X = set(range(3, 100, 3))\n",
    "Y = set(range(5, 100, 5))"
   ]
  },
  {
   "cell_type": "markdown",
   "id": "1653956c-a382-4d3b-9a66-0433eda0ede4",
   "metadata": {},
   "source": [
    "Intersection of two sets **X** and **Y** using **&** operator:"
   ]
  },
  {
   "cell_type": "code",
   "execution_count": 38,
   "id": "9f75deb5-5018-4404-8b8a-971770e6f07b",
   "metadata": {},
   "outputs": [],
   "source": [
    "Z1 = X & Y"
   ]
  },
  {
   "cell_type": "markdown",
   "id": "e6a8de47-6deb-4bb5-9b9d-8a7e70dab764",
   "metadata": {},
   "source": [
    "Intersection of two sets X and Y using **intersection()** method:"
   ]
  },
  {
   "cell_type": "code",
   "execution_count": 39,
   "id": "01317fbb-26ba-4422-97fe-09bff32a4634",
   "metadata": {},
   "outputs": [],
   "source": [
    "Z2 = X.intersection(Y)"
   ]
  },
  {
   "cell_type": "markdown",
   "id": "5d9e7b2a-4153-4383-932d-4a87545184f4",
   "metadata": {},
   "source": [
    "Members of set Y that do not exist in X using **-** operator: "
   ]
  },
  {
   "cell_type": "code",
   "execution_count": 40,
   "id": "049e2526-bd72-4c46-ae57-b38af08b4a1e",
   "metadata": {},
   "outputs": [],
   "source": [
    "Z3 = Y - X"
   ]
  },
  {
   "cell_type": "markdown",
   "id": "2b0e6f8c-72d9-45e2-88dd-ad176ae93026",
   "metadata": {},
   "source": [
    "Members of set Y that do not exist in X using **difference** method: "
   ]
  },
  {
   "cell_type": "code",
   "execution_count": 41,
   "id": "d86e721f-2683-4251-b813-e4fc170d8332",
   "metadata": {},
   "outputs": [],
   "source": [
    "Z3 = Y.difference(X)"
   ]
  },
  {
   "cell_type": "markdown",
   "id": "dcc57f75-1c3f-4a4a-8169-1e3f5d01c2e3",
   "metadata": {},
   "source": [
    "Union of two sets **X** and **Y** using **|** operator:"
   ]
  },
  {
   "cell_type": "code",
   "execution_count": 42,
   "id": "2b173e24-bd18-446a-b1bd-fcbf2e112974",
   "metadata": {},
   "outputs": [],
   "source": [
    "Z4 = X | Y"
   ]
  },
  {
   "cell_type": "markdown",
   "id": "bf8d35ac-7aeb-4880-92aa-6a20a04b9077",
   "metadata": {},
   "source": [
    "Union of two sets **X** and **Y** using **union()** method:"
   ]
  },
  {
   "cell_type": "code",
   "execution_count": 43,
   "id": "770befc4-7411-485c-8051-9e2fb490c695",
   "metadata": {},
   "outputs": [],
   "source": [
    "Z4 = X.union(Y)"
   ]
  },
  {
   "cell_type": "markdown",
   "id": "d50994ed-73ec-44cf-b9f4-2affa7f6ad15",
   "metadata": {},
   "source": [
    "***<font color=\"gold\">Resource:</font>*** [Pytopia](https://www.pytopia.ai/)"
   ]
  },
  {
   "cell_type": "markdown",
   "id": "97a7d3ca-523d-4cbd-ae1f-1dadb704fde2",
   "metadata": {
    "jp-MarkdownHeadingCollapsed": true,
    "tags": []
   },
   "source": [
    "## Conditional if Statement"
   ]
  },
  {
   "cell_type": "markdown",
   "id": "6cd80d5b-8ac9-43cb-8138-6f44b5b3a63b",
   "metadata": {},
   "source": [
    "### *Find Median*"
   ]
  },
  {
   "cell_type": "markdown",
   "id": "ef82eb1a-7ab4-40e9-a218-7a7bd3177f39",
   "metadata": {},
   "source": [
    "Write a Python program to get 3 inputs from the user and find the median of three values without sorting values. only use conditional statements, not any python methods."
   ]
  },
  {
   "cell_type": "code",
   "execution_count": 23,
   "id": "a435007e-11d2-4861-ba4e-9d40c0d6e859",
   "metadata": {},
   "outputs": [
    {
     "name": "stdin",
     "output_type": "stream",
     "text": [
      "Enter the first number:  73\n",
      "Enter the second number:  16\n",
      "Enter the third number:  90\n"
     ]
    }
   ],
   "source": [
    "n1 = float(input(\"Enter the first number: \"))\n",
    "n2 = float(input(\"Enter the second number: \"))\n",
    "n3 = float(input(\"Enter the third number: \"))"
   ]
  },
  {
   "cell_type": "code",
   "execution_count": 27,
   "id": "a3ffef3f-93b7-4e79-9ae0-2150311b8e92",
   "metadata": {},
   "outputs": [],
   "source": [
    "if n1 > n2:\n",
    "    if n1 < n3:\n",
    "        median = n1\n",
    "    elif n3 > n2:\n",
    "        median = n3\n",
    "    else: \n",
    "        median = n2\n",
    "else:\n",
    "    if n1 > n3:\n",
    "        median = n1\n",
    "    elif n3 > n2:\n",
    "        median = n2\n",
    "    else:\n",
    "        median = n2"
   ]
  },
  {
   "cell_type": "code",
   "execution_count": 26,
   "id": "6db65cda-e242-4af7-ad83-0559ec05965d",
   "metadata": {},
   "outputs": [
    {
     "name": "stdout",
     "output_type": "stream",
     "text": [
      "The median is 73.0\n"
     ]
    }
   ],
   "source": [
    "print(f'The median is {median}')"
   ]
  },
  {
   "cell_type": "markdown",
   "id": "ccd62d32-29d5-4e75-ad36-c862e2cf885b",
   "metadata": {},
   "source": [
    "***<font color=\"gold\">Resource:</font>*** [Pytopia](https://www.pytopia.ai/)"
   ]
  },
  {
   "cell_type": "markdown",
   "id": "4f826123-78fa-4f35-861e-b3c893f05969",
   "metadata": {},
   "source": [
    "### *Conditional Sum*"
   ]
  },
  {
   "cell_type": "markdown",
   "id": "7d213e11-8730-4538-9c27-a1360d92d881",
   "metadata": {},
   "source": [
    "Ali is TA. He wants to calculate the student's final score based on three scores and if their mean value is between `16` and `20`, give them `20`, otherwise, put the actual mean score. Help him write a program that gets three input as scores and give the result."
   ]
  },
  {
   "cell_type": "markdown",
   "id": "a73a346f-4d35-42b3-a369-18bd5f97242f",
   "metadata": {},
   "source": [
    "<font color=\"green\">**Inputs:**</font>\n",
    "18.75, \n",
    "16.2,\n",
    "15.9\n",
    "\n",
    "<font color=\"red\">**Output:**</font>\n",
    "20  "
   ]
  },
  {
   "cell_type": "code",
   "execution_count": 2,
   "id": "85d6f13b-ffa8-43e5-b2b6-c528aea2d76e",
   "metadata": {},
   "outputs": [
    {
     "name": "stdin",
     "output_type": "stream",
     "text": [
      "Enter the first score:  14\n",
      "Enter the second score:  16\n",
      "Enter the third score:  19\n"
     ]
    }
   ],
   "source": [
    "s1 = float(input(\"Enter the first score: \"))\n",
    "s2 = float(input(\"Enter the second score: \"))\n",
    "s3 = float(input(\"Enter the third score: \"))"
   ]
  },
  {
   "cell_type": "code",
   "execution_count": 3,
   "id": "f50fe720-2728-4c9f-9c08-39344a095363",
   "metadata": {},
   "outputs": [],
   "source": [
    "mean = sum((s1, s2, s3)) / 3"
   ]
  },
  {
   "cell_type": "code",
   "execution_count": 4,
   "id": "4eefd7cc-4a1f-4af8-869b-24ebe5a572ad",
   "metadata": {},
   "outputs": [
    {
     "name": "stdout",
     "output_type": "stream",
     "text": [
      "Your final score is 20.\n"
     ]
    }
   ],
   "source": [
    "if mean >= 16:\n",
    "    mean = 20\n",
    "print(f'Your final score is {mean}.')"
   ]
  },
  {
   "cell_type": "markdown",
   "id": "2bc16519-cb32-47da-94f7-36bd3c31a936",
   "metadata": {},
   "source": [
    "***<font color=\"gold\">Resource:</font>*** [Pytopia](https://www.pytopia.ai/)"
   ]
  },
  {
   "cell_type": "markdown",
   "id": "2fb4608d-89a7-41f7-96d5-96536345cb3e",
   "metadata": {},
   "source": [
    "### *Vowel Or Consonant*"
   ]
  },
  {
   "cell_type": "markdown",
   "id": "246ef307-6254-4f8b-b177-ed1a81a78bbd",
   "metadata": {},
   "source": [
    "Write a Python program to check whether an alphabet is a vowel or consonant.  \n",
    "\n",
    "**note:** input alphabet can also be capital"
   ]
  },
  {
   "cell_type": "markdown",
   "id": "029618d8-b590-43a3-9038-a498d603cf29",
   "metadata": {},
   "source": [
    "<font color=\"green\">**Inputs :**</font><br>\n",
    "u\n",
    "\n",
    "<font color=\"red\">**Output:**</font><br>\n",
    "vowel  "
   ]
  },
  {
   "cell_type": "code",
   "execution_count": 5,
   "id": "08970d9b-af3c-4d26-b96f-bbd57298263c",
   "metadata": {},
   "outputs": [],
   "source": [
    "vowels = {'a', 'e', 'i', 'o', 'u'}"
   ]
  },
  {
   "cell_type": "code",
   "execution_count": 25,
   "id": "41cd6de2-288f-4635-bec6-18c144dc3400",
   "metadata": {},
   "outputs": [
    {
     "name": "stdin",
     "output_type": "stream",
     "text": [
      "Please input a letter of the alphabet:  a\n"
     ]
    }
   ],
   "source": [
    "alph = input('Please input a letter of the alphabet: ')"
   ]
  },
  {
   "cell_type": "code",
   "execution_count": 31,
   "id": "4cbf1d10-250c-4797-8d55-ceff59484db1",
   "metadata": {},
   "outputs": [
    {
     "name": "stdout",
     "output_type": "stream",
     "text": [
      "\"a\" is a vowel\n"
     ]
    }
   ],
   "source": [
    "if alph.lower() in vowels:\n",
    "    print(f'\"{alph}\" is a vowel')\n",
    "else:\n",
    "    print(print(f'{alph} is a consonant'))"
   ]
  },
  {
   "cell_type": "markdown",
   "id": "3bdca09c-1405-48ab-af8c-17162a10d460",
   "metadata": {},
   "source": [
    "***<font color=\"gold\">Resource:</font>*** [Pytopia](https://www.pytopia.ai/)"
   ]
  },
  {
   "cell_type": "markdown",
   "id": "ca002253-f5f7-487e-850b-5c71713e2101",
   "metadata": {},
   "source": [
    "### *Grading System*"
   ]
  },
  {
   "cell_type": "markdown",
   "id": "435415d4-50fa-4a62-9b7c-b8690abc9859",
   "metadata": {},
   "source": [
    "Pytopia wants to develop a system that divides the entrance exam scores of the python class members into four categories as follows: "
   ]
  },
  {
   "cell_type": "markdown",
   "id": "26fac337-5dbc-403f-8cbe-9baedeb9b345",
   "metadata": {},
   "source": [
    "| Marks           | Grade       |\n",
    "| -----------     | ----------- |\n",
    "| > 90            | A           |\n",
    "| > 80 and <= 90  | B           |\n",
    "| >= 60 and <= 80 | C           |\n",
    "| below 60        | D           |"
   ]
  },
  {
   "cell_type": "markdown",
   "id": "21614f6b-355e-40e5-bd2d-e28f9b64c85d",
   "metadata": {},
   "source": [
    "Get a score number as input and print the desired class name."
   ]
  },
  {
   "cell_type": "code",
   "execution_count": 36,
   "id": "72b383f4-1f20-4ec5-b662-b80a22fa718d",
   "metadata": {},
   "outputs": [
    {
     "name": "stdin",
     "output_type": "stream",
     "text": [
      "Input the score:  90\n"
     ]
    }
   ],
   "source": [
    "mark = int(input(\"Input the score: \"))"
   ]
  },
  {
   "cell_type": "code",
   "execution_count": 39,
   "id": "d90f62b8-11a1-4823-b5cf-cff7f6129bac",
   "metadata": {},
   "outputs": [
    {
     "name": "stdout",
     "output_type": "stream",
     "text": [
      "Your grade is B\n"
     ]
    }
   ],
   "source": [
    "if mark < 60:\n",
    "    print(\"Your grade is D\")\n",
    "elif mark >= 60 and mark <= 80:\n",
    "    print(\"Your grade is C\")\n",
    "elif mark > 80 and mark <= 90:\n",
    "    print(\"Your grade is B\")\n",
    "elif mark > 90:\n",
    "    print(\"Your grade is A\")"
   ]
  },
  {
   "cell_type": "markdown",
   "id": "7014ffec-a64b-477c-b29e-5d2c8d3608c9",
   "metadata": {},
   "source": [
    "***<font color=\"gold\">Resource:</font>*** [Pytopia](https://www.pytopia.ai/)"
   ]
  },
  {
   "cell_type": "markdown",
   "id": "97497930-194e-4566-b0d0-b0dab78f96c6",
   "metadata": {},
   "source": [
    "### *Triangle Type*"
   ]
  },
  {
   "cell_type": "markdown",
   "id": "ffcae492-cd30-4581-9e19-5045f1dffaff",
   "metadata": {},
   "source": [
    "Write a program to get three numbers as the sides of a triangle and check whether it is an **equilateral**, **isosceles**, or **scalene** triangle."
   ]
  },
  {
   "cell_type": "markdown",
   "id": "7cd660ef-4a7e-4c89-bd19-1b517f69c867",
   "metadata": {},
   "source": [
    "***Note :***\n",
    "* An equilateral triangle is a triangle in which all three sides are equal.\n",
    "* A scalene triangle is a triangle that has three unequal sides.\n",
    "* An isosceles triangle is a triangle with (at least) two equal sides."
   ]
  },
  {
   "cell_type": "code",
   "execution_count": 49,
   "id": "fbf7993b-9094-467b-ba31-8ec26adbaef2",
   "metadata": {},
   "outputs": [
    {
     "name": "stdin",
     "output_type": "stream",
     "text": [
      "Enter the firts side:  4\n",
      "Enter the second side:  5\n",
      "Enter the third side:  6\n"
     ]
    }
   ],
   "source": [
    "side_1 = int(input(\"Enter the firts side: \"))\n",
    "side_2 = int(input(\"Enter the second side: \"))\n",
    "side_3 = int(input(\"Enter the third side: \"))"
   ]
  },
  {
   "cell_type": "code",
   "execution_count": 51,
   "id": "2ccc671e-29b1-4a00-ade4-9543c7262f49",
   "metadata": {},
   "outputs": [
    {
     "name": "stdout",
     "output_type": "stream",
     "text": [
      "scalene\n"
     ]
    }
   ],
   "source": [
    "if side_1 == side_2 == side_3:\n",
    "    print(\"equilateral\")\n",
    "elif side_1 != side_2 != side_3:\n",
    "    print(\"scalene\")\n",
    "else:\n",
    "    print(\"isosceles\")"
   ]
  },
  {
   "cell_type": "markdown",
   "id": "9f2de2d0-c2cd-4b51-8e1d-bca9775ceea4",
   "metadata": {},
   "source": [
    "***<font color=\"gold\">Resource:</font>*** [Pytopia](https://www.pytopia.ai/)"
   ]
  },
  {
   "cell_type": "markdown",
   "id": "4b8484af-4f82-4714-a802-5d29e42196cf",
   "metadata": {},
   "source": [
    "### *Largest Number*"
   ]
  },
  {
   "cell_type": "markdown",
   "id": "c45cc9d8-4410-439a-bd9c-6dbf7d4e0fcf",
   "metadata": {},
   "source": [
    "Write a program to find the largest number out of three numbers given by the user.  \n",
    "\n",
    "***Note:*** Don't sort numbers. just use conditional statements"
   ]
  },
  {
   "cell_type": "code",
   "execution_count": 60,
   "id": "3987ed14-b39c-45f5-ad1f-a4b659bf6fb4",
   "metadata": {},
   "outputs": [
    {
     "name": "stdin",
     "output_type": "stream",
     "text": [
      "Enter the first number:  7\n",
      "Enter the second number:  9\n",
      "Enter the third number:  3\n"
     ]
    }
   ],
   "source": [
    "# Take the three numbers\n",
    "num1 = float(input(\"Enter the first number: \"))\n",
    "num2 = float(input(\"Enter the second number: \"))\n",
    "num3 = float(input(\"Enter the third number: \"))"
   ]
  },
  {
   "cell_type": "code",
   "execution_count": 63,
   "id": "e81efc87-221c-421e-b870-e8ac3c39b140",
   "metadata": {},
   "outputs": [
    {
     "name": "stdout",
     "output_type": "stream",
     "text": [
      "9.0 is the largest number.\n"
     ]
    }
   ],
   "source": [
    "# Check for numbers to find the largest - 1st solution\n",
    "if num1 >= num2:\n",
    "    if num1 >= num3:\n",
    "        maximum = num1\n",
    "    else:\n",
    "        maximum = num3\n",
    "else:\n",
    "    if num2 > num3:\n",
    "        maximum = num2\n",
    "    else:\n",
    "        maximum = num3\n",
    "        \n",
    "print(f\"{maximum} is the largest number.\")"
   ]
  },
  {
   "cell_type": "code",
   "execution_count": 66,
   "id": "d19dadf8-dcc2-451d-893e-9a20ab32062b",
   "metadata": {},
   "outputs": [
    {
     "name": "stdout",
     "output_type": "stream",
     "text": [
      "9.0 is the largest number.\n"
     ]
    }
   ],
   "source": [
    "# Check for numbers to find the largest - 2nd solution (better)\n",
    "if num1 >= num2 and num1 >= num3:\n",
    "    maximum = num1\n",
    "\n",
    "elif num2 >= num3:\n",
    "    maximum = num2\n",
    "\n",
    "else:\n",
    "    maximum = num3\n",
    "    \n",
    "print(f\"{maximum} is the largest number.\")"
   ]
  },
  {
   "cell_type": "markdown",
   "id": "df2a18a7-f460-4b0d-bd8b-e25a9c050393",
   "metadata": {},
   "source": [
    "***<font color=\"gold\">Resource:</font>*** [Pytopia](https://www.pytopia.ai/)"
   ]
  },
  {
   "cell_type": "markdown",
   "id": "9f9104ff-cb0d-4908-a48e-ea880a569fdb",
   "metadata": {},
   "source": [
    "### *Easy Calculater*"
   ]
  },
  {
   "cell_type": "markdown",
   "id": "1cdb026e-2f6d-4d26-8afc-20898a891b06",
   "metadata": {},
   "source": [
    "Write a python program to accept two numbers and a mathematical operator and performs operation accordingly.\n",
    "mathematical operations are `+ - * /`."
   ]
  },
  {
   "cell_type": "code",
   "execution_count": 73,
   "id": "e0728ece-2111-4714-be80-f5d71c95ebf3",
   "metadata": {},
   "outputs": [
    {
     "name": "stdin",
     "output_type": "stream",
     "text": [
      "Input first number:  3\n",
      "Input second number:  4\n",
      "What operator do you want?  *\n"
     ]
    }
   ],
   "source": [
    "# Take numbers and operator\n",
    "n1 = float(input(\"Input first number: \"))\n",
    "n2 = float(input(\"Input second number: \"))\n",
    "op = input(\"What operator do you want? \")"
   ]
  },
  {
   "cell_type": "code",
   "execution_count": 76,
   "id": "d1375116-05a4-4444-953d-d47678881ac3",
   "metadata": {},
   "outputs": [
    {
     "name": "stdout",
     "output_type": "stream",
     "text": [
      "12.0\n"
     ]
    }
   ],
   "source": [
    "# Perform operation according to what is given\n",
    "if op == '+':\n",
    "    result = n1 + n2\n",
    "elif op == '-':\n",
    "    result = n1 - n2\n",
    "elif op == '*':\n",
    "    result = n1 * n2\n",
    "elif op == '/':\n",
    "    result = n1 / n2\n",
    "else:\n",
    "    print(\"Invalid operator!\")\n",
    "    \n",
    "print(result)"
   ]
  },
  {
   "cell_type": "markdown",
   "id": "6c49d686-1b8c-43b2-8974-1bfde53ba296",
   "metadata": {},
   "source": [
    "***<font color=\"gold\">Resource:</font>*** [Pytopia](https://www.pytopia.ai/)"
   ]
  },
  {
   "cell_type": "markdown",
   "id": "b8ca3ad4-55eb-4c53-ba0d-aa5ed65933fd",
   "metadata": {},
   "source": [
    "### *Conditional Job Working*"
   ]
  },
  {
   "cell_type": "markdown",
   "id": "094d538e-fbc9-4f61-a607-2f10aefd5fff",
   "metadata": {},
   "source": [
    "Ali has doubts about doing something. He asks his friend to choose a number between `500` and `1000` and if the tens digit is even, do the work. Otherwise, don't do it. (e.g in 542, 4 is a tens digit. Also, it is even).<br>Write a program that does this for him. if the tens digit is even print  `Do It!` otherwise, print `Don't Do It!`\n"
   ]
  },
  {
   "cell_type": "markdown",
   "id": "236eba1a-e193-4a56-9bc5-0ca7b1bca32a",
   "metadata": {},
   "source": [
    "***Note:*** the input number must be in the range `[500, 1000)`. otherwise, print `Invalid Number!`"
   ]
  },
  {
   "cell_type": "markdown",
   "id": "fbc69e00-c07f-47f1-88e8-bc53c6b89dca",
   "metadata": {},
   "source": [
    "***Note:*** Don't convert the number to string to get tens digit!"
   ]
  },
  {
   "cell_type": "code",
   "execution_count": 18,
   "id": "57977c8b-53e1-4ef6-aaa7-265123378f6d",
   "metadata": {},
   "outputs": [
    {
     "name": "stdin",
     "output_type": "stream",
     "text": [
      "Please input a number between 500 and 1000:  3005\n"
     ]
    }
   ],
   "source": [
    "# Taking a number between 500 & 1000\n",
    "num = int(input(\"Please input a number between 500 and 1000: \"))"
   ]
  },
  {
   "cell_type": "code",
   "execution_count": 20,
   "id": "f6e848db-6ab5-46b6-8d60-84d729164f1c",
   "metadata": {},
   "outputs": [
    {
     "name": "stdout",
     "output_type": "stream",
     "text": [
      "Invalid Number!\n"
     ]
    }
   ],
   "source": [
    "# Number Validation \n",
    "if num in range(501, 1000):\n",
    "    # Check for tens digit to print messages\n",
    "    tens = (num // 10) % 10\n",
    "    if tens % 2 == 0:\n",
    "        print(\"Do It!\")\n",
    "    else:\n",
    "        print(\"Don't Do It!\")\n",
    "else:\n",
    "    print(\"Invalid Number!\")"
   ]
  },
  {
   "cell_type": "markdown",
   "id": "97307c31-2ede-4e7a-a799-05957209364e",
   "metadata": {},
   "source": [
    "***<font color=\"gold\">Resource:</font>*** [Pytopia](https://www.pytopia.ai/)"
   ]
  },
  {
   "cell_type": "markdown",
   "id": "fb1acfab-8e3e-49eb-bcfd-d10e0ac9b7ed",
   "metadata": {},
   "source": [
    "### *Even or Odd*"
   ]
  },
  {
   "cell_type": "markdown",
   "id": "f39eb9ab-2331-489c-8f0e-541345bb5081",
   "metadata": {},
   "source": [
    "Write a Python program that receive a number from the user and determines if a given integer is even or odd."
   ]
  },
  {
   "cell_type": "code",
   "execution_count": 21,
   "id": "8055ce16-13ac-43f1-88e3-708b3fad3a9b",
   "metadata": {},
   "outputs": [
    {
     "name": "stdin",
     "output_type": "stream",
     "text": [
      "Enter a number:  47\n"
     ]
    },
    {
     "name": "stdout",
     "output_type": "stream",
     "text": [
      "47 is Odd.\n"
     ]
    }
   ],
   "source": [
    "n = int(input(\"Enter a number: \"))\n",
    "if n % 2 == 0:\n",
    "    print(f\"{n} is Even.\")\n",
    "else:\n",
    "    print(f\"{n} is Odd.\")"
   ]
  },
  {
   "cell_type": "markdown",
   "id": "a11821bd-835e-4a36-aea3-2fe4ce34143c",
   "metadata": {},
   "source": [
    "***<font color=\"gold\">Resource:</font>*** [Pytopia](https://www.pytopia.ai/)"
   ]
  },
  {
   "cell_type": "markdown",
   "id": "3124a2fa-874c-4575-922e-9a884e5a33be",
   "metadata": {},
   "source": [
    "### *The weekday name*"
   ]
  },
  {
   "cell_type": "markdown",
   "id": "2ab28403-2acb-46dd-a845-6157e97d1424",
   "metadata": {},
   "source": [
    "Write a Python code that would read any integer day number and show the day's name in the word."
   ]
  },
  {
   "cell_type": "code",
   "execution_count": 1,
   "id": "2211a578-74a3-4a5e-a0f8-8380b2134f44",
   "metadata": {},
   "outputs": [
    {
     "name": "stdin",
     "output_type": "stream",
     "text": [
      "Enter a day number: 27\n"
     ]
    }
   ],
   "source": [
    "inp_num = int(input(\"Enter a day number:\"))"
   ]
  },
  {
   "cell_type": "markdown",
   "id": "3a7439a0-59a1-48d1-9b5e-eaa85cee0832",
   "metadata": {},
   "source": [
    "First solution (better way):"
   ]
  },
  {
   "cell_type": "code",
   "execution_count": 4,
   "id": "3d49afb8-4131-417f-800f-841c550e8dcf",
   "metadata": {},
   "outputs": [],
   "source": [
    "daynum_map = {\n",
    "    0: 'Sunday',\n",
    "    1: 'Monday',\n",
    "    2: 'Tuesday',\n",
    "    3: 'Wednesday',\n",
    "    4: 'Thursday',\n",
    "    5: 'Friday',\n",
    "    6: 'Saturday',\n",
    "}"
   ]
  },
  {
   "cell_type": "code",
   "execution_count": 8,
   "id": "6b94d05c-ad04-4f1a-978a-94f4e8a58ab0",
   "metadata": {},
   "outputs": [
    {
     "name": "stdout",
     "output_type": "stream",
     "text": [
      "It's Saturday\n"
     ]
    }
   ],
   "source": [
    "print(f\"It's {daynum_map[inp_num % 7]}\")"
   ]
  },
  {
   "cell_type": "markdown",
   "id": "5eb608e3-05c4-431c-8282-5bf4b279fc38",
   "metadata": {},
   "source": [
    "second solution (by if-else condition):"
   ]
  },
  {
   "cell_type": "code",
   "execution_count": 6,
   "id": "add26f7d-82cf-4001-b5a8-2110ccd45ea0",
   "metadata": {},
   "outputs": [
    {
     "name": "stdout",
     "output_type": "stream",
     "text": [
      "It's Saturday!\n"
     ]
    }
   ],
   "source": [
    "if inp_num % 7 == 0: \n",
    "    print(\"It's Sunday!\")\n",
    "elif inp_num % 7 == 1:\n",
    "    print(\"It's Monday!\")\n",
    "elif inp_num % 7 == 2: \n",
    "    print(\"It's Tuesday!\")\n",
    "elif inp_num % 7 == 3: \n",
    "    print(\"It's Wednesday!\")\n",
    "elif inp_num % 7 == 4: \n",
    "    print(\"It's Thursday!\")\n",
    "elif inp_num % 7 == 5: \n",
    "    print(\"It's Friday!\")\n",
    "elif inp_num % 7 == 6: \n",
    "    print(\"It's Saturday!\")"
   ]
  },
  {
   "cell_type": "markdown",
   "id": "44166410-1515-402e-9773-db65bff412ba",
   "metadata": {},
   "source": [
    "***<font color=\"gold\">Resource:</font>*** [Pytopia](https://www.pytopia.ai/)"
   ]
  },
  {
   "cell_type": "markdown",
   "id": "9b7f0b48-1280-4984-a6f9-c410ec5d38b9",
   "metadata": {},
   "source": [
    "### *Angles of a triangle*"
   ]
  },
  {
   "cell_type": "markdown",
   "id": "3ffdcb72-071e-439f-b811-c598d841a04e",
   "metadata": {},
   "source": [
    "Write a python program that receive three angles from the user to determine whether the supplied angle values may be used to construct a triangle."
   ]
  },
  {
   "cell_type": "code",
   "execution_count": 35,
   "id": "2ae731df-9806-47b2-8ebc-096cc3a8fc98",
   "metadata": {},
   "outputs": [
    {
     "name": "stdin",
     "output_type": "stream",
     "text": [
      "Enter first angle:  60\n",
      "Enter second angle:  50\n",
      "Enter last angle:  30\n"
     ]
    }
   ],
   "source": [
    "a = float(input(\"Enter first angle: \"))\n",
    "b = float(input(\"Enter second angle: \"))\n",
    "c = float(input(\"Enter last angle: \"))"
   ]
  },
  {
   "cell_type": "code",
   "execution_count": 36,
   "id": "a297356e-f7d3-40d4-ac11-067225dd9dfd",
   "metadata": {},
   "outputs": [
    {
     "name": "stdout",
     "output_type": "stream",
     "text": [
      "Can not construct a triangle.\n"
     ]
    }
   ],
   "source": [
    "# Check if angles can use for construct a trianlge\n",
    "if (a + b + c) == 180:\n",
    "    print(\"Can construct a triangle.\")\n",
    "else:\n",
    "    print(\"Can not construct a triangle.\")"
   ]
  },
  {
   "cell_type": "markdown",
   "id": "1d1d773e-058b-43d6-9707-d53c84e10294",
   "metadata": {},
   "source": [
    "***<font color=\"gold\">Resource:</font>*** [Pytopia](https://www.pytopia.ai/)"
   ]
  },
  {
   "cell_type": "markdown",
   "id": "08f38c5e-2082-4f93-974e-f08c141fd807",
   "metadata": {},
   "source": [
    "### *Quadratic equation*"
   ]
  },
  {
   "cell_type": "code",
   "execution_count": null,
   "id": "af738ae7-74e2-4788-bbcc-2f61eec6e6fe",
   "metadata": {},
   "outputs": [],
   "source": [
    "a = float(input(\"Enter the coefficient of x^2: \"))\n",
    "b = float(input(\"Enter the coefficient of x: \"))\n",
    "c = float(input(\"Enter the constant number: \"))"
   ]
  },
  {
   "cell_type": "code",
   "execution_count": 38,
   "id": "83d52481-52f9-4d7b-9e72-388b592153fb",
   "metadata": {},
   "outputs": [
    {
     "name": "stdout",
     "output_type": "stream",
     "text": [
      "There are no real roots.\n"
     ]
    }
   ],
   "source": [
    "delta = b**2 - (4 * a * c)\n",
    "\n",
    "if delta < 0:\n",
    "    print(\"There are no real roots.\")\n",
    "elif delta == 0:\n",
    "    x = -(b / 2 * a)\n",
    "    print(f\"{x} is real root of the quadratic equation.\")\n",
    "else:\n",
    "    x1 = (-b + delta ** 0.5) / 2 * a\n",
    "    x2 = (-b - delta ** 0.5) / 2 * a\n",
    "    print(f\"{x1} and {x2} are two real roots of the equation.\")"
   ]
  },
  {
   "cell_type": "markdown",
   "id": "77b3d045-ab14-424d-9694-31d20d6316d0",
   "metadata": {},
   "source": [
    "***<font color=\"gold\">Resource:</font>*** [Pytopia](https://www.pytopia.ai/)"
   ]
  },
  {
   "cell_type": "markdown",
   "id": "db94d93e-abff-41c6-986e-9b2b57b78646",
   "metadata": {},
   "source": [
    "### *Blood pressure category*"
   ]
  },
  {
   "cell_type": "markdown",
   "id": "75faabc8-78c6-4f10-b665-463bb66a5146",
   "metadata": {},
   "source": [
    "write code that takes the user's `systolic` and `diastolic` blood pressures and tells them category of their current condition."
   ]
  },
  {
   "cell_type": "markdown",
   "id": "6d587920-176f-4f6b-8ef1-5bb1de6034b2",
   "metadata": {},
   "source": [
    "BLOOD PRESSURE CATEGORY  | \tSYSTOLIC mm Hg | and/or | DIASTOLIC mm Hg\n",
    "------------------------ | --------------- | ------ | --------------- \n",
    "NORMAL                   | LESS THAN 120   |  and   | LESS THAN 80\n",
    "ELEVATED                 | 120 – 129       |  and   | LESS THAN 80\n",
    "HIGH BLOOD PRESSURE (HYPERTENSION) STAGE 1 | 130 – 139 | or | 80 – 89 \n",
    "HIGH BLOOD PRESSURE (HYPERTENSION) STAGE 2 | 140 OR HIGHER | or | 90 OR HIGHER\n",
    "HYPERTENSIVE CRISIS (consult your doctor immediately) | HIGHER THAN 180 | and/or | HIGHER THAN 120"
   ]
  },
  {
   "cell_type": "code",
   "execution_count": 9,
   "id": "bb06c1cc-75ae-4393-bb88-118eade3c737",
   "metadata": {},
   "outputs": [
    {
     "name": "stdin",
     "output_type": "stream",
     "text": [
      "Please input your systolic blood pressure:  180\n",
      "Please input your diastolic blood pressure:  120\n"
     ]
    }
   ],
   "source": [
    "systolic = int(input(\"Please input your systolic blood pressure: \"))\n",
    "diastolic = int(input(\"Please input your diastolic blood pressure: \"))"
   ]
  },
  {
   "cell_type": "code",
   "execution_count": 11,
   "id": "3a9dd0b3-90b6-472e-9a1b-6216a55c6e2c",
   "metadata": {},
   "outputs": [
    {
     "name": "stdout",
     "output_type": "stream",
     "text": [
      "HIGH BLOOD PRESSURE (HYPERTENSION) STAGE 2\n",
      "HYPERTENSIVE CRISIS (consult your doctor immediately!)\n"
     ]
    }
   ],
   "source": [
    "if systolic < 120 and diastolic < 80:\n",
    "    print(\"NORMAL\")\n",
    "elif (120 <= systolic <= 129) and diastolic < 80:\n",
    "    print(\"ELEVATED\")\n",
    "elif (130 <= systolic <= 139) or (89 <= diastolic <= 90):\n",
    "    print(\"HIGH BLOOD PRESSURE (HYPERTENSION) STAGE 1\")\n",
    "elif systolic >= 140 or diastolic >= 90:\n",
    "    print(\"HIGH BLOOD PRESSURE (HYPERTENSION) STAGE 2\")\n",
    "    if systolic >= 180 or diastolic >= 120:\n",
    "        print(\"HYPERTENSIVE CRISIS (consult your doctor immediately!)\")"
   ]
  },
  {
   "cell_type": "markdown",
   "id": "39d00f63-5866-4d0c-b2a2-8d815533f69c",
   "metadata": {},
   "source": [
    "***<font color=\"gold\">Resource:</font>*** [Pytopia](https://www.pytopia.ai/)"
   ]
  },
  {
   "cell_type": "markdown",
   "id": "dfac9877-fd22-498f-b8a2-89ff834b4a7b",
   "metadata": {},
   "source": [
    "### *Area of geometric shapes*"
   ]
  },
  {
   "cell_type": "markdown",
   "id": "f6a3d274-0cf7-4b0e-a2d8-826ccd0c1b54",
   "metadata": {},
   "source": [
    "Create an application that initially displays a list of geometric shapes to the user. By entering a number, the user can pick one of those shapes. Then, based on the geometric shape selected, obtain the shape parameters from the user. Finally, as the output, display the shape's area."
   ]
  },
  {
   "cell_type": "markdown",
   "id": "a9927d8a-adc8-49ba-b098-d3d5072d63d6",
   "metadata": {},
   "source": [
    "### *Nest condition inside f-string*"
   ]
  },
  {
   "cell_type": "markdown",
   "id": "8405491a-fcbe-479a-a64c-a7028550ccb3",
   "metadata": {},
   "source": [
    "You are given a set of prime numbers less than 1000. Create a program that receives a number and then uses a `single print()` function with `F-String` to determine whether or not it was a prime number."
   ]
  },
  {
   "cell_type": "markdown",
   "id": "8c7df477-2aab-40b1-9d0f-98f11b23c674",
   "metadata": {},
   "source": [
    "for example:<br>\n",
    "**\"997 is a prime number.\"**\n",
    "<br>\n",
    "**\"998 is not a prime number.\"**"
   ]
  },
  {
   "cell_type": "code",
   "execution_count": 12,
   "id": "0a0abd6d-b224-4020-b334-96e4fcc57d92",
   "metadata": {},
   "outputs": [],
   "source": [
    "P = {\n",
    "    2, 3, 5, 7, 11, 13, 17, 19, 23, 29, 31, 37, 41,\n",
    "    43, 47, 53, 59, 61, 67, 71, 73, 79, 83, 89, 97,\n",
    "    101, 103, 107, 109, 113, 127, 131, 137, 139, 149,\n",
    "    151, 157, 163, 167, 173, 179, 181, 191, 193, 197,\n",
    "    199, 211, 223, 227, 229, 233, 239, 241, 251, 257,\n",
    "    263, 269, 271, 277, 281, 283, 293, 307, 311, 313,\n",
    "    317, 331, 337, 347, 349, 353, 359, 367, 373, 379,\n",
    "    383, 389, 397, 401, 409, 419, 421, 431, 433, 439,\n",
    "    443, 449, 457, 461, 463, 467, 479, 487, 491, 499,\n",
    "    503, 509, 521, 523, 541, 547, 557, 563, 569, 571,\n",
    "    577, 587, 593, 599, 601, 607, 613, 617, 619, 631,\n",
    "    641, 643, 647, 653, 659, 661, 673, 677, 683, 691,\n",
    "    701, 709, 719, 727, 733, 739, 743, 751, 757, 761,\n",
    "    769, 773, 787, 797, 809, 811, 821, 823, 827, 829,\n",
    "    839, 853, 857, 859, 863, 877, 881, 883, 887, 907,\n",
    "    911, 919, 929, 937, 941, 947, 953, 967, 971, 977,\n",
    "    983, 991, 997,\n",
    "}"
   ]
  },
  {
   "cell_type": "code",
   "execution_count": 16,
   "id": "83653958-8201-41af-9bcc-494000e0f628",
   "metadata": {},
   "outputs": [
    {
     "name": "stdin",
     "output_type": "stream",
     "text": [
      "Enter a natural number less than 1000: 998\n"
     ]
    },
    {
     "name": "stdout",
     "output_type": "stream",
     "text": [
      "998 Is not prime.\n"
     ]
    }
   ],
   "source": [
    "num = int(input(\"Enter a natural number less than 1000:\"))\n",
    "print(f\"{num} {'Is prime.' if num in P else 'Is not prime.'}\")"
   ]
  },
  {
   "cell_type": "markdown",
   "id": "a5375fc1-7405-46b9-8fc1-4546c316b2ce",
   "metadata": {},
   "source": [
    "***<font color=\"gold\">Resource:</font>*** [Pytopia](https://www.pytopia.ai/)"
   ]
  },
  {
   "cell_type": "markdown",
   "id": "de0c7d94-8114-4eef-b930-37dd16d0a2eb",
   "metadata": {
    "jp-MarkdownHeadingCollapsed": true,
    "tags": []
   },
   "source": [
    "## While Loops"
   ]
  },
  {
   "cell_type": "markdown",
   "id": "40ae057f-e04a-4740-b84b-fb6188e7a6b9",
   "metadata": {},
   "source": [
    "### *Look For Artist's Sales*"
   ]
  },
  {
   "cell_type": "markdown",
   "id": "21fa0250-6f15-4370-ace9-5cfa46506879",
   "metadata": {},
   "source": [
    "write a python program that does the following until the user enters `'quit'`:"
   ]
  },
  {
   "cell_type": "markdown",
   "id": "c264fd17-c937-4628-8076-7df02a3cf52f",
   "metadata": {},
   "source": [
    "* Ask the name of an artist\n",
    "* Look up the number of sales of this artist in a dictionary\n",
    "* Print out the result if the number of sales is known\n",
    "* If the number of sales is unknown, ask the user to enter the number of sales, and update the dictionary accordingly"
   ]
  },
  {
   "cell_type": "code",
   "execution_count": 5,
   "id": "a14b10eb-ebd3-4cb5-bbee-2e457cd7d714",
   "metadata": {},
   "outputs": [],
   "source": [
    "sales = {}"
   ]
  },
  {
   "cell_type": "code",
   "execution_count": 6,
   "id": "b5580337-27de-4a55-8f4a-286c530a345a",
   "metadata": {},
   "outputs": [
    {
     "name": "stdin",
     "output_type": "stream",
     "text": [
      "Enter an artist name:  m\n"
     ]
    },
    {
     "name": "stdout",
     "output_type": "stream",
     "text": [
      "No sales record in database!\n"
     ]
    },
    {
     "name": "stdin",
     "output_type": "stream",
     "text": [
      "Please Enter the number of sales:  2\n"
     ]
    },
    {
     "name": "stdout",
     "output_type": "stream",
     "text": [
      "Updated successfully!\n",
      "\n"
     ]
    },
    {
     "name": "stdin",
     "output_type": "stream",
     "text": [
      "Enter an artist name:  quit\n"
     ]
    },
    {
     "name": "stdout",
     "output_type": "stream",
     "text": [
      "Exited!\n"
     ]
    }
   ],
   "source": [
    "artist = input(\"Enter an artist name: \")\n",
    "while artist != \"quit\":\n",
    "    if artist in sales:\n",
    "        print(f\"{artist} has hold {sales[artist]} records.\\n\")\n",
    "    else:\n",
    "        print(\"No sales record in database!\")\n",
    "        sales[artist] = int(input(\"Please Enter the number of sales: \"))\n",
    "        print(\"Updated successfully!\\n\")\n",
    "    artist = input(\"Enter an artist name: \")\n",
    "\n",
    "print(\"Exited!\")"
   ]
  },
  {
   "cell_type": "markdown",
   "id": "1c7afc69-e39e-4e80-8edd-2a8062c8953f",
   "metadata": {},
   "source": [
    "Another way for solve the **duplicate** problem: "
   ]
  },
  {
   "cell_type": "code",
   "execution_count": 8,
   "id": "643e7f91-59f8-4f87-930a-83b86b2cc6ac",
   "metadata": {},
   "outputs": [
    {
     "name": "stdin",
     "output_type": "stream",
     "text": [
      "Enter an artist name:  Mahi\n"
     ]
    },
    {
     "name": "stdout",
     "output_type": "stream",
     "text": [
      "No sales record in database!\n"
     ]
    },
    {
     "name": "stdin",
     "output_type": "stream",
     "text": [
      "Please Enter the number of sales:  5\n"
     ]
    },
    {
     "name": "stdout",
     "output_type": "stream",
     "text": [
      "Updated successfully!\n",
      "\n"
     ]
    },
    {
     "name": "stdin",
     "output_type": "stream",
     "text": [
      "Enter an artist name:  Mahi\n"
     ]
    },
    {
     "name": "stdout",
     "output_type": "stream",
     "text": [
      "Mahi has hold 5 records.\n",
      "\n"
     ]
    },
    {
     "name": "stdin",
     "output_type": "stream",
     "text": [
      "Enter an artist name:  quit\n"
     ]
    },
    {
     "name": "stdout",
     "output_type": "stream",
     "text": [
      "Exited!\n"
     ]
    }
   ],
   "source": [
    "artist = ''\n",
    "while True:\n",
    "    artist = input(\"Enter an artist name: \")\n",
    "    if artist == 'quit':\n",
    "        break\n",
    "        \n",
    "    if artist in sales:\n",
    "        print(f\"{artist} has hold {sales[artist]} records.\\n\")\n",
    "    else:\n",
    "        print(\"No sales record in database!\")\n",
    "        sales[artist] = int(input(\"Please Enter the number of sales: \"))\n",
    "        print(\"Updated successfully!\\n\")\n",
    "\n",
    "print(\"Exited!\")"
   ]
  },
  {
   "cell_type": "markdown",
   "id": "a56cc532-cd17-4d8a-a0c0-d1de3c491076",
   "metadata": {},
   "source": [
    "***<font color=\"gold\">Resource:</font>*** [Pytopia](https://www.pytopia.ai/)"
   ]
  },
  {
   "cell_type": "markdown",
   "id": "d8c50f9d-4720-47c7-8281-89008db8c5a8",
   "metadata": {},
   "source": [
    "### *Simple Calculator*"
   ]
  },
  {
   "cell_type": "markdown",
   "id": "4b0818b8-4b06-42ad-a583-7812369571d9",
   "metadata": {},
   "source": [
    "Create a simple calculator for additions! \n",
    "Repeatedly ask the user to enter numbers. Each time that the user provides input, this input is first converted to float and then added to a running total (which should start from 0). When the user enters `'add'`, the loop stops, and the running total is printed out."
   ]
  },
  {
   "cell_type": "code",
   "execution_count": 3,
   "id": "2997d910-3a1d-4f53-bb48-2aedb92b901f",
   "metadata": {},
   "outputs": [
    {
     "name": "stdin",
     "output_type": "stream",
     "text": [
      "Enter a number:  4\n",
      "Enter a number:  3\n",
      "Enter a number:  5\n",
      "Enter a number:  add\n"
     ]
    },
    {
     "name": "stdout",
     "output_type": "stream",
     "text": [
      "Sum of the numbers is 12.0.\n"
     ]
    }
   ],
   "source": [
    "total_sum = 0\n",
    "usr_inp = input(\"Enter a number: \")\n",
    "\n",
    "while usr_inp != 'add':\n",
    "    total_sum += float(usr_inp)\n",
    "    usr_inp = input(\"Enter a number: \")\n",
    "    \n",
    "print(f\"Total sum is {total}.\")"
   ]
  },
  {
   "cell_type": "markdown",
   "id": "2c12d9c3-e01a-4e4a-b575-cdfa193e3e4a",
   "metadata": {},
   "source": [
    "***<font color=\"gold\">Resource:</font>*** [Pytopia](https://www.pytopia.ai/)"
   ]
  },
  {
   "cell_type": "markdown",
   "id": "f70c3bad-751e-42b3-9929-3969e6b05db8",
   "metadata": {},
   "source": [
    "### *Mini Program*"
   ]
  },
  {
   "cell_type": "code",
   "execution_count": 6,
   "id": "16b00ef7-90cc-4f51-aa9b-b99cc1276e97",
   "metadata": {},
   "outputs": [],
   "source": [
    "name_list = []\n",
    "options = {\n",
    "    0: \"Quit\",\n",
    "    1: \"Check if I know you \",\n",
    "    2: \"Introduce yourself to me\",\n",
    "    3: \"Make me forget you\",\n",
    "    4: \"Print a list of people I know\",\n",
    "}"
   ]
  },
  {
   "cell_type": "code",
   "execution_count": 13,
   "id": "de93e6f9-28e3-430c-9325-5fb18702fe73",
   "metadata": {},
   "outputs": [
    {
     "name": "stdout",
     "output_type": "stream",
     "text": [
      "Enter an option from the list:\n",
      "0 - Quit\n",
      "1 - Check if I know you \n",
      "2 - Introduce yourself to me\n",
      "3 - Make me forget you\n",
      "4 - Print a list of people I know\n"
     ]
    },
    {
     "name": "stdin",
     "output_type": "stream",
     "text": [
      "Enter an option:  4\n"
     ]
    },
    {
     "name": "stdout",
     "output_type": "stream",
     "text": [
      "Name List\n",
      "---------------\n",
      "1 - Mahdi\n",
      "2 - Yaser\n",
      "3 - Matin\n",
      "4 - Shervin\n"
     ]
    },
    {
     "name": "stdin",
     "output_type": "stream",
     "text": [
      "Enter an option:  0\n"
     ]
    },
    {
     "name": "stdout",
     "output_type": "stream",
     "text": [
      ">>> Bye!\n"
     ]
    }
   ],
   "source": [
    "print(\"Enter an option from the list:\")\n",
    "for key, value in options.items():\n",
    "    print(f\"{key} - {value}\")\n",
    "    \n",
    "\n",
    "while True:\n",
    "    usr_inp = input(\"Enter an option: \")\n",
    "    \n",
    "    if usr_inp == '0':\n",
    "        print(\">>> Bye!\")\n",
    "        break\n",
    "        \n",
    "    elif usr_inp == '1':\n",
    "        usr_name = input(\"Please tell me your name: \")\n",
    "        print(\">>> I know you! :D\\n\" if usr_name in name_list else \">>> I don't know you :/\\n\")\n",
    "        \n",
    "    elif usr_inp == '2':\n",
    "        usr_name = input(\"Please tell me your name: \")\n",
    "        \n",
    "        if usr_name in name_list:\n",
    "            print(\">>> I knew you already.\\n\")\n",
    "        else:\n",
    "            name_list.append(usr_name)\n",
    "            print(\">>> Now I know you!\\n\")\n",
    "        \n",
    "    elif usr_inp == '3':\n",
    "        usr_name = input(\"Please tell me your name: \")\n",
    "        \n",
    "        if usr_name in name_list:\n",
    "            name_list.remove(usr_name)\n",
    "            print(\">>> Now I don't know you.\\n\")\n",
    "        else:\n",
    "            print(\">>> I already didn't know you.\\n\")\n",
    "        \n",
    "    elif usr_inp == '4':\n",
    "        print(\"Name List\", \"-\" * 15, sep=\"\\n\")\n",
    "        \n",
    "        for index, name in enumerate(name_list):\n",
    "            print(f\"{index + 1} - {name}\")\n",
    "    else:\n",
    "        print(\">>> I don't understand :(\\n\")\n"
   ]
  },
  {
   "cell_type": "markdown",
   "id": "9f1e669d-940d-47f0-ae90-68e05ac346ce",
   "metadata": {},
   "source": [
    "***<font color=\"gold\">Resource:</font>*** [Pytopia](https://www.pytopia.ai/)"
   ]
  },
  {
   "cell_type": "markdown",
   "id": "6c41acc8-0bcf-4ff3-9100-267bcd410335",
   "metadata": {},
   "source": [
    "### *Sum of digits*"
   ]
  },
  {
   "cell_type": "markdown",
   "id": "ba730c45-dc4b-4609-adf7-32bc837bada7",
   "metadata": {},
   "source": [
    "Write a program that takes an integer from the user and displays the sum of its digits."
   ]
  },
  {
   "cell_type": "code",
   "execution_count": 22,
   "id": "3a0a6d93-73cf-4ae2-936c-7217c94f14e2",
   "metadata": {},
   "outputs": [
    {
     "name": "stdin",
     "output_type": "stream",
     "text": [
      "Please enter a number:  345\n"
     ]
    },
    {
     "name": "stdout",
     "output_type": "stream",
     "text": [
      "12\n"
     ]
    }
   ],
   "source": [
    "num = int(input(\"Please enter a number: \"))\n",
    "reminder = num\n",
    "sum_of_digits = 0\n",
    "\n",
    "while reminder:\n",
    "    sum_of_digits += reminder % 10\n",
    "    reminder = reminder // 10\n",
    "    \n",
    "print(sum_of_digits)"
   ]
  },
  {
   "cell_type": "markdown",
   "id": "f7330f13-3517-4d48-8f3c-a1dc48c5c80c",
   "metadata": {},
   "source": [
    "***<font color=\"gold\">Resource:</font>*** [Pytopia](https://www.pytopia.ai/)"
   ]
  },
  {
   "cell_type": "markdown",
   "id": "2199ee14-da63-4746-910c-d4d5b82dac9d",
   "metadata": {},
   "source": [
    "### *My special numbers*"
   ]
  },
  {
   "cell_type": "markdown",
   "id": "3d850642-ff35-4838-ac04-92a460f67920",
   "metadata": {},
   "source": [
    "Write code that finds the numbers  between `7801` and `8853`  that  sum of all their integers are divisible by `13`."
   ]
  },
  {
   "cell_type": "code",
   "execution_count": 28,
   "id": "b6e216c7-b536-4b3c-aa35-79bcf58963b5",
   "metadata": {},
   "outputs": [
    {
     "name": "stdout",
     "output_type": "stream",
     "text": [
      "Numbers: \n",
      "[7829, 7838, 7847, 7856, 7865, 7874, 7883, 7892, 7919, 7928, 7937, 7946, 7955, 7964, 7973, 7982, 7991, 8005, 8014, 8023, 8032, 8041, 8050, 8099, 8104, 8113, 8122, 8131, 8140, 8189, 8198, 8203, 8212, 8221, 8230, 8279, 8288, 8297, 8302, 8311, 8320, 8369, 8378, 8387, 8396, 8401, 8410, 8459, 8468, 8477, 8486, 8495, 8500, 8549, 8558, 8567, 8576, 8585, 8594, 8639, 8648, 8657, 8666, 8675, 8684, 8693, 8729, 8738, 8747, 8756, 8765, 8774, 8783, 8792, 8819, 8828, 8837, 8846]\n"
     ]
    }
   ],
   "source": [
    "num_list = []\n",
    "num = 7801\n",
    "\n",
    "while num < 8853:\n",
    "    # Calculate sum of digits\n",
    "    reminder = num\n",
    "    sum_of_digits = 0\n",
    "\n",
    "    while reminder:\n",
    "        sum_of_digits += reminder % 10\n",
    "        reminder = reminder // 10\n",
    "    # Check if sum of digits is divisible by 13    \n",
    "    if sum_of_digits % 13 == 0:\n",
    "        num_list.append(num)\n",
    "        \n",
    "    num += 1\n",
    "    \n",
    "print(\"Numbers: \", num_list, sep=\"\\n\")"
   ]
  },
  {
   "cell_type": "markdown",
   "id": "21493c37-89d1-48db-83cc-084f922848e7",
   "metadata": {},
   "source": [
    "***<font color=\"gold\">Resource:</font>*** [Pytopia](https://www.pytopia.ai/)"
   ]
  },
  {
   "cell_type": "markdown",
   "id": "58408320-4341-4855-8682-a73452878d77",
   "metadata": {},
   "source": [
    "### *Raise the number to the power of 8*"
   ]
  },
  {
   "cell_type": "markdown",
   "id": "748f0e14-f8ab-4772-8566-2328ac074d58",
   "metadata": {},
   "source": [
    "Write a program that takes a number from the user and raises it to the power of eight and shows it to the user, then receives a new number and repeats this until the user enters zero."
   ]
  },
  {
   "cell_type": "code",
   "execution_count": 30,
   "id": "4d88ef3d-cee1-4509-ba8e-8d3cbbb434f8",
   "metadata": {},
   "outputs": [
    {
     "name": "stdin",
     "output_type": "stream",
     "text": [
      "Enter a number:  2\n"
     ]
    },
    {
     "name": "stdout",
     "output_type": "stream",
     "text": [
      "> 256\n"
     ]
    },
    {
     "name": "stdin",
     "output_type": "stream",
     "text": [
      "Enter a number:  1\n"
     ]
    },
    {
     "name": "stdout",
     "output_type": "stream",
     "text": [
      "> 1\n"
     ]
    },
    {
     "name": "stdin",
     "output_type": "stream",
     "text": [
      "Enter a number:  76\n"
     ]
    },
    {
     "name": "stdout",
     "output_type": "stream",
     "text": [
      "> 1113034787454976\n"
     ]
    },
    {
     "name": "stdin",
     "output_type": "stream",
     "text": [
      "Enter a number:  2\n"
     ]
    },
    {
     "name": "stdout",
     "output_type": "stream",
     "text": [
      "> 256\n"
     ]
    },
    {
     "name": "stdin",
     "output_type": "stream",
     "text": [
      "Enter a number:  13\n"
     ]
    },
    {
     "name": "stdout",
     "output_type": "stream",
     "text": [
      "> 815730721\n"
     ]
    },
    {
     "name": "stdin",
     "output_type": "stream",
     "text": [
      "Enter a number:  0\n"
     ]
    },
    {
     "name": "stdout",
     "output_type": "stream",
     "text": [
      "------------------\n",
      "Program stopped!\n"
     ]
    }
   ],
   "source": [
    "while True:\n",
    "    num = int(input(\"Enter a number: \"))\n",
    "    if num == 0:\n",
    "        break\n",
    "    print(f\"> {num ** 8}\")\n",
    "    \n",
    "print('-' * 18, \"Program stopped!\", sep='\\n')"
   ]
  },
  {
   "cell_type": "markdown",
   "id": "f7e3f718-9f91-4d19-87e1-4ad4668816fc",
   "metadata": {},
   "source": [
    "***<font color=\"gold\">Resource:</font>*** [Pytopia](https://www.pytopia.ai/)"
   ]
  },
  {
   "cell_type": "markdown",
   "id": "456f8952-72f9-44f6-8b62-87132fff630e",
   "metadata": {},
   "source": [
    "### *Output with desired shape 1*"
   ]
  },
  {
   "cell_type": "markdown",
   "id": "ff179554-dc07-4c4a-b18d-8795b89dfef2",
   "metadata": {},
   "source": [
    "Write code that produces the following output:(use `break`)"
   ]
  },
  {
   "cell_type": "code",
   "execution_count": 44,
   "id": "0d8203b8-59e2-4d21-9692-9d56bb704d0d",
   "metadata": {},
   "outputs": [
    {
     "name": "stdout",
     "output_type": "stream",
     "text": [
      "* * * * * * * * * * \n",
      "* * * * * * * * * * \n",
      "* * * * * * * * * * \n",
      "* * * * * * * * * * \n",
      "* * * * * \n"
     ]
    }
   ],
   "source": [
    "cols = 10\n",
    "rows = 5\n",
    "\n",
    "current_row = 0\n",
    "while current_row < rows:\n",
    "    \n",
    "    # Print a row of *\n",
    "    current_col = 0\n",
    "    while current_col < cols:\n",
    "        if (current_row == 4 and current_col == 5):\n",
    "            break\n",
    "            \n",
    "        print('*', end=' ')\n",
    "        current_col += 1\n",
    "    \n",
    "    print()\n",
    "    current_row += 1"
   ]
  },
  {
   "cell_type": "markdown",
   "id": "0e2c01eb-4f81-41da-9bbf-9119ede4f5cc",
   "metadata": {},
   "source": [
    "***<font color=\"gold\">Resource:</font>*** [Pytopia](https://www.pytopia.ai/)"
   ]
  },
  {
   "cell_type": "markdown",
   "id": "05bcc892-d982-481a-8098-b2e330d21cee",
   "metadata": {},
   "source": [
    "### *Output with desired shape 2*"
   ]
  },
  {
   "cell_type": "markdown",
   "id": "00f26474-77e3-4084-a763-be42a394608b",
   "metadata": {},
   "source": [
    "Write code that produces the following output:(use **continue**)"
   ]
  },
  {
   "cell_type": "code",
   "execution_count": 47,
   "id": "c8652d7e-092a-47ff-ba9b-dcd9f4dce533",
   "metadata": {},
   "outputs": [
    {
     "name": "stdout",
     "output_type": "stream",
     "text": [
      "* * * * * * * * * * \n",
      "* * * * * * * * * * \n",
      "* * \n",
      "* * \n",
      "* * * * * * * * * * \n",
      "* * * * * * * * * * \n",
      "* * \n",
      "* * \n",
      "* * * * * * * * * * \n",
      "* * * * * * * * * * \n"
     ]
    }
   ],
   "source": [
    "cols = 10\n",
    "rows = 10\n",
    "\n",
    "current_row = 0\n",
    "while current_row < rows:\n",
    "    # Check current row to change columns number\n",
    "    if current_row % 4 in (0, 1):\n",
    "        cols = 10\n",
    "    elif current_row % 4 in (2, 3):\n",
    "        cols = 2\n",
    "    # Print a row of *\n",
    "    current_col = 0\n",
    "    while current_col < cols:\n",
    "        print('*', end=' ')\n",
    "        current_col += 1\n",
    "    \n",
    "    print()\n",
    "    current_row += 1"
   ]
  },
  {
   "cell_type": "markdown",
   "id": "36f0a0d5-6ea4-4d5f-ad26-0a5833c2e7f0",
   "metadata": {},
   "source": [
    "***<font color=\"gold\">Resource:</font>*** [Pytopia](https://www.pytopia.ai/)"
   ]
  },
  {
   "cell_type": "markdown",
   "id": "b6a5142a-b3bb-4a52-bdd1-db6e7334306b",
   "metadata": {
    "jp-MarkdownHeadingCollapsed": true,
    "tags": []
   },
   "source": [
    "## For Loops"
   ]
  },
  {
   "cell_type": "markdown",
   "id": "e507f48d-9439-4cdd-a488-9de12b38de93",
   "metadata": {
    "tags": []
   },
   "source": [
    "### *Multiplication Table*"
   ]
  },
  {
   "cell_type": "markdown",
   "id": "a3b75a4f-8688-4a29-a221-61d7c6033de8",
   "metadata": {},
   "source": [
    "Ali can not memorize the multiplication table. The teacher gives him a number and asks him to create a multiplication table (from 1 to 10) of that number. For example, for the number 6, the output should be as follows:"
   ]
  },
  {
   "cell_type": "markdown",
   "id": "e8f61273-8687-4330-ad1e-57e5e6fbe3f6",
   "metadata": {},
   "source": [
    "```\n",
    "6 x 1 = 6                                \n",
    "6 x 2 = 12                                \n",
    "6 x 3 = 18                                \n",
    "6 x 4 = 24                                \n",
    "6 x 5 = 30                                \n",
    "6 x 6 = 36                                \n",
    "6 x 7 = 42                                \n",
    "6 x 8 = 48                                \n",
    "6 x 9 = 54                                \n",
    "6 x 10 = 60 \n",
    "```"
   ]
  },
  {
   "cell_type": "markdown",
   "id": "cbb88c23-f58f-4d69-b249-724b5acf3ea5",
   "metadata": {},
   "source": [
    "Help him to this job with a python program."
   ]
  },
  {
   "cell_type": "code",
   "execution_count": 9,
   "id": "90d32886-36f1-44e7-b6c3-132252556daf",
   "metadata": {},
   "outputs": [
    {
     "name": "stdin",
     "output_type": "stream",
     "text": [
      "Please give me the number:  7\n"
     ]
    },
    {
     "name": "stdout",
     "output_type": "stream",
     "text": [
      "7 × 1 = 7\n",
      "7 × 2 = 14\n",
      "7 × 3 = 21\n",
      "7 × 4 = 28\n",
      "7 × 5 = 35\n",
      "7 × 6 = 42\n",
      "7 × 7 = 49\n",
      "7 × 8 = 56\n",
      "7 × 9 = 63\n",
      "7 × 10 = 70\n"
     ]
    }
   ],
   "source": [
    "num = int(input(\"Please give me the number: \"))\n",
    "\n",
    "for i in range(1, 11):\n",
    "    print(f\"{num} \\u00D7 {i} = {num * i}\")"
   ]
  },
  {
   "cell_type": "markdown",
   "id": "e13a17e3-232f-44a5-8cb9-0ddd6a5a1921",
   "metadata": {},
   "source": [
    "***<font color=\"gold\">Resource:</font>*** [Pytopia](https://www.pytopia.ai/)"
   ]
  },
  {
   "cell_type": "markdown",
   "id": "c4319e5f-da66-435e-9f8b-0a0bd95c4f44",
   "metadata": {},
   "source": [
    "### *String Represent Integer!*"
   ]
  },
  {
   "cell_type": "markdown",
   "id": "8f5ed10d-c590-4903-910e-38f0ac47716f",
   "metadata": {},
   "source": [
    "Write a Python program to check a string representing a number not."
   ]
  },
  {
   "cell_type": "markdown",
   "id": "4f0c7b01-25e9-41ec-b7b2-a9afd1a8b092",
   "metadata": {},
   "source": [
    "*Example_1:*\n",
    "\n",
    "<font color=\"lightblue\">**input:**</font><br>\n",
    "231<br>\n",
    "<font color=\"Red\">**output:**</font><br>\n",
    "The string is a number!"
   ]
  },
  {
   "cell_type": "markdown",
   "id": "07e826ea-ec49-4c10-a961-118a442c88a7",
   "metadata": {},
   "source": [
    "*Example_2:*\n",
    "\n",
    "<font color=\"lightblue\">**input:**</font><br>\n",
    "pytopia<br>\n",
    "<font color=\"red\">**output:**</font><br>\n",
    "The string is not a number!"
   ]
  },
  {
   "cell_type": "code",
   "execution_count": 61,
   "id": "4587fcd5-d941-4d79-8115-c01b1d806339",
   "metadata": {},
   "outputs": [
    {
     "name": "stdin",
     "output_type": "stream",
     "text": [
      "Please type your text:  313.4\n"
     ]
    },
    {
     "name": "stdout",
     "output_type": "stream",
     "text": [
      "The string is a number!\n"
     ]
    }
   ],
   "source": [
    "text = input(\"Please type your text: \")\n",
    "int_checker = True\n",
    "\n",
    "for i in text:\n",
    "    if i not in \"0123456789\":\n",
    "        int_checker = False\n",
    "\n",
    "print(\"The string is a number!\" if int_checker else \"The string is not a number!\")"
   ]
  },
  {
   "cell_type": "markdown",
   "id": "f83dd04a-b98f-4231-b908-6ac3c691b89a",
   "metadata": {},
   "source": [
    "***<font color=\"gold\">Resource:</font>*** [Pytopia](https://www.pytopia.ai/)"
   ]
  },
  {
   "cell_type": "markdown",
   "id": "747efbe8-31de-4062-91db-8345457f573c",
   "metadata": {},
   "source": [
    "### *Find Perfect Numbers*"
   ]
  },
  {
   "cell_type": "markdown",
   "id": "821aa9e5-ddbb-41dc-85ae-0102643af5ca",
   "metadata": {},
   "source": [
    "Write a program to accept a number and check whether it is a perfect number or not."
   ]
  },
  {
   "cell_type": "markdown",
   "id": "77b8f494-6b5a-44b4-b5a7-e401a89d0d98",
   "metadata": {},
   "source": [
    "**Note:** Perfect number is a positive integer that is equal to the sum of its divisors for example divisors of `6` are `1, 2, 3` and the sum of divisors is also `6`, so `6` is a perfect number)"
   ]
  },
  {
   "cell_type": "code",
   "execution_count": 18,
   "id": "d6899f7c-3681-4bbc-aafe-660b485242f9",
   "metadata": {},
   "outputs": [
    {
     "name": "stdin",
     "output_type": "stream",
     "text": [
      "Enter the number:  6\n"
     ]
    },
    {
     "name": "stdout",
     "output_type": "stream",
     "text": [
      "It's a perfect number.\n"
     ]
    }
   ],
   "source": [
    "num = int(input(\"Enter the number: \"))\n",
    "divisors = []\n",
    "\n",
    "# Finding divisors of the numbers \n",
    "for i in range(1, num): \n",
    "    if num % i == 0:\n",
    "        divisors.append(i)\n",
    "        \n",
    "# Check if the number is a perfect number\n",
    "print(\"It's a perfect number.\" if sum(divisors) == num else \"It's not a perfect number.\")"
   ]
  },
  {
   "cell_type": "markdown",
   "id": "519e9389-1c46-40b9-88ba-2011de17319c",
   "metadata": {},
   "source": [
    "***<font color=\"gold\">Resource:</font>*** [Pytopia](https://www.pytopia.ai/)"
   ]
  },
  {
   "cell_type": "markdown",
   "id": "a7b9da7f-d2ef-45c7-a83e-bdc991540b07",
   "metadata": {},
   "source": [
    "### *Conditional Printing Numbers*"
   ]
  },
  {
   "cell_type": "markdown",
   "id": "a599d766-b87f-4e4b-b9a6-4fb377049e0d",
   "metadata": {},
   "source": [
    "Write a program to print numbers from `1` to `40` except for multiples of `2 & 3`."
   ]
  },
  {
   "cell_type": "code",
   "execution_count": 24,
   "id": "f2f1d3ac-4056-43a4-8d6a-f664d8e6f486",
   "metadata": {},
   "outputs": [
    {
     "name": "stdout",
     "output_type": "stream",
     "text": [
      "1 5 7 11 13 17 19 23 25 29 31 35 37 "
     ]
    }
   ],
   "source": [
    "for j in range(1, 41):\n",
    "    \n",
    "    if (j % 2 == 0) or (j % 3 == 0):\n",
    "        continue\n",
    "    else:\n",
    "        print(j, end=' ')"
   ]
  },
  {
   "cell_type": "markdown",
   "id": "cfeddf8c-8664-4699-9cbc-27965e0370a6",
   "metadata": {},
   "source": [
    "***<font color=\"gold\">Resource:</font>*** [Pytopia](https://www.pytopia.ai/)"
   ]
  },
  {
   "cell_type": "markdown",
   "id": "8c583baa-af6f-4cbb-977d-a2933eac6a48",
   "metadata": {},
   "source": [
    "### *Print Triangle Pattern*"
   ]
  },
  {
   "cell_type": "markdown",
   "id": "7bd6a5c8-0af7-4be2-9a65-80a639d142bf",
   "metadata": {},
   "source": [
    "Write a program to print the following number pattern using a loop.  "
   ]
  },
  {
   "cell_type": "markdown",
   "id": "85bf9879-6c27-481d-9785-c41c7a00779d",
   "metadata": {},
   "source": [
    "```\n",
    "1 \n",
    "1 2  \n",
    "1 2 3  \n",
    "1 2 3 4  \n",
    "1 2 3 4 5\n",
    "```"
   ]
  },
  {
   "cell_type": "code",
   "execution_count": 10,
   "id": "76c67b61-2186-4b4e-8882-ee99fe9ec52e",
   "metadata": {},
   "outputs": [
    {
     "name": "stdin",
     "output_type": "stream",
     "text": [
      "Enter a number (the number of rows):  5\n"
     ]
    },
    {
     "name": "stdout",
     "output_type": "stream",
     "text": [
      "1 \n",
      "1 2 \n",
      "1 2 3 \n",
      "1 2 3 4 \n",
      "1 2 3 4 5 \n"
     ]
    }
   ],
   "source": [
    "# I generalized the program\n",
    "row = int(input(\"Enter a number (the number of rows): \"))\n",
    "\n",
    "for i in range(1, row + 1):\n",
    "    for j in range(1, i + 1):\n",
    "        print(j, end=' ')\n",
    "    print()"
   ]
  },
  {
   "cell_type": "markdown",
   "id": "2143d186-413b-436b-8629-791af42da18b",
   "metadata": {},
   "source": [
    "***<font color=\"gold\">Resource:</font>*** [Pytopia](https://www.pytopia.ai/)"
   ]
  },
  {
   "cell_type": "markdown",
   "id": "29257605-52af-4d17-8c3a-5889ca331a55",
   "metadata": {},
   "source": [
    "### *Fibonacci Series*"
   ]
  },
  {
   "cell_type": "markdown",
   "id": "f6515833-6967-4ce1-8ec2-f61737eed76b",
   "metadata": {},
   "source": [
    "Display Fibonacci series up to 10 terms.\n",
    "\n",
    "Note: The Fibonacci Sequence is a series of numbers. The next number is found by adding up the two numbers before it. The first two numbers are 0 and 1.  \n",
    "\n",
    "For example, for `0, 1, 1, 2, 3, 5, 8, 13, 21` , The next number in this series above is `13+21 = 34`."
   ]
  },
  {
   "cell_type": "code",
   "execution_count": 15,
   "id": "432bb45c-efe1-4226-8681-ddf3c94e3988",
   "metadata": {},
   "outputs": [
    {
     "name": "stdout",
     "output_type": "stream",
     "text": [
      "0 1 1 2 3 5 8 13 21 34 "
     ]
    }
   ],
   "source": [
    "n1, n2 = 0, 1\n",
    "\n",
    "for i in range(10):\n",
    "    print(n1, end=' ')\n",
    "    temp = n1 + n2\n",
    "    n1 = n2\n",
    "    n2 = temp\n",
    "    \n",
    "del temp"
   ]
  },
  {
   "cell_type": "markdown",
   "id": "cdce7d07-d0c8-4d7c-9bcb-850b2a7c0b9f",
   "metadata": {},
   "source": [
    "***<font color=\"gold\">Resource:</font>*** [Pytopia](https://www.pytopia.ai/)"
   ]
  },
  {
   "cell_type": "markdown",
   "id": "e54533b9-e053-4413-b7a5-c4b5e9d7e150",
   "metadata": {},
   "source": [
    "### *Odd Index Display*"
   ]
  },
  {
   "cell_type": "markdown",
   "id": "5aa61842-48a1-41fa-a995-b5921a31d816",
   "metadata": {},
   "source": [
    "Write a program that uses a loop to display elements from the given list present at odd index positions."
   ]
  },
  {
   "cell_type": "markdown",
   "id": "18117061-e506-4f64-8683-574615acf6f5",
   "metadata": {},
   "source": [
    "```python\n",
    "my_list = [10, 20, 30, 40, 50, 60, 70, 80, 90, 100]  \n",
    "```"
   ]
  },
  {
   "cell_type": "code",
   "execution_count": 18,
   "id": "d684fa63-472e-4fa3-b2ea-a212e2da6184",
   "metadata": {},
   "outputs": [
    {
     "name": "stdout",
     "output_type": "stream",
     "text": [
      "20\n",
      "40\n",
      "60\n",
      "80\n",
      "100\n"
     ]
    }
   ],
   "source": [
    "my_list = [10, 20, 30, 40, 50, 60, 70, 80, 90, 100]\n",
    "\n",
    "for i in range(1, len(my_list), 2):\n",
    "    print(my_list[i])"
   ]
  },
  {
   "cell_type": "markdown",
   "id": "920782c9-ee3b-422e-aa84-a1ddedf98d52",
   "metadata": {},
   "source": [
    "***<font color=\"gold\">Resource:</font>*** [Pytopia](https://www.pytopia.ai/)"
   ]
  },
  {
   "cell_type": "markdown",
   "id": "ba1503a5-c7d1-4fb5-b104-3340a51ebc8c",
   "metadata": {},
   "source": [
    "### *Conditional Loop Through List*"
   ]
  },
  {
   "cell_type": "markdown",
   "id": "9e1e13e8-4025-4491-a778-6ee574f0518e",
   "metadata": {},
   "source": [
    "Write a program to display only those numbers from the below list that satisfy the following conditions:\n",
    "\n",
    "* The number must be divisible by five\n",
    "* If the number is greater than 150, then skip it and move to the next number\n",
    "* If the number is greater than 500, then stop the loop  "
   ]
  },
  {
   "cell_type": "markdown",
   "id": "aba49933-387b-40f8-b471-ee90a8a80512",
   "metadata": {},
   "source": [
    "```python\n",
    "numbers = [12, 75, 150, 180, 145, 525, 50] \n",
    "```"
   ]
  },
  {
   "cell_type": "code",
   "execution_count": 21,
   "id": "edaf1a1f-7345-4eb4-8091-cd7f4f9b2f1b",
   "metadata": {},
   "outputs": [
    {
     "name": "stdout",
     "output_type": "stream",
     "text": [
      "75\n",
      "150\n",
      "145\n"
     ]
    }
   ],
   "source": [
    "numbers = [12, 75, 150, 180, 145, 525, 50] \n",
    "\n",
    "for num in numbers:\n",
    "    if num > 500:\n",
    "        break\n",
    "    elif num > 150:\n",
    "        continue\n",
    "    elif num % 5 == 0:\n",
    "        print(num)\n",
    "    "
   ]
  },
  {
   "cell_type": "markdown",
   "id": "f2718287-1295-4626-9bf6-de0a96bf388f",
   "metadata": {},
   "source": [
    "***<font color=\"gold\">Resource:</font>*** [Pytopia](https://www.pytopia.ai/)"
   ]
  },
  {
   "cell_type": "markdown",
   "id": "14b6e46d-5125-40c8-8f90-b7bf564fbb8c",
   "metadata": {},
   "source": [
    "### *Print through the loop 1*"
   ]
  },
  {
   "cell_type": "markdown",
   "id": "fbbda987-afa6-43f5-b0e2-69a9550fb612",
   "metadata": {},
   "source": [
    "Create a for loop to print each item in the list:"
   ]
  },
  {
   "cell_type": "markdown",
   "id": "5799cdab-5fff-4da2-9ec3-670aa715baf3",
   "metadata": {},
   "source": [
    "```python\n",
    "mylist = [\"Ardashir I\", \"Shapur I\", \"Hormizd I\", \"Bahram I\"]\n",
    "```"
   ]
  },
  {
   "cell_type": "code",
   "execution_count": 27,
   "id": "ca61d6e5-4d0e-459a-91bd-fada111eb255",
   "metadata": {},
   "outputs": [],
   "source": [
    "mylist = [\"Ardashir I\", \"Shapur I\", \"Hormizd I\", \"Bahram I\"]"
   ]
  },
  {
   "cell_type": "code",
   "execution_count": 28,
   "id": "639d4d5d-2bf3-4f9f-86d8-79d1a247a380",
   "metadata": {},
   "outputs": [
    {
     "name": "stdout",
     "output_type": "stream",
     "text": [
      "Ardashir I\n",
      "Shapur I\n",
      "Hormizd I\n",
      "Bahram I\n"
     ]
    }
   ],
   "source": [
    "for name in mylist:\n",
    "    print(name)"
   ]
  },
  {
   "cell_type": "markdown",
   "id": "ba76b5ea-2129-4222-951d-e56f26573e3a",
   "metadata": {},
   "source": [
    "***<font color=\"gold\">Resource:</font>*** [Pytopia](https://www.pytopia.ai/)"
   ]
  },
  {
   "cell_type": "markdown",
   "id": "0abefc30-3e6c-4e4c-b399-6cb53a56c77c",
   "metadata": {},
   "source": [
    "### *Print through the loop 2*"
   ]
  },
  {
   "cell_type": "markdown",
   "id": "a6c6b0e9-509a-46d8-954a-257cf7cfa8c1",
   "metadata": {},
   "source": [
    "Write a for loop that prints `\"King of Kings,\"` at the beginning of each name in the list of the Sassanid Empire's first kings. `\"King of Kings, Ardashir I\"` for example."
   ]
  },
  {
   "cell_type": "code",
   "execution_count": 26,
   "id": "5b6f2e25-ae3a-46ed-91ea-0f2c99ffac46",
   "metadata": {},
   "outputs": [],
   "source": [
    "mylist = [\"Ardashir I\", \"Shapur I\", \"Hormizd I\", \"Bahram I\"]"
   ]
  },
  {
   "cell_type": "code",
   "execution_count": 30,
   "id": "6e08b864-9c9b-40db-a1bb-ebac0786196b",
   "metadata": {},
   "outputs": [
    {
     "name": "stdout",
     "output_type": "stream",
     "text": [
      "King of kings, Ardashir I\n",
      "King of kings, Shapur I\n",
      "King of kings, Hormizd I\n",
      "King of kings, Bahram I\n"
     ]
    }
   ],
   "source": [
    "for name in mylist:\n",
    "    print(\"King of kings,\", name)"
   ]
  },
  {
   "cell_type": "markdown",
   "id": "ed802917-a91c-4e3b-9e12-8fa7ec68de1b",
   "metadata": {},
   "source": [
    "***<font color=\"gold\">Resource:</font>*** [Pytopia](https://www.pytopia.ai/)"
   ]
  },
  {
   "cell_type": "markdown",
   "id": "fb333621-5013-4fc0-a04b-fb548a1127fc",
   "metadata": {},
   "source": [
    "### *Loop over strings*"
   ]
  },
  {
   "cell_type": "markdown",
   "id": "c73737bc-e915-4e62-9c49-12a1e8d6efa4",
   "metadata": {},
   "source": [
    "Create a for loop that loops through `Ardashir` , printing each letter:"
   ]
  },
  {
   "cell_type": "markdown",
   "id": "f414b768-eb3f-4472-aba2-eee8b80e1fee",
   "metadata": {},
   "source": [
    "```python\n",
    "Ardashir = \"Son of Papak\"\n",
    "```"
   ]
  },
  {
   "cell_type": "code",
   "execution_count": 31,
   "id": "82f6c3c1-45cd-45cd-948b-325efe5c339b",
   "metadata": {},
   "outputs": [],
   "source": [
    "Ardashir = \"Son of Papak\""
   ]
  },
  {
   "cell_type": "code",
   "execution_count": 32,
   "id": "d3512b8e-16eb-4842-a12b-cf630b1d37e9",
   "metadata": {},
   "outputs": [
    {
     "name": "stdout",
     "output_type": "stream",
     "text": [
      "S\n",
      "o\n",
      "n\n",
      " \n",
      "o\n",
      "f\n",
      " \n",
      "P\n",
      "a\n",
      "p\n",
      "a\n",
      "k\n"
     ]
    }
   ],
   "source": [
    "for letter in Ardashir:\n",
    "    print(letter)"
   ]
  },
  {
   "cell_type": "markdown",
   "id": "bb4a968c-8d19-4f97-ae9c-6dc113d57d3e",
   "metadata": {},
   "source": [
    "***<font color=\"gold\">Resource:</font>*** [Pytopia](https://www.pytopia.ai/)"
   ]
  },
  {
   "cell_type": "markdown",
   "id": "9a76d8a9-3e58-4209-948c-2d2c2b42634e",
   "metadata": {},
   "source": [
    "### *Count iterations*"
   ]
  },
  {
   "cell_type": "markdown",
   "id": "10dce4f9-6bd5-4795-98ed-74a96c7465e2",
   "metadata": {},
   "source": [
    "Inside the for loop, write code to increase the `counter` variable named count by one each time the loop iterates. Can you figure out how many times it will add 1?"
   ]
  },
  {
   "cell_type": "markdown",
   "id": "e01825eb-fe75-4d4a-8d81-c59256b58791",
   "metadata": {},
   "source": [
    "```python\n",
    "mystring = \"Ardashir was son of Papak\"\n",
    "counter = 0\n",
    "```"
   ]
  },
  {
   "cell_type": "code",
   "execution_count": 33,
   "id": "c48dbdf0-72a2-4e99-971a-d8a8a23919a2",
   "metadata": {},
   "outputs": [
    {
     "name": "stdout",
     "output_type": "stream",
     "text": [
      "25\n"
     ]
    }
   ],
   "source": [
    "mystring = \"Ardashir was son of Papak\"\n",
    "counter = 0\n",
    "\n",
    "for letter in mystring:\n",
    "    counter += 1\n",
    "\n",
    "print(counter)"
   ]
  },
  {
   "cell_type": "markdown",
   "id": "d027b487-5f90-4f98-9cdd-b8428bd5cd1b",
   "metadata": {},
   "source": [
    "***<font color=\"gold\">Resource:</font>*** [Pytopia](https://www.pytopia.ai/)"
   ]
  },
  {
   "cell_type": "markdown",
   "id": "ad18ea47-04d2-4975-bd77-70e1be5cc25d",
   "metadata": {},
   "source": [
    "### *Building a list from another list*"
   ]
  },
  {
   "cell_type": "markdown",
   "id": "5467648c-1d6f-46a9-8fb9-4645a4853085",
   "metadata": {},
   "source": [
    "Using a for loop and the `.append()` method, append each item to the new list that does not have the suffix `\" I\"`."
   ]
  },
  {
   "cell_type": "markdown",
   "id": "70faa4ed-7f84-4bc6-a92f-d03bbd2f0623",
   "metadata": {},
   "source": [
    "```python\n",
    "mylist = [\"Ardashir I\", \"Shapur I\", \"Hormizd I\", \"Bahram I\"]\n",
    "newlist = #?\n",
    "```"
   ]
  },
  {
   "cell_type": "code",
   "execution_count": 36,
   "id": "4bdeb859-45df-4b5a-b514-d2b5843eb8c9",
   "metadata": {},
   "outputs": [],
   "source": [
    "mylist = [\"Ardashir I\", \"Shapur I\", \"Hormizd I\", \"Bahram I\"]\n",
    "newlist = []"
   ]
  },
  {
   "cell_type": "code",
   "execution_count": 40,
   "id": "0a783b91-d6e7-4dc0-ac88-ad11d44152f3",
   "metadata": {},
   "outputs": [
    {
     "name": "stdout",
     "output_type": "stream",
     "text": [
      "[]\n"
     ]
    }
   ],
   "source": [
    "for item in mylist:\n",
    "    if \" I\" not in item:\n",
    "        newlist.append(item)\n",
    "        \n",
    "print(newlist)"
   ]
  },
  {
   "cell_type": "markdown",
   "id": "6b95b488-5e6c-407e-9481-e461b320deee",
   "metadata": {},
   "source": [
    "***<font color=\"gold\">Resource:</font>*** [Pytopia](https://www.pytopia.ai/)"
   ]
  },
  {
   "cell_type": "markdown",
   "id": "59625352-68ab-4751-bbfb-56b8778b2ab8",
   "metadata": {},
   "source": [
    "### *Building a list from another list 2*"
   ]
  },
  {
   "cell_type": "markdown",
   "id": "cac455eb-0ca6-4c5d-b538-ed9f9a2b80e7",
   "metadata": {},
   "source": [
    "Create a for loop that for each item in `mylist` calculate the sum of the numbers starting from first element to the current element and append the result to the new list."
   ]
  },
  {
   "cell_type": "markdown",
   "id": "0c3b3f72-924a-4276-a289-d923e8056d17",
   "metadata": {},
   "source": [
    "```python\n",
    "mylist = [1 , 2, 3, 4, 5, 6, 7, 8, 9, 10]\n",
    "newlist = #?\n",
    "```"
   ]
  },
  {
   "cell_type": "code",
   "execution_count": 43,
   "id": "826f12bb-3456-4cb1-8bff-d345395fcb8d",
   "metadata": {},
   "outputs": [],
   "source": [
    "mylist = [1, 2, 3, 4, 5, 6, 7, 8, 9, 10]\n",
    "newlist = []\n",
    "density = 0"
   ]
  },
  {
   "cell_type": "code",
   "execution_count": 44,
   "id": "b4e0ee57-a436-47bf-94a4-ea9d56fd3faa",
   "metadata": {},
   "outputs": [
    {
     "name": "stdout",
     "output_type": "stream",
     "text": [
      "[1, 3, 6, 10, 15, 21, 28, 36, 45, 55]\n"
     ]
    }
   ],
   "source": [
    "for num in mylist:\n",
    "    density += num\n",
    "    newlist.append(density)\n",
    "    \n",
    "print(newlist)"
   ]
  },
  {
   "cell_type": "markdown",
   "id": "97f35b66-a786-4345-aa30-7c8c07e863e8",
   "metadata": {},
   "source": [
    "***<font color=\"gold\">Resource:</font>*** [Pytopia](https://www.pytopia.ai/)"
   ]
  },
  {
   "cell_type": "markdown",
   "id": "c86438c0-0cfa-4953-9887-6d1b761f8617",
   "metadata": {},
   "source": [
    "### *Building a list from an iterator*"
   ]
  },
  {
   "cell_type": "markdown",
   "id": "2f468021-4363-45cc-b74e-38ad7e9410bf",
   "metadata": {},
   "source": [
    "use a for loop with an if statement that appends even numbers in the range of `1-50` to the new list."
   ]
  },
  {
   "cell_type": "code",
   "execution_count": 47,
   "id": "ae26b3c8-0090-4b95-b806-e31563ed042d",
   "metadata": {},
   "outputs": [],
   "source": [
    "new_list = []\n",
    "for i in range(1, 50):\n",
    "    if i % 2 == 0:\n",
    "        new_list.append(i)"
   ]
  },
  {
   "cell_type": "code",
   "execution_count": 48,
   "id": "cb34cf28-20fb-43eb-bd2c-1a6984048269",
   "metadata": {},
   "outputs": [
    {
     "name": "stdout",
     "output_type": "stream",
     "text": [
      "[2, 4, 6, 8, 10, 12, 14, 16, 18, 20, 22, 24, 26, 28, 30, 32, 34, 36, 38, 40, 42, 44, 46, 48]\n"
     ]
    }
   ],
   "source": [
    "print(new_list)"
   ]
  },
  {
   "cell_type": "markdown",
   "id": "adde8662-2309-4c4f-b293-b78fad874d01",
   "metadata": {},
   "source": [
    "***<font color=\"gold\">Resource:</font>*** [Pytopia](https://www.pytopia.ai/)"
   ]
  },
  {
   "cell_type": "markdown",
   "id": "97926a39-be8d-4b07-99f9-9f62150bff08",
   "metadata": {},
   "source": [
    "### *Building a list from a dictionary*"
   ]
  },
  {
   "cell_type": "markdown",
   "id": "906588eb-ee65-4b74-a867-667d247f1565",
   "metadata": {},
   "source": [
    "Create `sasanian_empire` list in such a way that it contains only items from the dictionary `kings` whose values are greater than the number `223`."
   ]
  },
  {
   "cell_type": "markdown",
   "id": "97e21af7-e36a-4239-acd4-a0636ec1a4f7",
   "metadata": {},
   "source": [
    "```python\n",
    "kings = {\"Deioces\": -700 , \"Cyrus\": -559, \"Alexander \": -336, \"Seleucus\": -311,\n",
    "         \"Antiochus VII\" : -139, \"Darayan I\" : -132, \"Arsaces I\" : -247 ,\"Musa\" : -2 ,\n",
    "         \"Ardavan IV\" : 213, \"Ardashir I\" : 224, \"Shapur I\" : 240,\n",
    "         \"Hormizd I\" : 270, \"Bahram I\" : 271}\n",
    "sasanian_empire = #?\n",
    "```"
   ]
  },
  {
   "cell_type": "code",
   "execution_count": 2,
   "id": "407a644d-a63f-40b4-a3a9-cd411e36f0d3",
   "metadata": {},
   "outputs": [],
   "source": [
    "kings = {\n",
    "    \"Deioces\": -700 , \"Cyrus\": -559, \"Alexander \": -336, \"Seleucus\": -311,\n",
    "    \"Antiochus VII\" : -139, \"Darayan I\" : -132, \"Arsaces I\" : -247 ,\n",
    "    \"Musa\" : -2 ,\"Ardavan IV\" : 213, \"Ardashir I\" : 224, \"Shapur I\" : 240,\n",
    "    \"Hormizd I\" : 270, \"Bahram I\" : 271,\n",
    "}\n",
    "\n",
    "sasanian_empire = []"
   ]
  },
  {
   "cell_type": "code",
   "execution_count": 21,
   "id": "b9cf9aea-d74a-4596-bb73-aa9b8d69ed59",
   "metadata": {},
   "outputs": [
    {
     "name": "stdout",
     "output_type": "stream",
     "text": [
      "['Ardashir I', 'Shapur I', 'Hormizd I', 'Bahram I', 'Ardashir I', 'Shapur I', 'Hormizd I', 'Bahram I']\n"
     ]
    }
   ],
   "source": [
    "for key, value in kings.items():\n",
    "    if value > 223:\n",
    "        sasanian_empire.append(key)\n",
    "\n",
    "print(sasanian_empire)"
   ]
  },
  {
   "cell_type": "markdown",
   "id": "da1734e6-d253-4602-ac29-3f21d14e4e27",
   "metadata": {},
   "source": [
    "***<font color=\"gold\">Resource:</font>*** [Pytopia](https://www.pytopia.ai/)"
   ]
  },
  {
   "cell_type": "markdown",
   "id": "f172905a-0668-49f0-a2ba-c015ddc29226",
   "metadata": {},
   "source": [
    "### *Loop entertainment 1*"
   ]
  },
  {
   "cell_type": "markdown",
   "id": "6ece88b0-da1e-4a65-b7a7-10ff6ef7fa47",
   "metadata": {},
   "source": [
    "Write code that produces the following output:"
   ]
  },
  {
   "cell_type": "markdown",
   "id": "a58fb863-9bc5-4b9c-b0f7-f6eaf4810141",
   "metadata": {},
   "source": [
    "```\n",
    "      6 \n",
    "     6 6 \n",
    "    6 6 6 \n",
    "   6 6 6 6 \n",
    "  6 6 6 6 6 \n",
    " 6 6 6 6 6 6\n",
    "```"
   ]
  },
  {
   "cell_type": "code",
   "execution_count": 48,
   "id": "5a5a776f-ce38-4c15-971a-d36d07f6fd5a",
   "metadata": {},
   "outputs": [
    {
     "name": "stdout",
     "output_type": "stream",
     "text": [
      "       6 \n",
      "      6 6 \n",
      "     6 6 6 \n",
      "    6 6 6 6 \n",
      "   6 6 6 6 6 \n",
      "  6 6 6 6 6 6 \n"
     ]
    }
   ],
   "source": [
    "n = 6\n",
    "for i in range(n):\n",
    "    print(' ' * (n - i), end=\" \")\n",
    "    for j in range(i + 1):\n",
    "        print(n, end=' ')\n",
    "    print()"
   ]
  },
  {
   "cell_type": "markdown",
   "id": "3b4c9075-ee03-4bea-8e07-35d61657f8c0",
   "metadata": {},
   "source": [
    "***<font color=\"gold\">Resource:</font>*** [Pytopia](https://www.pytopia.ai/)"
   ]
  },
  {
   "cell_type": "markdown",
   "id": "f2e2eb46-d109-4417-ae8f-fca5e37a76d3",
   "metadata": {},
   "source": [
    "### *Loop entertainment 2*"
   ]
  },
  {
   "cell_type": "markdown",
   "id": "7ebe9d48-8244-4683-959b-f1aeccc3ee3c",
   "metadata": {},
   "source": [
    "Write code that produces the following output:"
   ]
  },
  {
   "cell_type": "markdown",
   "id": "bd1c0dbd-1352-429d-b8d7-a8b5db63c99f",
   "metadata": {},
   "source": [
    "```\n",
    "     1 \n",
    "    1 1 \n",
    "   1 2 1 \n",
    "  1 3 3 1 \n",
    " 1 4 6 4 1\n",
    "```"
   ]
  },
  {
   "cell_type": "code",
   "execution_count": 30,
   "id": "0a39b1b3-16fd-49cb-977c-6ced3aa77118",
   "metadata": {},
   "outputs": [
    {
     "name": "stdout",
     "output_type": "stream",
     "text": [
      "     1 \n",
      "    1 1 \n",
      "   1 2 1 \n",
      "  1 3 3 1 \n",
      " 1 4 6 4 1 \n"
     ]
    }
   ],
   "source": [
    "from math import factorial\n",
    "\n",
    "c = 0\n",
    "\n",
    "for n in range(5):\n",
    "    print(' ' * (5 - n), end = '')\n",
    "    \n",
    "    for k in range(n + 1):\n",
    "        # Calculating coefficient from every combination of k from n\n",
    "        c = factorial(n) / (factorial(k) * factorial(n - k))\n",
    "        print(int(c), end = ' ')\n",
    "        \n",
    "    print()"
   ]
  },
  {
   "cell_type": "markdown",
   "id": "c2e92e4b-0795-4193-baf3-6fad174a28cd",
   "metadata": {},
   "source": [
    "***<font color=\"gold\">Resource:</font>*** [Pytopia](https://www.pytopia.ai/)"
   ]
  },
  {
   "cell_type": "markdown",
   "id": "0cf24473-cb55-401c-9bd0-c3ed25f3da5e",
   "metadata": {},
   "source": [
    "### *Print R Pattern*"
   ]
  },
  {
   "cell_type": "markdown",
   "id": "c2f61992-8573-47fb-aff1-8008b9d2447a",
   "metadata": {},
   "source": [
    "Write a Python program to print the below pattern."
   ]
  },
  {
   "cell_type": "markdown",
   "id": "696ab458-76d1-4556-a9c5-4edc20a5feb7",
   "metadata": {},
   "source": [
    " ```\n",
    " ****                                                     \n",
    " *   *                                                     \n",
    " *   *                                                     \n",
    " ****                                                     \n",
    " * *                                                      \n",
    " *  *                                                     \n",
    " *   *\n",
    " ```"
   ]
  },
  {
   "cell_type": "code",
   "execution_count": 63,
   "id": "5c23e543-6215-4e16-8d73-2957b09385e5",
   "metadata": {},
   "outputs": [
    {
     "name": "stdout",
     "output_type": "stream",
     "text": [
      "\n",
      "****\n",
      "*   *\n",
      "*   *\n",
      "****\n",
      "* *\n",
      "*  *\n",
      "*   *\n",
      "\n"
     ]
    }
   ],
   "source": [
    "print(f\"\"\"\n",
    "****\n",
    "*   *\n",
    "*   *\n",
    "****\n",
    "* *\n",
    "*  *\n",
    "*   *\n",
    "\"\"\")    "
   ]
  },
  {
   "cell_type": "markdown",
   "id": "87aabb0c-7733-4a95-b8e1-40979c96de3c",
   "metadata": {},
   "source": [
    "***<font color=\"gold\">Resource:</font>*** [Pytopia](https://www.pytopia.ai/)"
   ]
  },
  {
   "cell_type": "markdown",
   "id": "20343202-e274-42a1-8bb1-4600395d1dc2",
   "metadata": {
    "jp-MarkdownHeadingCollapsed": true,
    "tags": []
   },
   "source": [
    "## List, Dictionary, and Set Comprehension"
   ]
  },
  {
   "cell_type": "markdown",
   "id": "8c6790e0-21f0-4e21-8c64-bc82b5ffd30d",
   "metadata": {},
   "source": [
    "### *Lazy Students*"
   ]
  },
  {
   "cell_type": "markdown",
   "id": "151cb549-6478-45d0-85dd-a4a416d43e4a",
   "metadata": {},
   "source": [
    "Ali wants to punish students who scored below `16`. Given dictionary is consisted of Students and their grades. Help him to construct a list of the students with grades below `16`. and also make the key names all upper case."
   ]
  },
  {
   "cell_type": "markdown",
   "id": "26c42f2e-72f1-48e6-bbc7-497ae8e6d1b6",
   "metadata": {},
   "source": [
    "```python\n",
    "stu_grades = {\"Sina\": 10, \"Amir\": 20, \"Elham\": 17, \"Mahtab\": 9, \"Hossein\": 20, \"Fateme\": 15.75, \"Elnaz\": 16.2 , \"Ahmad\": 18.5}\n",
    "```"
   ]
  },
  {
   "cell_type": "markdown",
   "id": "5461140a-91a3-4e15-987c-db46f9e6e981",
   "metadata": {},
   "source": [
    ">***Note:*** only Use list comprehension syntax."
   ]
  },
  {
   "cell_type": "code",
   "execution_count": 1,
   "id": "754526f9-e828-49cf-8b5f-cd6b30e728e8",
   "metadata": {},
   "outputs": [],
   "source": [
    "stu_grades = {\"Sina\": 10, \"Amir\": 20, \"Elham\": 17, \"Mahtab\": 9, \"Hossein\": 20, \"Fateme\": 15.75, \"Elnaz\": 16.2 , \"Ahmad\": 18.5}"
   ]
  },
  {
   "cell_type": "code",
   "execution_count": 6,
   "id": "11f35729-3232-48ec-bb39-c3307a27f15f",
   "metadata": {},
   "outputs": [
    {
     "name": "stdout",
     "output_type": "stream",
     "text": [
      "['SINA', 'MAHTAB', 'FATEME']\n"
     ]
    }
   ],
   "source": [
    "lazy_students = [name.upper() for name in stu_grades if stu_grades[name] < 16]\n",
    "print(lazy_students)"
   ]
  },
  {
   "cell_type": "markdown",
   "id": "456e7bce-f8b8-4d23-b455-6a128563459e",
   "metadata": {},
   "source": [
    "***<font color=\"gold\">Resource:</font>*** [Pytopia](https://www.pytopia.ai/)"
   ]
  },
  {
   "cell_type": "markdown",
   "id": "3af08222-ef87-4bbf-8c1e-1fa7102a8b94",
   "metadata": {},
   "source": [
    "### *Square List*"
   ]
  },
  {
   "cell_type": "markdown",
   "id": "2b6853d0-84fd-41ce-8286-eeaa0bd736a5",
   "metadata": {},
   "source": [
    "Using **list comprehension**, construct a list from the squares of each element in the list, if the square is greater than `50`."
   ]
  },
  {
   "cell_type": "code",
   "execution_count": 7,
   "id": "671bcc63-d27b-4780-bd03-fb197003f86e",
   "metadata": {},
   "outputs": [],
   "source": [
    "lst1 = [2, 4, 6, 8, 10, 12, 14]"
   ]
  },
  {
   "cell_type": "code",
   "execution_count": 8,
   "id": "0e3b99bd-99dc-4c2d-a542-6f5a036da287",
   "metadata": {},
   "outputs": [
    {
     "name": "stdout",
     "output_type": "stream",
     "text": [
      "[64, 100, 144, 196]\n"
     ]
    }
   ],
   "source": [
    "lst2 = [i ** 2 for i in lst1 if i ** 2 > 50]\n",
    "print(lst2)"
   ]
  },
  {
   "cell_type": "markdown",
   "id": "a85ff9fe-6c37-4ae6-923a-bc65b9314f5d",
   "metadata": {},
   "source": [
    "***<font color=\"gold\">Resource:</font>*** [Pytopia](https://www.pytopia.ai/)"
   ]
  },
  {
   "cell_type": "markdown",
   "id": "b144c3e8-5949-451e-8613-a9914abf6977",
   "metadata": {},
   "source": [
    "### *Remove Floats*"
   ]
  },
  {
   "cell_type": "markdown",
   "id": "b00f1d51-2ed3-4506-9a36-769017e17974",
   "metadata": {},
   "source": [
    "Given a list of numbers, use list comprehension to construct a list without floats of the given list."
   ]
  },
  {
   "cell_type": "code",
   "execution_count": 15,
   "id": "58e9e80b-6840-4608-adc0-7d2d6f86952f",
   "metadata": {},
   "outputs": [],
   "source": [
    "original_list = [2, 3.75, 0.04, 59.354, 6, 7.7777, 8, 9]"
   ]
  },
  {
   "cell_type": "code",
   "execution_count": 21,
   "id": "bc858481-0ab5-4d94-a86f-c2cfb730f6a3",
   "metadata": {},
   "outputs": [
    {
     "name": "stdout",
     "output_type": "stream",
     "text": [
      "[2, 6, 8, 9]\n"
     ]
    }
   ],
   "source": [
    "final_list = [number for number in original_list if type(number) != float]\n",
    "print(final_list)"
   ]
  },
  {
   "cell_type": "markdown",
   "id": "3a771b76-3d5e-4c85-a4ef-85fa2dd2d6b7",
   "metadata": {},
   "source": [
    "***<font color=\"gold\">Resource:</font>*** [Pytopia](https://www.pytopia.ai/)"
   ]
  },
  {
   "cell_type": "markdown",
   "id": "567dac6e-dc7d-48df-845c-4dfa3ed0dab4",
   "metadata": {},
   "source": [
    "### *Count Spaces*"
   ]
  },
  {
   "cell_type": "markdown",
   "id": "61b5368c-472f-4fc7-9164-c1ff9fa53183",
   "metadata": {},
   "source": [
    "Count the number of spaces in the following string **using list comprehension**."
   ]
  },
  {
   "cell_type": "markdown",
   "id": "f1b2c4f5-8436-466a-988f-7a55e778bff8",
   "metadata": {},
   "source": [
    "```python\n",
    "string = \"Pytopia is an online learning and teaching marketplace for Data Science. Taught by experts to help you acquire new skills.\"\n",
    "```"
   ]
  },
  {
   "cell_type": "code",
   "execution_count": 36,
   "id": "1525edd6-a83a-459b-9771-e47e7e5a7e95",
   "metadata": {},
   "outputs": [],
   "source": [
    "string = \"Pytopia is an online learning and teaching marketplace for Data Science. Taught by experts to help you acquire new skills.\""
   ]
  },
  {
   "cell_type": "code",
   "execution_count": 39,
   "id": "d587b718-d6d1-4a86-a091-8bc91316ec80",
   "metadata": {},
   "outputs": [
    {
     "name": "stdout",
     "output_type": "stream",
     "text": [
      "19\n"
     ]
    }
   ],
   "source": [
    "spaces = [s for s in string if s == ' ']\n",
    "print(len(spaces))"
   ]
  },
  {
   "cell_type": "markdown",
   "id": "9c09f384-2417-468a-a177-40b3a4beb162",
   "metadata": {},
   "source": [
    "***<font color=\"gold\">Resource:</font>*** [Pytopia](https://www.pytopia.ai/)"
   ]
  },
  {
   "cell_type": "markdown",
   "id": "2374234e-67ee-4dc9-b92a-18475735aa01",
   "metadata": {},
   "source": [
    "### *Nested List Comprehension*"
   ]
  },
  {
   "cell_type": "markdown",
   "id": "8494da50-8426-4400-853f-e0a19224ddb5",
   "metadata": {},
   "source": [
    "Use a nested list comprehension to find all of the numbers from `1-100` that are divisible by any single digit besides 1 (2-9)."
   ]
  },
  {
   "cell_type": "code",
   "execution_count": 2,
   "id": "b83487d1-7071-4ebf-b1fd-78db33bcd2ea",
   "metadata": {},
   "outputs": [
    {
     "name": "stdout",
     "output_type": "stream",
     "text": [
      "[2, 3, 4, 5, 6, 7, 8, 9, 10, 12, 14, 15, 16, 18, 20, 21, 22, 24, 25, 26, 27, 28, 30, 32, 33, 34, 35, 36, 38, 39, 40, 42, 44, 45, 46, 48, 49, 50, 51, 52, 54, 55, 56, 57, 58, 60, 62, 63, 64, 65, 66, 68, 69, 70, 72, 74, 75, 76, 77, 78, 80, 81, 82, 84, 85, 86, 87, 88, 90, 91, 92, 93, 94, 95, 96, 98, 99]\n"
     ]
    }
   ],
   "source": [
    "lst = [\n",
    "    number for number in range(1, 100)\n",
    "    if True in [True for x in range(2, 10) if number % x == 0]\n",
    "]\n",
    "print(lst)"
   ]
  },
  {
   "cell_type": "markdown",
   "id": "0e023e17-baa6-4965-90d7-ea53241a190b",
   "metadata": {},
   "source": [
    "***<font color=\"gold\">Resource:</font>*** [Pytopia](https://www.pytopia.ai/)"
   ]
  },
  {
   "cell_type": "markdown",
   "id": "47bf4e62-20a9-4871-8ac7-9511b4f783d2",
   "metadata": {},
   "source": [
    "### *Short Words*"
   ]
  },
  {
   "cell_type": "markdown",
   "id": "49659ac0-bec6-4721-a27b-eafcf611e1e0",
   "metadata": {},
   "source": [
    "Find all of the words in the given string that are less than 5 letters using **list comprehension**."
   ]
  },
  {
   "cell_type": "markdown",
   "id": "5bf61b33-f5a8-4b31-a566-f3fc305305bd",
   "metadata": {},
   "source": [
    "```python\n",
    "string = '''Pytopia is a Online learning and\n",
    "teaching marketplace for Data Science.\n",
    "Taught by experts to help you acquire new skills.'''\n",
    "```"
   ]
  },
  {
   "cell_type": "code",
   "execution_count": 8,
   "id": "62857c9e-18d0-4f16-afd9-2686a00f0658",
   "metadata": {},
   "outputs": [],
   "source": [
    "string = '''Pytopia is a Online learning and\n",
    "teaching marketplace for Data Science.\n",
    "Taught by experts to help you acquire new skills.'''"
   ]
  },
  {
   "cell_type": "code",
   "execution_count": 17,
   "id": "a3d94b4e-d30e-409c-bad2-c78e0b62fad8",
   "metadata": {},
   "outputs": [
    {
     "name": "stdout",
     "output_type": "stream",
     "text": [
      "['is', 'a', 'and', 'for', 'Data', 'by', 'to', 'help', 'you', 'new']\n"
     ]
    }
   ],
   "source": [
    "words = string.split(' ')\n",
    "small_words = [word for word in words if len(word) < 5]\n",
    "\n",
    "print(small_words)"
   ]
  },
  {
   "cell_type": "markdown",
   "id": "86599d65-fafc-450c-8d91-9f2c599d378e",
   "metadata": {},
   "source": [
    "***<font color=\"gold\">Resource:</font>*** [Pytopia](https://www.pytopia.ai/)"
   ]
  },
  {
   "cell_type": "markdown",
   "id": "e98f4d5c-97fd-428b-b77a-a0fdef4c10fa",
   "metadata": {},
   "source": [
    "### *Filtering List Index*"
   ]
  },
  {
   "cell_type": "markdown",
   "id": "7f99129b-6a7d-4862-b8f8-cfa9327b4363",
   "metadata": {},
   "source": [
    "By using list comprehension, write a program to create a list named `filtered_list` by removing the `0t, 4th, 5th` numbers in `[1, 24, 35, 70, 88, 120, 155]`."
   ]
  },
  {
   "cell_type": "code",
   "execution_count": 45,
   "id": "1ea0f96d-b500-4a36-a964-ac44e116e9f5",
   "metadata": {},
   "outputs": [
    {
     "name": "stdout",
     "output_type": "stream",
     "text": [
      "[24, 35, 70, 155]\n"
     ]
    }
   ],
   "source": [
    "numbers = [12, 24, 35, 70, 88, 120, 155]\n",
    "filtered_list = [number for index, number in enumerate(numbers) if index not in [0, 4, 5]]\n",
    "\n",
    "print(filtered_list)"
   ]
  },
  {
   "cell_type": "markdown",
   "id": "61453898-4250-4d75-ba74-42cdc3f05183",
   "metadata": {},
   "source": [
    "***<font color=\"gold\">Resource:</font>*** [Pytopia](https://www.pytopia.ai/)"
   ]
  },
  {
   "cell_type": "markdown",
   "id": "33f8ec2b-965e-4ee3-8bbc-621eb8323ba0",
   "metadata": {},
   "source": [
    "### *List of prime numbers*"
   ]
  },
  {
   "cell_type": "markdown",
   "id": "8660a2e8-edf9-4d5a-a549-6cd3f8cd8435",
   "metadata": {},
   "source": [
    "Using **list comprehension** and the `is_prime()` function, create a list like this:"
   ]
  },
  {
   "cell_type": "markdown",
   "id": "d36f7409-a82f-4e80-9fe2-3bb32753b47c",
   "metadata": {},
   "source": [
    "```python\n",
    "[1, 2, 3, 5, 7, 11, 13, 17, 19, 23,\n",
    "29, 31, 37, 41, 43, 47, 53, 59, 61,\n",
    "67, 71, 73, 79, 83, 89, 97]\n",
    "```"
   ]
  },
  {
   "cell_type": "code",
   "execution_count": 46,
   "id": "b2113400-2d43-4db2-9075-84e074546579",
   "metadata": {},
   "outputs": [],
   "source": [
    "def is_prime(n):\n",
    "  for i in range(2, n):\n",
    "    if (n % i) == 0:\n",
    "      return False\n",
    "  return True"
   ]
  },
  {
   "cell_type": "code",
   "execution_count": 47,
   "id": "34735d22-948c-4041-b1eb-b8db1e3e5658",
   "metadata": {},
   "outputs": [
    {
     "name": "stdout",
     "output_type": "stream",
     "text": [
      "[1, 2, 3, 5, 7, 11, 13, 17, 19, 23, 29, 31, 37, 41, 43, 47, 53, 59, 61, 67, 71, 73, 79, 83, 89, 97]\n"
     ]
    }
   ],
   "source": [
    "lst = [num for num in range(1, 100) if is_prime(num)]\n",
    "print(lst)"
   ]
  },
  {
   "cell_type": "markdown",
   "id": "823b70cb-6846-4863-96f3-91efd9b19d8b",
   "metadata": {},
   "source": [
    "***<font color=\"gold\">Resource:</font>*** [Pytopia](https://www.pytopia.ai/)"
   ]
  },
  {
   "cell_type": "markdown",
   "id": "df753223-730e-4561-9e3d-5125608a9a87",
   "metadata": {},
   "source": [
    "### *A list of relatively old singers*"
   ]
  },
  {
   "cell_type": "markdown",
   "id": "aafcff57-a6d0-420b-9586-2004293811c5",
   "metadata": {},
   "source": [
    "The given dictionary is made up of singers, as well as their ages and nationalities. Make a list of the names of singers **under the age of 70** but over **the age of 50**. *(use list comprehension)*"
   ]
  },
  {
   "cell_type": "markdown",
   "id": "74ed779d-4eed-49cf-8e9d-1bbe7de4594c",
   "metadata": {},
   "source": [
    "```python\n",
    "persons = {\"Paul David Hewson\" : (61, \"Ireland\"),\n",
    "           \"Saeed Mohammadi\" : (63, \"Iran\"),\n",
    "           \"Alla Borisovna Pugacheva\" : (77, \"Russia\"),\n",
    "           \"David Jon Gilmour\" : (75, \"United Kingdom\"),\n",
    "           \"Aryana Sayeed\" : (36, \"Afghanistan\"),\n",
    "           \"Céline Marie Claudette Dion\" : (53, \"Canad\"),\n",
    "           \"Caetano Emanuel Viana Telles Veloso\" : (79, \"Brazil\")}\n",
    "```"
   ]
  },
  {
   "cell_type": "code",
   "execution_count": 33,
   "id": "5ebae75c-ba94-4539-9996-1c7aca07779e",
   "metadata": {},
   "outputs": [],
   "source": [
    "persons = {\n",
    "    \"Paul David Hewson\" : (61, \"Ireland\"),\n",
    "    \"Saeed Mohammadi\" : (63, \"Iran\"),\n",
    "    \"Alla Borisovna Pugacheva\" : (77, \"Russia\"),\n",
    "    \"David Jon Gilmour\" : (75, \"United Kingdom\"),\n",
    "    \"Aryana Sayeed\" : (36, \"Afghanistan\"),\n",
    "    \"Céline Marie Claudette Dion\" : (53, \"Canad\"),\n",
    "    \"Caetano Emanuel Viana Telles Veloso\" : (79, \"Brazil\")\n",
    "}"
   ]
  },
  {
   "cell_type": "code",
   "execution_count": 37,
   "id": "bdb446d9-99b3-4fc8-b4d2-59ead0b7bbde",
   "metadata": {},
   "outputs": [
    {
     "name": "stdout",
     "output_type": "stream",
     "text": [
      "['Paul David Hewson', 'Saeed Mohammadi', 'Céline Marie Claudette Dion']\n"
     ]
    }
   ],
   "source": [
    "filtered_singers = [singer for singer, info in persons.items() if 50 < info[0] < 70]\n",
    "print(filtered_singers)"
   ]
  },
  {
   "cell_type": "markdown",
   "id": "ae139127-a268-43a2-ad9a-1758224ad4d6",
   "metadata": {},
   "source": [
    "***<font color=\"gold\">Resource:</font>*** [Pytopia](https://www.pytopia.ai/)"
   ]
  },
  {
   "cell_type": "markdown",
   "id": "f6797bfc-6dae-4e70-be0d-39c11e79c496",
   "metadata": {},
   "source": [
    "### *Swap the keys and values*"
   ]
  },
  {
   "cell_type": "markdown",
   "id": "52d68d32-acb2-4368-9483-3cdc30ccac0e",
   "metadata": {},
   "source": [
    "Please use dict comprehension to swap the keys and values and create a new dictionary."
   ]
  },
  {
   "cell_type": "markdown",
   "id": "280dd036-56e5-4a49-a146-8b8c05adeeca",
   "metadata": {},
   "source": [
    "```python\n",
    "x = {\"BTCUSDT\":66678,\"LINKUSDT\":35.8,\"ADAUSDT\":2.166}\n",
    "```"
   ]
  },
  {
   "cell_type": "code",
   "execution_count": 38,
   "id": "7f084b27-877e-4e56-953d-647c53a8853c",
   "metadata": {},
   "outputs": [],
   "source": [
    "x = {\"BTCUSDT\":66678,\"LINKUSDT\":35.8,\"ADAUSDT\":2.166}"
   ]
  },
  {
   "cell_type": "code",
   "execution_count": 39,
   "id": "48d01e70-4269-45f0-8089-66f02693c667",
   "metadata": {},
   "outputs": [
    {
     "name": "stdout",
     "output_type": "stream",
     "text": [
      "{66678: 'BTCUSDT', 35.8: 'LINKUSDT', 2.166: 'ADAUSDT'}\n"
     ]
    }
   ],
   "source": [
    "y = {value: key for key, value in x.items()}\n",
    "print(y)"
   ]
  },
  {
   "cell_type": "markdown",
   "id": "812bcede-7981-43af-b4a7-6358efc17466",
   "metadata": {},
   "source": [
    "***<font color=\"gold\">Resource:</font>*** [Pytopia](https://www.pytopia.ai/)"
   ]
  },
  {
   "cell_type": "markdown",
   "id": "089bf8fd-9f64-4a81-bbe2-a994cc8081de",
   "metadata": {
    "jp-MarkdownHeadingCollapsed": true,
    "tags": []
   },
   "source": [
    "## Basic Input, Output And String Formatting"
   ]
  },
  {
   "cell_type": "markdown",
   "id": "2f8230de-766b-4457-809d-2351a7108299",
   "metadata": {},
   "source": [
    "### *New line at the end*"
   ]
  },
  {
   "cell_type": "markdown",
   "id": "18d8d430-e62e-4420-b392-dfbca71ce613",
   "metadata": {},
   "source": [
    "print the following output using variable `C` and keyword argument `end`"
   ]
  },
  {
   "cell_type": "markdown",
   "id": "37391af0-9364-493a-ada7-3fabd7f9a670",
   "metadata": {},
   "source": [
    "```\n",
    "Céline Marie Claudette Dion\n",
    "---\n",
    "53\n",
    "---\n",
    "Canada\n",
    "---\n",
    "```"
   ]
  },
  {
   "cell_type": "markdown",
   "id": "7eac3d54-a870-402b-8c19-d7f24cb61a63",
   "metadata": {},
   "source": [
    "```\n",
    "C = (\"Céline Marie Claudette Dion\", 53, \"Canada\")\n",
    "```"
   ]
  },
  {
   "cell_type": "code",
   "execution_count": 1,
   "id": "b253d029-7cd1-427b-8ce2-a42dcfdb3e65",
   "metadata": {},
   "outputs": [
    {
     "name": "stdout",
     "output_type": "stream",
     "text": [
      "Céline Marie Claudette Dion\n",
      "---\n",
      "53\n",
      "---\n",
      "Canada\n",
      "---\n"
     ]
    }
   ],
   "source": [
    "C = (\"Céline Marie Claudette Dion\", 53, \"Canada\")\n",
    "\n",
    "for item in C:\n",
    "    print(item, end='\\n---\\n')"
   ]
  },
  {
   "cell_type": "markdown",
   "id": "79c849ff-91d5-4f92-bac1-83b94567480a",
   "metadata": {},
   "source": [
    "***<font color=\"gold\">Resource:</font>*** [Pytopia](https://www.pytopia.ai/)"
   ]
  },
  {
   "cell_type": "markdown",
   "id": "c55ec40b-81e5-4f01-9c68-4704e10992eb",
   "metadata": {},
   "source": [
    "### *Separate the element in the output*"
   ]
  },
  {
   "cell_type": "markdown",
   "id": "bec558a4-c0c1-43cd-b449-6d104a3c410e",
   "metadata": {},
   "source": [
    "Using `sep=` keyword , print the information in the list below and separate the items with an `\"-~-\"`.(use single print function)"
   ]
  },
  {
   "cell_type": "markdown",
   "id": "7ed4f8aa-037e-47bb-bb53-6560b6477086",
   "metadata": {},
   "source": [
    "```\n",
    "singers = [\"Paul David Hewson\", \"Saeed Mohammadi\" ,  \"Aryana Sayeed\"]\n",
    "```"
   ]
  },
  {
   "cell_type": "code",
   "execution_count": 1,
   "id": "6d5fb2a0-ecde-43b6-a6ef-87f180458729",
   "metadata": {},
   "outputs": [
    {
     "name": "stdout",
     "output_type": "stream",
     "text": [
      "Paul David Hewson-~-Saeed Mohammadi-~-Aryana Sayeed\n"
     ]
    }
   ],
   "source": [
    "singers = [\"Paul David Hewson\", \"Saeed Mohammadi\" ,  \"Aryana Sayeed\"]\n",
    "\n",
    "print(*singers, sep='-~-')"
   ]
  },
  {
   "cell_type": "markdown",
   "id": "08ae9bcb-e435-45a8-9483-d492e14eab1b",
   "metadata": {},
   "source": [
    "***<font color=\"gold\">Resource:</font>*** [Pytopia](https://www.pytopia.ai/)"
   ]
  },
  {
   "cell_type": "markdown",
   "id": "a63f48c5-655b-42be-89c9-2237609e9b00",
   "metadata": {},
   "source": [
    "### *Welcome to this program Mahdi!*"
   ]
  },
  {
   "cell_type": "markdown",
   "id": "bf5f3411-5914-4cbf-bbdf-a1f194f0c182",
   "metadata": {},
   "source": [
    "Using the `.format()` method, write code that takes the user's name and then displays the message:\n",
    " \"Welcome to this program, `user's name`!\""
   ]
  },
  {
   "cell_type": "code",
   "execution_count": 3,
   "id": "7af59e0d-8f01-4557-83dc-6ebedd009efb",
   "metadata": {},
   "outputs": [
    {
     "name": "stdin",
     "output_type": "stream",
     "text": [
      "Please type your name:  mahdi\n"
     ]
    },
    {
     "name": "stdout",
     "output_type": "stream",
     "text": [
      "Welcome to this program, mahdi!\n"
     ]
    }
   ],
   "source": [
    "usr_name = input(\"Please type your name: \")\n",
    "\n",
    "message = \"Welcome to this program, {}!\".format(usr_name)\n",
    "print(message)"
   ]
  },
  {
   "cell_type": "markdown",
   "id": "a530398a-e1c3-449b-92bf-a417d09315ab",
   "metadata": {},
   "source": [
    "***<font color=\"gold\">Resource:</font>*** [Pytopia](https://www.pytopia.ai/)"
   ]
  },
  {
   "cell_type": "markdown",
   "id": "3b9a8478-f453-4807-9bca-4cb8b03e19f1",
   "metadata": {},
   "source": [
    "### *Format string using positional indexing*"
   ]
  },
  {
   "cell_type": "markdown",
   "id": "6d0111ee-fb61-42b8-880b-1583a387c4e1",
   "metadata": {},
   "source": [
    "Using **positional indexing** insert the information into `mytext`, then print it. (*do not use empty placeholder*)"
   ]
  },
  {
   "cell_type": "markdown",
   "id": "5700b5e4-71fc-40f7-a15f-ccb6a751ef91",
   "metadata": {},
   "source": [
    "```python\n",
    "mytuple = (\"Darroudi\", \"Surrealist\", \"Miami\", \"1958\", \"Florida State Art Center\")\n",
    "\n",
    "mytext= \"{}’s paintings are defined as {} works. She was able to combine\\n\" \\\n",
    "        \"the delicacy and romantic spirit of Persian paintings with the elements of \\n\" \\\n",
    "        \"Surrealism.Darroudi's first solo exhibition was held in {}, Miami-Dade County, \\n\" \\\n",
    "        \"Florida, in {} at the invitation of the {}.\"\n",
    "```"
   ]
  },
  {
   "cell_type": "code",
   "execution_count": 4,
   "id": "c4c85c40-e778-4e97-aa19-e5878d5c3331",
   "metadata": {},
   "outputs": [],
   "source": [
    "mytuple = (\"Darroudi\", \"Surrealist\", \"Miami\", \"1958\", \"Florida State Art Center\")\n",
    "\n",
    "mytext= \"{name}’s paintings are defined as {style} works. She was able to combine\\n\" \\\n",
    "        \"the delicacy and romantic spirit of Persian paintings with the elements of \\n\" \\\n",
    "        \"Surrealism.Darroudi's first solo exhibition was held in {city}, Miami-Dade County, \\n\" \\\n",
    "        \"Florida, in {year} at the invitation of the {location}.\""
   ]
  },
  {
   "cell_type": "code",
   "execution_count": 5,
   "id": "5cd5f169-3735-4be5-99c9-9d72617e1348",
   "metadata": {},
   "outputs": [
    {
     "name": "stdout",
     "output_type": "stream",
     "text": [
      "Darroudi’s paintings are defined as Surrealist works. She was able to combine\n",
      "the delicacy and romantic spirit of Persian paintings with the elements of \n",
      "Surrealism.Darroudi's first solo exhibition was held in Miami, Miami-Dade County, \n",
      "Florida, in 1958 at the invitation of the Florida State Art Center.\n"
     ]
    }
   ],
   "source": [
    "print(mytext.format(mytuple[0], mytuple[1], mytuple[2], mytuple[3], mytuple[4]))"
   ]
  },
  {
   "cell_type": "markdown",
   "id": "6f13e61c-1c8b-4f92-9106-b4b7b5a01725",
   "metadata": {},
   "source": [
    "***<font color=\"gold\">Resource:</font>*** [Pytopia](https://www.pytopia.ai/)"
   ]
  },
  {
   "cell_type": "markdown",
   "id": "7c6948dd-3f83-4f89-b9ea-4c384f09cdff",
   "metadata": {},
   "source": [
    "### *Format string using name indexing*"
   ]
  },
  {
   "cell_type": "markdown",
   "id": "747af430-6733-45fd-87da-829771738838",
   "metadata": {},
   "source": [
    "Using **keyword arguments** complete the following phrase:\n",
    "```\n",
    "print(\"The area of a circle with radius {} is equal to {}\".format())\n",
    "```"
   ]
  },
  {
   "cell_type": "code",
   "execution_count": 14,
   "id": "828c815c-553a-4db6-a080-6ed71fb09b43",
   "metadata": {},
   "outputs": [
    {
     "name": "stdin",
     "output_type": "stream",
     "text": [
      "Enter the radius of the circle:  7\n"
     ]
    },
    {
     "name": "stdout",
     "output_type": "stream",
     "text": [
      "The area of a circle with radius 7.0 is equal to 153.86\n"
     ]
    }
   ],
   "source": [
    "radius = float(input(\"Enter the radius of the circle: \"))\n",
    "area = (radius ** 2) * 3.14\n",
    "\n",
    "print(\"The area of a circle with radius {radius} is equal to {area}\".format(radius=radius, area=area))"
   ]
  },
  {
   "cell_type": "markdown",
   "id": "e229b766-9d9e-4bbc-881d-732b4571c22c",
   "metadata": {},
   "source": [
    "***<font color=\"gold\">Resource:</font>*** [Pytopia](https://www.pytopia.ai/)"
   ]
  },
  {
   "cell_type": "markdown",
   "id": "cb94063c-0134-4f58-b354-d9662c08e490",
   "metadata": {},
   "source": [
    "### ***π** number with to 2 decimal places*"
   ]
  },
  {
   "cell_type": "markdown",
   "id": "48617ce9-39c8-4113-90ee-dbfa72509faa",
   "metadata": {},
   "source": [
    "You are given the number π to a precision of 20 decimal points. Please print these numbers with *two decimal* point:\n",
    "```python\n",
    "pi = 3.14159265358979323846\n",
    "```"
   ]
  },
  {
   "cell_type": "code",
   "execution_count": 1,
   "id": "56375597-db28-4ee7-91c9-b79ff6fde5a3",
   "metadata": {},
   "outputs": [
    {
     "name": "stdout",
     "output_type": "stream",
     "text": [
      "3.14\n"
     ]
    }
   ],
   "source": [
    "pi = 3.14159265358979323846\n",
    "\n",
    "print(f\"{pi:.2f}\")"
   ]
  },
  {
   "cell_type": "markdown",
   "id": "fc78ab70-f331-463d-a355-1d2fea472dd3",
   "metadata": {},
   "source": [
    "***<font color=\"gold\">Resource:</font>*** [Pytopia](https://www.pytopia.ai/)"
   ]
  },
  {
   "cell_type": "markdown",
   "id": "4538b97e-93af-43e5-ae80-8d2c9a55be88",
   "metadata": {},
   "source": [
    "### *Numbers of specified length*"
   ]
  },
  {
   "cell_type": "markdown",
   "id": "3440051b-c536-45df-98b0-fc69da479765",
   "metadata": {},
   "source": [
    "Please print the numbers in the list below in this format:\n",
    "```\n",
    "3.140000\n",
    "1.618000\n",
    "6.626068\n",
    "```\n",
    "```python\n",
    "N = [3.14,1.618,6.626068]\n",
    "```"
   ]
  },
  {
   "cell_type": "code",
   "execution_count": 19,
   "id": "c0d8fae1-62ac-44de-a103-2341b10154eb",
   "metadata": {},
   "outputs": [
    {
     "name": "stdout",
     "output_type": "stream",
     "text": [
      "3.140000\n",
      "1.618000\n",
      "6.626068\n"
     ]
    }
   ],
   "source": [
    "N = [3.14,1.618,6.626068]\n",
    "\n",
    "for num in N:\n",
    "    print(f\"{num:0<8}\")"
   ]
  },
  {
   "cell_type": "markdown",
   "id": "e350a5dd-c0c1-4f00-9ced-4c977ed48665",
   "metadata": {},
   "source": [
    "***<font color=\"gold\">Resource:</font>*** [Pytopia](https://www.pytopia.ai/)"
   ]
  },
  {
   "cell_type": "markdown",
   "id": "161409e4-bc6c-466d-81f7-da9cdb7369d8",
   "metadata": {},
   "source": [
    "### *Numbers of specified length with comma*"
   ]
  },
  {
   "cell_type": "markdown",
   "id": "a35fc2da-e9b7-49ae-a83a-d6a59be72ef7",
   "metadata": {},
   "source": [
    "The numbers below show the population of three different countries, please print the numbers below in this format:\n",
    "```\n",
    "005,421,241\n",
    "\n",
    "083,992,949\n",
    "\n",
    "331,002,651\n",
    "```\n",
    "```python\n",
    "N = [5421241, 83992949, 331002651]\n",
    "```"
   ]
  },
  {
   "cell_type": "markdown",
   "id": "a8e96949-02bf-4dbf-b62d-709abb2de2d3",
   "metadata": {},
   "source": [
    "***<font color=\"gold\">Resource:</font>*** [Pytopia](https://www.pytopia.ai/)"
   ]
  },
  {
   "cell_type": "markdown",
   "id": "a785d16e-c5c3-4348-a190-d29ba0342ddc",
   "metadata": {
    "jp-MarkdownHeadingCollapsed": true,
    "tags": []
   },
   "source": [
    "## Functions"
   ]
  },
  {
   "cell_type": "markdown",
   "id": "85154b36-f3a8-42a4-ae21-4182a37e844d",
   "metadata": {},
   "source": [
    "### *Characters Counter*"
   ]
  },
  {
   "cell_type": "markdown",
   "id": "2d5c4304-328e-42ee-a6f2-48e87efafa7d",
   "metadata": {},
   "source": [
    "Write a function `count_char()` which takes a string as an argument and counts the number of each character in a string and returns a dictionary where keys are characters and values are the number of characters in the string.\n",
    "\n",
    "*Example:*\n",
    "```python\n",
    ">>> count_char(\"abcdefgabc\") \n",
    "{'a': 2, 'b': 2, 'c': 2, 'd': 1, 'e': 1, 'f': 1, 'g': 1}\n",
    "```"
   ]
  },
  {
   "cell_type": "markdown",
   "id": "acfae120-e785-403c-bd0f-f6562bfddb69",
   "metadata": {},
   "source": [
    "**Solution 1:**"
   ]
  },
  {
   "cell_type": "code",
   "execution_count": 2,
   "id": "5c1b92c1-d72e-4257-b1f5-9482b4889596",
   "metadata": {},
   "outputs": [],
   "source": [
    "def count_char(text: str) -> dict:\n",
    "    \"\"\"\n",
    "    Calculate frequency of unique characters in a string.\n",
    "    \n",
    "    :param text: Input string\n",
    "    :returns: A dictionary of characters frequency.\n",
    "    \n",
    "    Example:\n",
    "    >>> count_char('aaabbc')\n",
    "    {'a': 3, 'b': 2, 'c': 1}\n",
    "    >>> count_char('')\n",
    "    {}\n",
    "    \"\"\"\n",
    "    char_freq = {char: text.count(char) for char in text}\n",
    "    return char_freq"
   ]
  },
  {
   "cell_type": "markdown",
   "id": "d21308ff-afa1-4420-8557-409da8f41bac",
   "metadata": {},
   "source": [
    "**Solution 2:**"
   ]
  },
  {
   "cell_type": "code",
   "execution_count": 7,
   "id": "1e988c73-3108-4d14-b5a9-9648f97f9f22",
   "metadata": {},
   "outputs": [],
   "source": [
    "def count_char(text: str) -> dict:\n",
    "    \"\"\"\n",
    "    Calculate frequency of unique characters in a string.\n",
    "    \n",
    "    :param text: Input string\n",
    "    :returns: A dictionary of characters frequency.\n",
    "    \n",
    "    Example:\n",
    "    >>> count_char('aaabbc')\n",
    "    {'a': 3, 'b': 2, 'c': 1}\n",
    "    >>> count_char('')\n",
    "    {}\n",
    "    \"\"\"\n",
    "    char_freq = {}\n",
    "    for char in text:\n",
    "        char_freq[char] = char_freq.get(char, 0) + 1\n",
    "    return char_freq"
   ]
  },
  {
   "cell_type": "code",
   "execution_count": 4,
   "id": "525de29c-ec3e-44e2-adc4-de519b4619c9",
   "metadata": {},
   "outputs": [
    {
     "data": {
      "text/plain": [
       "{'a': 2, 'b': 2, 'c': 2, 'd': 1, 'e': 1, 'f': 1, 'g': 1}"
      ]
     },
     "execution_count": 4,
     "metadata": {},
     "output_type": "execute_result"
    }
   ],
   "source": [
    "count_char(\"abcdefgabc\")"
   ]
  },
  {
   "cell_type": "markdown",
   "id": "5669f565-3c07-4b68-94ed-874a9c02856c",
   "metadata": {},
   "source": [
    "### *Make Sentence*"
   ]
  },
  {
   "cell_type": "code",
   "execution_count": 5,
   "id": "aaf3bd0a-0fed-4e7a-9dac-19ab16c05d40",
   "metadata": {},
   "outputs": [],
   "source": [
    "def make_sentence(subjects: list, verbs: list, objects: list) -> list:\n",
    "    \"\"\"\n",
    "    Generate all possible sentences\n",
    "    from input subjects, verbs and objects.\n",
    "    \n",
    "    :param subjects: Input sentences subjects\n",
    "    :param verbs: Input sentences verbs\n",
    "    :param objects: Input sentences objects\n",
    "    :returns: List of all possible sentences\n",
    "    \"\"\"\n",
    "    # Generate a list of all possible strings using a list comprehension with nested for loops\n",
    "    sentences = [f\"{subject} {verb} {obj}.\" for subject in subjects for verb in verbs for obj in objects]\n",
    "    return sentences"
   ]
  },
  {
   "cell_type": "code",
   "execution_count": 6,
   "id": "35ba0ef7-2ebf-42a8-a10a-64e1a766c3d0",
   "metadata": {},
   "outputs": [
    {
     "name": "stdout",
     "output_type": "stream",
     "text": [
      "['I Play Statistic.', 'I Play Python.', 'I Love Statistic.', 'I Love Python.', 'You Play Statistic.', 'You Play Python.', 'You Love Statistic.', 'You Love Python.']\n"
     ]
    }
   ],
   "source": [
    "subjects = [\"I\", \"You\"]\n",
    "verbs = [\"Play\", \"Love\"]\n",
    "objects = [\"Statistic\", \"Python\"]\n",
    "\n",
    "print(make_sentence(subjects, verbs, objects))"
   ]
  },
  {
   "cell_type": "markdown",
   "id": "8a2125b1-1755-47c4-8b92-56684baf56b3",
   "metadata": {},
   "source": [
    "### *Find Distance*"
   ]
  },
  {
   "cell_type": "code",
   "execution_count": 4,
   "id": "a49c9bc4-be61-44e8-83e8-f66de9490955",
   "metadata": {},
   "outputs": [],
   "source": [
    "import math\n",
    "\n",
    "def robot_moves(moves: list) -> float:\n",
    "    \"\"\"\n",
    "    Calculate the distance having robot moves in\n",
    "    UP, DOWN, RIGHT, and LEFT directions.\n",
    "    \n",
    "    :param moves: List of robot moves\n",
    "    :returns: Final robot distance from origin\n",
    "    \"\"\"\n",
    "    # Initial robot position\n",
    "    pos = [0, 0]\n",
    "    # Update robot position by each move\n",
    "    for dirc, stp in moves:\n",
    "        stp = float(stp)\n",
    "        if dirc == 'Right':\n",
    "            pos[0] += stp\n",
    "        elif dirc == 'LEFT':\n",
    "            pos[0] -= stp\n",
    "        elif dirc == 'UP':\n",
    "            pos[1] += stp\n",
    "        elif dirc == 'DOWN':\n",
    "            pos[1] -= stp\n",
    "    # Calculate distance between current position and initial position\n",
    "    distance = math.sqrt((pos[0] ** 2) + (pos[1] ** 2))\n",
    "    return distance"
   ]
  },
  {
   "cell_type": "code",
   "execution_count": 5,
   "id": "59a220f8-0fcf-4bcc-9d7a-3693583475e1",
   "metadata": {},
   "outputs": [
    {
     "name": "stdin",
     "output_type": "stream",
     "text": [
      "Enter direction and number of steps:  down 5\n",
      "Enter direction and number of steps:  up 6\n",
      "Enter direction and number of steps:  end\n"
     ]
    },
    {
     "name": "stdout",
     "output_type": "stream",
     "text": [
      "1.0\n"
     ]
    }
   ],
   "source": [
    "moves = []\n",
    "# Take moves from user in \"<direction> <steps>\" format\n",
    "while True:\n",
    "    move = input(\"Enter direction and number of steps: \").upper()\n",
    "    if move == 'END':\n",
    "        break\n",
    "    moves.append(tuple(move.split()))\n",
    "\n",
    "    \n",
    "dist_value = robot_moves(moves)\n",
    "print(dist_value)"
   ]
  },
  {
   "cell_type": "markdown",
   "id": "3553f1f8-cd85-460c-9012-9d28fa97872e",
   "metadata": {},
   "source": [
    "### *Bank Account*"
   ]
  },
  {
   "cell_type": "code",
   "execution_count": 6,
   "id": "315631c3-fa76-4a72-a1a8-38fdb86ba93c",
   "metadata": {},
   "outputs": [],
   "source": [
    "def transaction(trans_log: list) -> float:\n",
    "    \"\"\"\n",
    "    Calculate final user's amount of money by given transactions.\n",
    "    Note: The initial amount is 0.\n",
    "    \n",
    "    :param trans_log: A list of transactions\n",
    "    :returns: Final amount\n",
    "    \n",
    "    Example:\n",
    "    >>> transaction([('D 200'), ('W 100')])\n",
    "    100\n",
    "    \"\"\"\n",
    "    # Initial amount\n",
    "    amount = 0\n",
    "    # Update amount by each transaction\n",
    "    for tp, amt in trans_log:\n",
    "        amt = float(amt)\n",
    "        if tp == 'D':\n",
    "            amount += amt\n",
    "        elif tp == 'W':\n",
    "            amount -= amt\n",
    "    \n",
    "    return amount"
   ]
  },
  {
   "cell_type": "code",
   "execution_count": 2,
   "id": "0f829e47-0d96-4e4e-8c18-92abd836c50c",
   "metadata": {},
   "outputs": [
    {
     "name": "stdin",
     "output_type": "stream",
     "text": [
      "Please enter the transaction type and amount:  D 300\n",
      "Please enter the transaction type and amount:  d 300\n",
      "Please enter the transaction type and amount:  w 200\n",
      "Please enter the transaction type and amount:  d 100\n",
      "Please enter the transaction type and amount:  end\n"
     ]
    },
    {
     "name": "stdout",
     "output_type": "stream",
     "text": [
      "500\n"
     ]
    }
   ],
   "source": [
    "trans_log = []\n",
    "# Take transactions from user\n",
    "while True:\n",
    "    trans = input(\"Please enter the transaction type and amount: \").upper()\n",
    "    if trans == 'END':\n",
    "        break\n",
    "    trans_log.append(tuple(trans.split()))\n",
    "\n",
    "net_amount = transaction(trans_log)\n",
    "print(net_amount)"
   ]
  },
  {
   "cell_type": "markdown",
   "id": "9f1a9cc5-c97b-4ea9-89ac-9ca34a3c20c0",
   "metadata": {},
   "source": [
    "### *Upper & Lower Counter*"
   ]
  },
  {
   "cell_type": "code",
   "execution_count": 8,
   "id": "e6f631aa-6aa7-46ea-b4ac-31499c42d5ab",
   "metadata": {},
   "outputs": [],
   "source": [
    "def up_low_counter(string: str) -> dict:\n",
    "    \"\"\"\n",
    "    Take an string and return number of uppercase and lowercase letters as a dictionary.\n",
    "    Note: If there are no uppercase and lowercase letters, the corresponding key is not added in the dictionary.\n",
    "    \n",
    "    :param string: Input string\n",
    "    :returns: Number of uppercase and lowercase letters as a dictionary\n",
    "    \n",
    "    Example:\n",
    "    >>> up_low_counter(\"Hello world\"):\n",
    "    {'UPPER CASE': 1, 'LOWER CASE': 9}\n",
    "    >>> up_low_counter(\"this i mikel\")\n",
    "    {'LOWER CASE': 9}\n",
    "    \"\"\"\n",
    "    up_low_dict = {}\n",
    "    for char in string:\n",
    "        if char.isupper():\n",
    "            up_low_dict['UPPER CASE'] =  up_low_dict.get('UPPER CASE', 0) + 1\n",
    "        elif char.islower():\n",
    "            up_low_dict['LOWER CASE'] =  up_low_dict.get('LOWER CASE', 0) + 1\n",
    "    return up_low_dict"
   ]
  },
  {
   "cell_type": "code",
   "execution_count": 9,
   "id": "c539c036-4394-4698-a3fb-0659d1e4869c",
   "metadata": {},
   "outputs": [
    {
     "name": "stdin",
     "output_type": "stream",
     "text": [
      "Enter an string:  this i mikel\n"
     ]
    },
    {
     "name": "stdout",
     "output_type": "stream",
     "text": [
      "{'LOWER CASE': 10}\n"
     ]
    }
   ],
   "source": [
    "string = input(\"Enter an string: \")\n",
    "print(up_low_counter(string))"
   ]
  },
  {
   "cell_type": "markdown",
   "id": "dc669be8-85c2-4c5e-843a-b26260a9b51d",
   "metadata": {},
   "source": [
    "### *Find Code Pattern*"
   ]
  },
  {
   "cell_type": "code",
   "execution_count": 17,
   "id": "43203afd-3c09-49d9-9861-89a6af2c18f2",
   "metadata": {},
   "outputs": [],
   "source": [
    "def find_code(num_lst):\n",
    "    code = [0, 0, 7, 'x']\n",
    "    for num in num_lst:\n",
    "        if num == code[0]:\n",
    "            code.remove(num)\n",
    "    \n",
    "    return len(code) == 1"
   ]
  },
  {
   "cell_type": "code",
   "execution_count": 18,
   "id": "1a622e36-8ddf-4b6b-9f52-e3996870c978",
   "metadata": {},
   "outputs": [
    {
     "name": "stdout",
     "output_type": "stream",
     "text": [
      "False\n"
     ]
    }
   ],
   "source": [
    "print(find_code([1, 7, 2, 0, 4, 5, 0]))"
   ]
  },
  {
   "cell_type": "markdown",
   "id": "3ba2eaff-fea9-409e-a355-c1837ddd42cd",
   "metadata": {},
   "source": [
    "### *Simple Validation*"
   ]
  },
  {
   "cell_type": "code",
   "execution_count": 7,
   "id": "e4758d1a-4787-4575-8fc6-9e8855c0aef0",
   "metadata": {},
   "outputs": [],
   "source": [
    "def check_validation(**kwargs) -> list:\n",
    "    \"\"\"\n",
    "    Check if pairs of usernames and passwords are valid.\n",
    "    \n",
    "    :param kwargs: Dictionary of username password pairs\n",
    "    :returns: List of valid usernames\n",
    "    \n",
    "    Examples:\n",
    "    >>> check_validation(mahtab=\"1235678\", Ali=\"He3@lsa\", Amir=\"kLS45@l$\", Sina='Pass')\n",
    "    ['Amir']\n",
    "    \"\"\"\n",
    "    valid_users = []\n",
    "    # Check validation of every user\n",
    "    for name, psw in kwargs.items():\n",
    "        # Check the validation of username and passwoed\n",
    "        if check_name(name) and check_password(psw):\n",
    "            valid_users.append(name)\n",
    "    return valid_users\n",
    "        \n",
    "def check_name(name: str) -> bool:\n",
    "    \"\"\"\n",
    "    Check if the username is valid based on the rule.\n",
    "    Rule:\n",
    "        Username length must be grater than 4.\n",
    "    \n",
    "    :param name: User name\n",
    "    :returns: True if username is a valid one\n",
    "    \"\"\"\n",
    "    return len(name) >= 4\n",
    "        \n",
    "def check_password(password: str) -> bool:\n",
    "    \"\"\"\n",
    "    Check if password is valid based on the rules;\n",
    "    Rules:\n",
    "        - Password length must be greater than 6.\n",
    "        - Password should not contain only numbers.\n",
    "        - Password must have at least one Uppercase character.\n",
    "        \n",
    "    :param password: User password\n",
    "    :returns: True if password is a valid one\n",
    "    \n",
    "    Example:\n",
    "    >>> check_password('Ami213y')\n",
    "    True\n",
    "    >>>check_password('12345')\n",
    "    False\n",
    "    \"\"\"\n",
    "    # checker = False\n",
    "    if (len(password) >= 6) and (not password.isdigit()): # Another approach: + and password.lower() != password\n",
    "        for s in password:\n",
    "            if s.isupper():\n",
    "                # checker = True\n",
    "                # break\n",
    "                return True\n",
    "    return False"
   ]
  },
  {
   "cell_type": "code",
   "execution_count": 6,
   "id": "560280f1-7e70-482c-b846-02aead4099c8",
   "metadata": {},
   "outputs": [
    {
     "data": {
      "text/plain": [
       "['Amir']"
      ]
     },
     "execution_count": 9,
     "metadata": {},
     "output_type": "execute_result"
    }
   ],
   "source": [
    "check_validation(mahtab=\"1235678\", Ali=\"He3@lsa\", Amir=\"kLS45@l$\", Sina=\"Pass\")"
   ]
  },
  {
   "cell_type": "markdown",
   "id": "72e3ca2a-97fb-44e3-acf6-de6026fb18ae",
   "metadata": {},
   "source": [
    "### *Student Average Grade*"
   ]
  },
  {
   "cell_type": "code",
   "execution_count": 10,
   "id": "03a82e50-cf9d-4d51-bcd4-26a73ba8670a",
   "metadata": {},
   "outputs": [],
   "source": [
    "def student_grade(*args: float, student_name: str = \"Ali\") -> str:\n",
    "    \"\"\"\n",
    "    Calculate average of an student scores.\n",
    "    \n",
    "    :param args: A tuple of the student scores\n",
    "    :param student_name: Name of the student (Which is \"Ali\" by default)\n",
    "    :returns: A text in which the student's name and grade point average are mentioned\n",
    "    \n",
    "    Example:\n",
    "    >>> student_grade(17, 18, 19, 20, \"Mahdi\")\n",
    "    Mahdi get average score of 18.5\n",
    "    \"\"\"\n",
    "    avg = sum(args) / len(args)\n",
    "    message = f\"{student_name} get average score of {avg}\"\n",
    "    return message"
   ]
  },
  {
   "cell_type": "code",
   "execution_count": 11,
   "id": "17559bba-2edb-4bb1-9fdc-5ac426ccc0ed",
   "metadata": {},
   "outputs": [
    {
     "data": {
      "text/plain": [
       "'Ali get average score of 14.5'"
      ]
     },
     "execution_count": 11,
     "metadata": {},
     "output_type": "execute_result"
    }
   ],
   "source": [
    "student_grade(8,16.5,19)"
   ]
  },
  {
   "cell_type": "code",
   "execution_count": null,
   "id": "fc345500-2427-4727-b0c3-eb9deafde7e3",
   "metadata": {},
   "outputs": [
    {
     "data": {
      "text/plain": [
       "'Mahdi get average score of 18.5'"
      ]
     },
     "execution_count": 12,
     "metadata": {},
     "output_type": "execute_result"
    }
   ],
   "source": [
    "student_grade(20, 20, 19.75, 15.5, student_name=\"Mahdi\")"
   ]
  },
  {
   "cell_type": "markdown",
   "id": "55dac82f-472f-459b-9453-ffa84bac60dd",
   "metadata": {},
   "source": [
    "### *Count Letters*"
   ]
  },
  {
   "cell_type": "code",
   "execution_count": 29,
   "id": "8fb448ce-b65c-4635-bbd0-01888e7cb569",
   "metadata": {},
   "outputs": [],
   "source": [
    "def char_freq(text):\n",
    "    char_num = {char: text.count(char) for char in sorted(set(text))}\n",
    "    # for char in sorted(set(text)):\n",
    "    #     char_num[char] = text.count(char)\n",
    "    return char_num"
   ]
  },
  {
   "cell_type": "code",
   "execution_count": 32,
   "id": "bfc3d618-0192-4e24-94a3-31c598301ee5",
   "metadata": {},
   "outputs": [
    {
     "data": {
      "text/plain": [
       "{'a': 7, 'b': 14, 'c': 3, 'd': 3, 'x': 1}"
      ]
     },
     "execution_count": 32,
     "metadata": {},
     "output_type": "execute_result"
    }
   ],
   "source": [
    "char_freq(\"xcabbabbdbabdbdbabababcbcbab\")"
   ]
  },
  {
   "cell_type": "markdown",
   "id": "c2a61cd2-91a0-4ede-bbca-b22cbd2cc563",
   "metadata": {},
   "source": [
    "### *Find Pangram*"
   ]
  },
  {
   "cell_type": "markdown",
   "id": "ce0441b2-55d6-4cc7-982c-43f014f2ffb7",
   "metadata": {},
   "source": [
    "**solution 1:**"
   ]
  },
  {
   "cell_type": "code",
   "execution_count": null,
   "id": "cbd3dd9d-5ac4-47ef-80fc-4861577b2764",
   "metadata": {},
   "outputs": [],
   "source": [
    "def is_pangram(string):\n",
    "    alphabets = \"abcdefghijklmnopqrstuvwxyz\"\n",
    "    checker = True\n",
    "    for letter in alphabets:\n",
    "        if letter not in string:\n",
    "            checker = False\n",
    "            break\n",
    "    return checker"
   ]
  },
  {
   "cell_type": "markdown",
   "id": "754ba4a7-26e7-45c5-b974-4d94448c912c",
   "metadata": {},
   "source": [
    "**solution 2:**"
   ]
  },
  {
   "cell_type": "code",
   "execution_count": 16,
   "id": "fa4c7b6f-5ea3-410a-8bbc-e0aa21abf99e",
   "metadata": {},
   "outputs": [],
   "source": [
    "import string\n",
    "\n",
    "def is_pangram(sentence: str) -> bool:\n",
    "    \"\"\"\n",
    "    Check if a sentence is a pangram.\n",
    "    \n",
    "    :param sentence: Input sentence to check\n",
    "    :returns: True if sentence is a pangram\n",
    "    \n",
    "    Example:\n",
    "    >>> \n",
    "    \"\"\"\n",
    "    alphabets = set(string.ascii_lowercase)\n",
    "    for letter in sentence:\n",
    "        if letter.lower() in alphabets:\n",
    "            alphabets.remove(letter.lower())\n",
    "    return not alphabets"
   ]
  },
  {
   "cell_type": "code",
   "execution_count": 17,
   "id": "f558aa3c-6ac4-4a81-8e6f-1ee90d4925c4",
   "metadata": {},
   "outputs": [
    {
     "data": {
      "text/plain": [
       "True"
      ]
     },
     "execution_count": 17,
     "metadata": {},
     "output_type": "execute_result"
    }
   ],
   "source": [
    "is_pangram(\"abcdefghijklmnopqrstuvwxyz\")"
   ]
  },
  {
   "cell_type": "markdown",
   "id": "eaf4810f-1c01-4d03-8946-3ef8352cd858",
   "metadata": {},
   "source": [
    "### *Palindrome*"
   ]
  },
  {
   "cell_type": "code",
   "execution_count": 57,
   "id": "444a7d78-cdd6-4d77-b1e0-da6c9f7728f8",
   "metadata": {},
   "outputs": [],
   "source": [
    "def is_palindrome(word):\n",
    "    return word.lower() == word.lower()[::-1]"
   ]
  },
  {
   "cell_type": "code",
   "execution_count": 63,
   "id": "415702a1-8244-4d6b-b2a1-f64a59503fb2",
   "metadata": {},
   "outputs": [
    {
     "data": {
      "text/plain": [
       "True"
      ]
     },
     "execution_count": 63,
     "metadata": {},
     "output_type": "execute_result"
    }
   ],
   "source": [
    "is_palindrome(\"radar\")"
   ]
  },
  {
   "cell_type": "markdown",
   "id": "a0eea0fe-d35c-4401-8621-18c44653fa8d",
   "metadata": {},
   "source": [
    "### *Triangular Number*"
   ]
  },
  {
   "cell_type": "code",
   "execution_count": 12,
   "id": "275b8227-7dc0-4043-a48c-3779a575a457",
   "metadata": {},
   "outputs": [],
   "source": [
    "def triangular_number(n):\n",
    "    tn = int((n * (n + 1)) / 2)\n",
    "    return tn"
   ]
  },
  {
   "cell_type": "code",
   "execution_count": 14,
   "id": "fc77a066-6249-423b-b985-2f3724282d11",
   "metadata": {},
   "outputs": [
    {
     "name": "stdout",
     "output_type": "stream",
     "text": [
      "15\n"
     ]
    }
   ],
   "source": [
    "print(triangular_number(5))"
   ]
  },
  {
   "cell_type": "markdown",
   "id": "53d17024-d81b-4840-9042-f247d6326fdf",
   "metadata": {},
   "source": [
    "### *Find the Longest and Shortest Word*"
   ]
  },
  {
   "cell_type": "code",
   "execution_count": 1,
   "id": "d3b41dd8-3b50-45f0-8302-e6501d3142b0",
   "metadata": {},
   "outputs": [],
   "source": [
    "def shortest_longest_words(string):\n",
    "    words_list = string.split()\n",
    "    longest_word = shortest_word = words_list[0]\n",
    "    for word in words_list:\n",
    "        if len(word) > len(longest_word):\n",
    "                longest_word = word\n",
    "        elif len(word) < len(shortest_word):\n",
    "            shortest_word = word\n",
    "    \n",
    "    print(f\"\"\"\n",
    "    Original String:\n",
    "    {string}\n",
    "    Shortest word: {shortest_word}\n",
    "    Longest word: {longest_word}\n",
    "    \"\"\")"
   ]
  },
  {
   "cell_type": "code",
   "execution_count": 2,
   "id": "3378469d-afe2-4d5d-acd2-363a5243fb37",
   "metadata": {},
   "outputs": [
    {
     "name": "stdin",
     "output_type": "stream",
     "text": [
      "Please Enter an string here:  Pseudo code is a term which is often used in programming and algorithm based fields. It is a methodology that allows\n"
     ]
    },
    {
     "name": "stdout",
     "output_type": "stream",
     "text": [
      "\n",
      "    Original String:\n",
      "    Pseudo code is a term which is often used in programming and algorithm based fields. It is a methodology that allows\n",
      "    Shortest word: a\n",
      "    Longest word: programming\n",
      "    \n"
     ]
    }
   ],
   "source": [
    "text = input(\"Please Enter an string here:\")\n",
    "shortest_longest_words(text)"
   ]
  },
  {
   "cell_type": "markdown",
   "id": "52488490-e521-4d6a-b59a-6d3155502724",
   "metadata": {},
   "source": [
    "### *Fizz Buzz Exercise*"
   ]
  },
  {
   "cell_type": "code",
   "execution_count": 1,
   "id": "df907632-9821-4e2d-850a-ab736bb0d9d1",
   "metadata": {},
   "outputs": [],
   "source": [
    "def fiz_buz(fizz: int, buzz: int):\n",
    "    \"\"\"\n",
    "    Print numbers from 1 to 10 based on the conditions.\n",
    "    \n",
    "    Conditions:\n",
    "        - For multiples of fizz print \"Fizz\" instead of the number.\n",
    "        - For multiples of buzz print \"Buzz\" instead of the number.\n",
    "        - For numbers which are multiples of both three and five print \"FizzBuzz\" instead.\n",
    "        \n",
    "    :param fizz: First coefficient\n",
    "    :param buzz: Second coefficient\n",
    "    \"\"\"\n",
    "    for i in range(1, 101):\n",
    "        if i % fizz == 0 and i % buzz == 0:\n",
    "            print(f\"{i}: FizzBuzz\")\n",
    "        elif i % fizz == 0:\n",
    "            print(f\"{i}: Fizz\")\n",
    "        elif i % buzz == 0:\n",
    "            print(f\"{i}: Buzz\")\n",
    "        else:\n",
    "            print(f\"{i}: {i}\")"
   ]
  },
  {
   "cell_type": "code",
   "execution_count": 2,
   "id": "7244ae1b-4544-44a4-a7b0-e56a6931911c",
   "metadata": {},
   "outputs": [
    {
     "name": "stdout",
     "output_type": "stream",
     "text": [
      "1: 1\n",
      "2: 2\n",
      "3: Fizz\n",
      "4: 4\n",
      "5: Buzz\n",
      "6: Fizz\n",
      "7: 7\n",
      "8: 8\n",
      "9: Fizz\n",
      "10: Buzz\n",
      "11: 11\n",
      "12: Fizz\n",
      "13: 13\n",
      "14: 14\n",
      "15: FizzBuzz\n",
      "16: 16\n",
      "17: 17\n",
      "18: Fizz\n",
      "19: 19\n",
      "20: Buzz\n",
      "21: Fizz\n",
      "22: 22\n",
      "23: 23\n",
      "24: Fizz\n",
      "25: Buzz\n",
      "26: 26\n",
      "27: Fizz\n",
      "28: 28\n",
      "29: 29\n",
      "30: FizzBuzz\n",
      "31: 31\n",
      "32: 32\n",
      "33: Fizz\n",
      "34: 34\n",
      "35: Buzz\n",
      "36: Fizz\n",
      "37: 37\n",
      "38: 38\n",
      "39: Fizz\n",
      "40: Buzz\n",
      "41: 41\n",
      "42: Fizz\n",
      "43: 43\n",
      "44: 44\n",
      "45: FizzBuzz\n",
      "46: 46\n",
      "47: 47\n",
      "48: Fizz\n",
      "49: 49\n",
      "50: Buzz\n",
      "51: Fizz\n",
      "52: 52\n",
      "53: 53\n",
      "54: Fizz\n",
      "55: Buzz\n",
      "56: 56\n",
      "57: Fizz\n",
      "58: 58\n",
      "59: 59\n",
      "60: FizzBuzz\n",
      "61: 61\n",
      "62: 62\n",
      "63: Fizz\n",
      "64: 64\n",
      "65: Buzz\n",
      "66: Fizz\n",
      "67: 67\n",
      "68: 68\n",
      "69: Fizz\n",
      "70: Buzz\n",
      "71: 71\n",
      "72: Fizz\n",
      "73: 73\n",
      "74: 74\n",
      "75: FizzBuzz\n",
      "76: 76\n",
      "77: 77\n",
      "78: Fizz\n",
      "79: 79\n",
      "80: Buzz\n",
      "81: Fizz\n",
      "82: 82\n",
      "83: 83\n",
      "84: Fizz\n",
      "85: Buzz\n",
      "86: 86\n",
      "87: Fizz\n",
      "88: 88\n",
      "89: 89\n",
      "90: FizzBuzz\n",
      "91: 91\n",
      "92: 92\n",
      "93: Fizz\n",
      "94: 94\n",
      "95: Buzz\n",
      "96: Fizz\n",
      "97: 97\n",
      "98: 98\n",
      "99: Fizz\n",
      "100: Buzz\n"
     ]
    }
   ],
   "source": [
    "fiz_buz(fizz=3, buzz=5)"
   ]
  },
  {
   "cell_type": "markdown",
   "id": "4dec7e25-9f66-49ba-8218-effa53a94106",
   "metadata": {
    "jp-MarkdownHeadingCollapsed": true,
    "tags": []
   },
   "source": [
    "## Object Oriented programming"
   ]
  },
  {
   "cell_type": "markdown",
   "id": "472a2e7f-c9d1-4e94-9478-12cba465cd90",
   "metadata": {},
   "source": [
    "### *Empty Class*"
   ]
  },
  {
   "cell_type": "code",
   "execution_count": 7,
   "id": "01d9c677-568d-4938-8386-49031cca8a32",
   "metadata": {},
   "outputs": [],
   "source": [
    "class Vehicle:\n",
    "    pass"
   ]
  },
  {
   "cell_type": "markdown",
   "id": "70b8e343-7ffd-4998-badc-813c98579bcf",
   "metadata": {},
   "source": [
    "### *Vehicle Class*"
   ]
  },
  {
   "cell_type": "code",
   "execution_count": 48,
   "id": "a269e954-c3a3-4100-8471-dce4b88601ba",
   "metadata": {},
   "outputs": [],
   "source": [
    "class Vehicle:\n",
    "    def __init__(self, max_speed, mileage):\n",
    "        self.max_speed = max_speed\n",
    "        self.mileage = mileage"
   ]
  },
  {
   "cell_type": "code",
   "execution_count": 50,
   "id": "3572e1c6-3921-4caa-a479-de60a4a30dc1",
   "metadata": {},
   "outputs": [
    {
     "name": "stdout",
     "output_type": "stream",
     "text": [
      "320 650\n"
     ]
    }
   ],
   "source": [
    "tesla = Vehicle(320, 650)\n",
    "print(tesla.max_speed, tesla.mileage)"
   ]
  },
  {
   "cell_type": "markdown",
   "id": "47c3a5ef-10a0-40b1-b8ef-542e612bb818",
   "metadata": {},
   "source": [
    "### *Vehicle and Bus Class*"
   ]
  },
  {
   "cell_type": "code",
   "execution_count": 3,
   "id": "6d117727-57a6-463e-a908-6dede908dbb6",
   "metadata": {},
   "outputs": [],
   "source": [
    "class Vehicle:\n",
    "    \n",
    "    def __init__(self, name, max_speed, mileage):\n",
    "        self.name = name\n",
    "        self.max_speed = max_speed\n",
    "        self.mileage = mileage\n",
    "\n",
    "class Bus(Vehicle):\n",
    "    pass"
   ]
  },
  {
   "cell_type": "code",
   "execution_count": 4,
   "id": "6bce8aac-cd29-4b72-b752-06d6647b5f14",
   "metadata": {},
   "outputs": [],
   "source": [
    "school_bus = Bus('School Bus', 180, 10000)"
   ]
  },
  {
   "cell_type": "markdown",
   "id": "ec1167d9-e682-4184-94b2-821ae9e251e1",
   "metadata": {},
   "source": [
    "### *Vehicle and Bus fare amount*"
   ]
  },
  {
   "cell_type": "code",
   "execution_count": 31,
   "id": "3348143b-2f14-4305-ba27-c011863546b0",
   "metadata": {},
   "outputs": [],
   "source": [
    "class Vehicle:\n",
    "    def __init__(self, max_speed, mileage, capacity):\n",
    "        self.max_speed = max_speed\n",
    "        self.mileage = mileage\n",
    "        self.capacity = capacity\n",
    "\n",
    "    def fare(self):\n",
    "        return self.capacity * 100"
   ]
  },
  {
   "cell_type": "code",
   "execution_count": 33,
   "id": "e27a825e-9a3e-4910-90af-c5a207cc4396",
   "metadata": {},
   "outputs": [],
   "source": [
    "class Bus(Vehicle):\n",
    "    \n",
    "    def fare(self):\n",
    "        return super().fare() * 1.1"
   ]
  },
  {
   "cell_type": "code",
   "execution_count": 37,
   "id": "f1d7975c-7356-4520-93db-56b8854e559e",
   "metadata": {},
   "outputs": [
    {
     "name": "stdout",
     "output_type": "stream",
     "text": [
      "Total bus fare is: 5500.0.\n"
     ]
    }
   ],
   "source": [
    "school_bus = Bus(180, 5000, 50)\n",
    "print(f'Total bus fare is: {school_bus.fare()}.')"
   ]
  },
  {
   "cell_type": "markdown",
   "id": "37852519-4fa3-44b1-98ab-c7ae7fedffa8",
   "metadata": {},
   "source": [
    "### *Point Class (Part #1)*"
   ]
  },
  {
   "cell_type": "code",
   "execution_count": 51,
   "id": "2f19c18f-25eb-4cb9-b9e1-0201e655997a",
   "metadata": {},
   "outputs": [],
   "source": [
    "class Point:\n",
    "    \n",
    "    def __init__(self, x_value, y_value):\n",
    "        self.x_value = x_value\n",
    "        self.y_value = y_value\n",
    "        \n",
    "    def __str__(self):\n",
    "        return f'{self.__class__.__name__}({self.x_value}, {self.y_value})'\n",
    "    \n",
    "    def __repr__(self):\n",
    "        return f'{self.__class__.__name__}({self.x_value}, {self.y_value})'"
   ]
  },
  {
   "cell_type": "code",
   "execution_count": 44,
   "id": "56c9229f-8a36-499f-8062-adf0419ffffc",
   "metadata": {},
   "outputs": [
    {
     "name": "stdout",
     "output_type": "stream",
     "text": [
      "Point(3, 4)\n"
     ]
    }
   ],
   "source": [
    "p1 = Point(3, 4)\n",
    "print(p1)"
   ]
  },
  {
   "cell_type": "markdown",
   "id": "be208d8f-d06f-4acf-a1bb-7566f276926b",
   "metadata": {},
   "source": [
    "### *Point Class (Part #2): Euclidean Distance*"
   ]
  },
  {
   "cell_type": "code",
   "execution_count": 11,
   "id": "25b70bd4-ff8e-41e8-a4e5-13fcdd2ff02d",
   "metadata": {},
   "outputs": [],
   "source": [
    "class Point:\n",
    "    \n",
    "    def __init__(self, x, y):\n",
    "        self.x = x\n",
    "        self.y = y\n",
    "    \n",
    "    def __abs__(self):\n",
    "        return (self.x ** 2 + self.y **2) ** 0.5"
   ]
  },
  {
   "cell_type": "code",
   "execution_count": 12,
   "id": "6bff3031-156b-4ba6-ab29-e434ee2e420b",
   "metadata": {},
   "outputs": [
    {
     "data": {
      "text/plain": [
       "10.0"
      ]
     },
     "execution_count": 12,
     "metadata": {},
     "output_type": "execute_result"
    }
   ],
   "source": [
    "p = Point(6, 8)\n",
    "abs(p)"
   ]
  },
  {
   "cell_type": "markdown",
   "id": "48982755-4822-4549-a50c-3612be6e367d",
   "metadata": {},
   "source": [
    "### *Point Class (Part #3): Sorting*"
   ]
  },
  {
   "cell_type": "code",
   "execution_count": 39,
   "id": "be04d31d-f99a-45b0-aa18-eb85ed602ec9",
   "metadata": {},
   "outputs": [],
   "source": [
    "class Point:\n",
    "    \n",
    "    def __init__(self, x, y):\n",
    "        self.x = x\n",
    "        self.y = y\n",
    "        \n",
    "    def __repr__(self):\n",
    "        return f'{self.__class__.__name__}({self.x}, {self.y})'\n",
    "    \n",
    "    def __abs__(self):\n",
    "        return (self.x ** 2 + self.y **2) ** 0.5\n",
    "    \n",
    "    # This is a greater than operation\n",
    "    def __gt__(self, obj):\n",
    "        return abs(self) > abs(obj)"
   ]
  },
  {
   "cell_type": "code",
   "execution_count": 37,
   "id": "388a21d3-ab20-4969-b596-63bea853b1ba",
   "metadata": {},
   "outputs": [
    {
     "data": {
      "text/plain": [
       "False"
      ]
     },
     "execution_count": 37,
     "metadata": {},
     "output_type": "execute_result"
    }
   ],
   "source": [
    "Point(3, 4) > Point(9, 11)"
   ]
  },
  {
   "cell_type": "code",
   "execution_count": 40,
   "id": "c9a72642-3ab5-4a57-8fcf-fd729cb5a830",
   "metadata": {},
   "outputs": [],
   "source": [
    "my_points = [Point(3, 4), Point(10, 12), Point(6, 8)]"
   ]
  },
  {
   "cell_type": "code",
   "execution_count": 41,
   "id": "b17de813-6b92-4e28-9dd4-3ceab3ee1275",
   "metadata": {},
   "outputs": [
    {
     "data": {
      "text/plain": [
       "[Point(3, 4), Point(6, 8), Point(10, 12)]"
      ]
     },
     "execution_count": 41,
     "metadata": {},
     "output_type": "execute_result"
    }
   ],
   "source": [
    "sorted(my_points)"
   ]
  },
  {
   "cell_type": "markdown",
   "id": "a457fa9c-4d41-4bc0-a330-16c1f02ec9bc",
   "metadata": {},
   "source": [
    "### *Point Class (Part #4): n Demensional Points*"
   ]
  },
  {
   "cell_type": "code",
   "execution_count": 1,
   "id": "c48b22ac-2940-428a-9dac-96c483520928",
   "metadata": {},
   "outputs": [],
   "source": [
    "class Point:\n",
    "    \n",
    "    def __init__(self, *args):\n",
    "        self.vector = args\n",
    "    \n",
    "    def __abs__(self):\n",
    "        sum_values = sum([item ** 2 for item in self.vector])\n",
    "        return sum_values ** (1 / len(self.vector))\n",
    "    \n",
    "    # This is a greater than operation\n",
    "    def __gt__(self, obj):\n",
    "        return abs(self) > abs(obj)\n",
    "            \n",
    "    def __repr__(self):\n",
    "        return f'{self.__class__.__name__}{self.vector}'"
   ]
  },
  {
   "cell_type": "code",
   "execution_count": 44,
   "id": "f4605e3a-52bc-496e-b75a-46fa5c47cc32",
   "metadata": {},
   "outputs": [
    {
     "data": {
      "text/plain": [
       "[Point(2, 2, 2, 2), Point(3, 4, 5), Point(6, 8), Point(9,)]"
      ]
     },
     "execution_count": 44,
     "metadata": {},
     "output_type": "execute_result"
    }
   ],
   "source": [
    "my_points = [Point(3, 4, 5), Point(6, 8), Point(2, 2, 2, 2), Point(9)]\n",
    "sorted(my_points)"
   ]
  }
 ],
 "metadata": {
  "kernelspec": {
   "display_name": "Python 3 (ipykernel)",
   "language": "python",
   "name": "python3"
  },
  "language_info": {
   "codemirror_mode": {
    "name": "ipython",
    "version": 3
   },
   "file_extension": ".py",
   "mimetype": "text/x-python",
   "name": "python",
   "nbconvert_exporter": "python",
   "pygments_lexer": "ipython3",
   "version": "3.10.9"
  }
 },
 "nbformat": 4,
 "nbformat_minor": 5
}
