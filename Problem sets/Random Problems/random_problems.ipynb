{
 "cells": [
  {
   "cell_type": "markdown",
   "id": "edb5a1be-9513-44e0-937c-a8af01194625",
   "metadata": {},
   "source": [
    "# Random Problems"
   ]
  },
  {
   "cell_type": "markdown",
   "id": "b5dc28ac-487e-407f-9562-df04812c054b",
   "metadata": {},
   "source": [
    "***Here I gathered some problems t 😉🔥.***"
   ]
  },
  {
   "cell_type": "markdown",
   "id": "ac108290-f261-460c-b071-ced8a19b3154",
   "metadata": {},
   "source": [
    "**Author:** *Mahdi Rafati*"
   ]
  },
  {
   "cell_type": "markdown",
   "id": "76e26a18-daef-438b-bd11-8009f972020e",
   "metadata": {},
   "source": [
    "---"
   ]
  },
  {
   "cell_type": "markdown",
   "id": "9c7ff26a-9ee2-49da-b04b-169ae73f2f82",
   "metadata": {},
   "source": [
    "### *Fibonacci nth number*"
   ]
  },
  {
   "cell_type": "markdown",
   "id": "ef5d6cd7-1874-41e9-a5f9-1e20bd1e153e",
   "metadata": {},
   "source": [
    "Write a function that receives the number `n` as input and prints the Fibonacci number <u>from the first to the nth</u>.\n",
    "> ***Note:*** Implement using generators."
   ]
  },
  {
   "cell_type": "code",
   "execution_count": 10,
   "id": "00524052-cef1-4d7b-8e92-93a179cc39c8",
   "metadata": {},
   "outputs": [],
   "source": [
    "def fib(n: int) -> None:\n",
    "    num1, num2 = 0, 1\n",
    "    yield num1\n",
    "    yield num2\n",
    "    for i in range(3, n+1):\n",
    "        num1, num2 = num2, num1 + num2\n",
    "        yield num2"
   ]
  },
  {
   "cell_type": "code",
   "execution_count": 11,
   "id": "19a56b9c-e017-4571-b1e9-bc43ca55cac3",
   "metadata": {},
   "outputs": [
    {
     "name": "stdout",
     "output_type": "stream",
     "text": [
      "0 1 1 2 3 5 8 13 21 34 "
     ]
    }
   ],
   "source": [
    "for i in fib(10):\n",
    "    print(i, end=' ')"
   ]
  }
 ],
 "metadata": {
  "kernelspec": {
   "display_name": "Python 3 (ipykernel)",
   "language": "python",
   "name": "python3"
  },
  "language_info": {
   "codemirror_mode": {
    "name": "ipython",
    "version": 3
   },
   "file_extension": ".py",
   "mimetype": "text/x-python",
   "name": "python",
   "nbconvert_exporter": "python",
   "pygments_lexer": "ipython3",
   "version": "3.10.9"
  }
 },
 "nbformat": 4,
 "nbformat_minor": 5
}
